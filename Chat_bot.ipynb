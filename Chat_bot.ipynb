{
  "nbformat": 4,
  "nbformat_minor": 0,
  "metadata": {
    "colab": {
      "provenance": [],
      "gpuType": "T4",
      "mount_file_id": "1O-nmBD7GJ-NJRQ5tlpQt9j3IXZ7GI7z7",
      "authorship_tag": "ABX9TyM+dHsM22Q89Dc6rsXQ/YWs",
      "include_colab_link": true
    },
    "kernelspec": {
      "name": "python3",
      "display_name": "Python 3"
    },
    "language_info": {
      "name": "python"
    },
    "widgets": {
      "application/vnd.jupyter.widget-state+json": {
        "cb5bacd16eed45fdb3416fa380c68ffc": {
          "model_module": "@jupyter-widgets/controls",
          "model_name": "HBoxModel",
          "model_module_version": "1.5.0",
          "state": {
            "_dom_classes": [],
            "_model_module": "@jupyter-widgets/controls",
            "_model_module_version": "1.5.0",
            "_model_name": "HBoxModel",
            "_view_count": null,
            "_view_module": "@jupyter-widgets/controls",
            "_view_module_version": "1.5.0",
            "_view_name": "HBoxView",
            "box_style": "",
            "children": [
              "IPY_MODEL_8e25a67368b8451ab8c1c7221f7eb542",
              "IPY_MODEL_28ff77be3a01422d913c1b1d716ed799",
              "IPY_MODEL_77e766d929fe4b65a4745268ba6b7694"
            ],
            "layout": "IPY_MODEL_302f399889bf449792a74a972bb655f2"
          }
        },
        "8e25a67368b8451ab8c1c7221f7eb542": {
          "model_module": "@jupyter-widgets/controls",
          "model_name": "HTMLModel",
          "model_module_version": "1.5.0",
          "state": {
            "_dom_classes": [],
            "_model_module": "@jupyter-widgets/controls",
            "_model_module_version": "1.5.0",
            "_model_name": "HTMLModel",
            "_view_count": null,
            "_view_module": "@jupyter-widgets/controls",
            "_view_module_version": "1.5.0",
            "_view_name": "HTMLView",
            "description": "",
            "description_tooltip": null,
            "layout": "IPY_MODEL_3df8d750f8f348df8a022d4f2f0ee6f7",
            "placeholder": "​",
            "style": "IPY_MODEL_edcb0738ef6c4227a8e971282541fde0",
            "value": ""
          }
        },
        "28ff77be3a01422d913c1b1d716ed799": {
          "model_module": "@jupyter-widgets/controls",
          "model_name": "FloatProgressModel",
          "model_module_version": "1.5.0",
          "state": {
            "_dom_classes": [],
            "_model_module": "@jupyter-widgets/controls",
            "_model_module_version": "1.5.0",
            "_model_name": "FloatProgressModel",
            "_view_count": null,
            "_view_module": "@jupyter-widgets/controls",
            "_view_module_version": "1.5.0",
            "_view_name": "ProgressView",
            "bar_style": "success",
            "description": "",
            "description_tooltip": null,
            "layout": "IPY_MODEL_92f01955658b4401a72edb84be97a4f4",
            "max": 1,
            "min": 0,
            "orientation": "horizontal",
            "style": "IPY_MODEL_ce93c2fc9d9c472fa20afa5361489019",
            "value": 1
          }
        },
        "77e766d929fe4b65a4745268ba6b7694": {
          "model_module": "@jupyter-widgets/controls",
          "model_name": "HTMLModel",
          "model_module_version": "1.5.0",
          "state": {
            "_dom_classes": [],
            "_model_module": "@jupyter-widgets/controls",
            "_model_module_version": "1.5.0",
            "_model_name": "HTMLModel",
            "_view_count": null,
            "_view_module": "@jupyter-widgets/controls",
            "_view_module_version": "1.5.0",
            "_view_name": "HTMLView",
            "description": "",
            "description_tooltip": null,
            "layout": "IPY_MODEL_5d25f90a62d549eb9720e86d8f282d20",
            "placeholder": "​",
            "style": "IPY_MODEL_3b42375282ff4604a60156f2459b96e4",
            "value": " 7551302/? [01:00&lt;00:00, 153407.80it/s]"
          }
        },
        "302f399889bf449792a74a972bb655f2": {
          "model_module": "@jupyter-widgets/base",
          "model_name": "LayoutModel",
          "model_module_version": "1.2.0",
          "state": {
            "_model_module": "@jupyter-widgets/base",
            "_model_module_version": "1.2.0",
            "_model_name": "LayoutModel",
            "_view_count": null,
            "_view_module": "@jupyter-widgets/base",
            "_view_module_version": "1.2.0",
            "_view_name": "LayoutView",
            "align_content": null,
            "align_items": null,
            "align_self": null,
            "border": null,
            "bottom": null,
            "display": null,
            "flex": null,
            "flex_flow": null,
            "grid_area": null,
            "grid_auto_columns": null,
            "grid_auto_flow": null,
            "grid_auto_rows": null,
            "grid_column": null,
            "grid_gap": null,
            "grid_row": null,
            "grid_template_areas": null,
            "grid_template_columns": null,
            "grid_template_rows": null,
            "height": null,
            "justify_content": null,
            "justify_items": null,
            "left": null,
            "margin": null,
            "max_height": null,
            "max_width": null,
            "min_height": null,
            "min_width": null,
            "object_fit": null,
            "object_position": null,
            "order": null,
            "overflow": null,
            "overflow_x": null,
            "overflow_y": null,
            "padding": null,
            "right": null,
            "top": null,
            "visibility": null,
            "width": null
          }
        },
        "3df8d750f8f348df8a022d4f2f0ee6f7": {
          "model_module": "@jupyter-widgets/base",
          "model_name": "LayoutModel",
          "model_module_version": "1.2.0",
          "state": {
            "_model_module": "@jupyter-widgets/base",
            "_model_module_version": "1.2.0",
            "_model_name": "LayoutModel",
            "_view_count": null,
            "_view_module": "@jupyter-widgets/base",
            "_view_module_version": "1.2.0",
            "_view_name": "LayoutView",
            "align_content": null,
            "align_items": null,
            "align_self": null,
            "border": null,
            "bottom": null,
            "display": null,
            "flex": null,
            "flex_flow": null,
            "grid_area": null,
            "grid_auto_columns": null,
            "grid_auto_flow": null,
            "grid_auto_rows": null,
            "grid_column": null,
            "grid_gap": null,
            "grid_row": null,
            "grid_template_areas": null,
            "grid_template_columns": null,
            "grid_template_rows": null,
            "height": null,
            "justify_content": null,
            "justify_items": null,
            "left": null,
            "margin": null,
            "max_height": null,
            "max_width": null,
            "min_height": null,
            "min_width": null,
            "object_fit": null,
            "object_position": null,
            "order": null,
            "overflow": null,
            "overflow_x": null,
            "overflow_y": null,
            "padding": null,
            "right": null,
            "top": null,
            "visibility": null,
            "width": null
          }
        },
        "edcb0738ef6c4227a8e971282541fde0": {
          "model_module": "@jupyter-widgets/controls",
          "model_name": "DescriptionStyleModel",
          "model_module_version": "1.5.0",
          "state": {
            "_model_module": "@jupyter-widgets/controls",
            "_model_module_version": "1.5.0",
            "_model_name": "DescriptionStyleModel",
            "_view_count": null,
            "_view_module": "@jupyter-widgets/base",
            "_view_module_version": "1.2.0",
            "_view_name": "StyleView",
            "description_width": ""
          }
        },
        "92f01955658b4401a72edb84be97a4f4": {
          "model_module": "@jupyter-widgets/base",
          "model_name": "LayoutModel",
          "model_module_version": "1.2.0",
          "state": {
            "_model_module": "@jupyter-widgets/base",
            "_model_module_version": "1.2.0",
            "_model_name": "LayoutModel",
            "_view_count": null,
            "_view_module": "@jupyter-widgets/base",
            "_view_module_version": "1.2.0",
            "_view_name": "LayoutView",
            "align_content": null,
            "align_items": null,
            "align_self": null,
            "border": null,
            "bottom": null,
            "display": null,
            "flex": null,
            "flex_flow": null,
            "grid_area": null,
            "grid_auto_columns": null,
            "grid_auto_flow": null,
            "grid_auto_rows": null,
            "grid_column": null,
            "grid_gap": null,
            "grid_row": null,
            "grid_template_areas": null,
            "grid_template_columns": null,
            "grid_template_rows": null,
            "height": null,
            "justify_content": null,
            "justify_items": null,
            "left": null,
            "margin": null,
            "max_height": null,
            "max_width": null,
            "min_height": null,
            "min_width": null,
            "object_fit": null,
            "object_position": null,
            "order": null,
            "overflow": null,
            "overflow_x": null,
            "overflow_y": null,
            "padding": null,
            "right": null,
            "top": null,
            "visibility": null,
            "width": "20px"
          }
        },
        "ce93c2fc9d9c472fa20afa5361489019": {
          "model_module": "@jupyter-widgets/controls",
          "model_name": "ProgressStyleModel",
          "model_module_version": "1.5.0",
          "state": {
            "_model_module": "@jupyter-widgets/controls",
            "_model_module_version": "1.5.0",
            "_model_name": "ProgressStyleModel",
            "_view_count": null,
            "_view_module": "@jupyter-widgets/base",
            "_view_module_version": "1.2.0",
            "_view_name": "StyleView",
            "bar_color": null,
            "description_width": ""
          }
        },
        "5d25f90a62d549eb9720e86d8f282d20": {
          "model_module": "@jupyter-widgets/base",
          "model_name": "LayoutModel",
          "model_module_version": "1.2.0",
          "state": {
            "_model_module": "@jupyter-widgets/base",
            "_model_module_version": "1.2.0",
            "_model_name": "LayoutModel",
            "_view_count": null,
            "_view_module": "@jupyter-widgets/base",
            "_view_module_version": "1.2.0",
            "_view_name": "LayoutView",
            "align_content": null,
            "align_items": null,
            "align_self": null,
            "border": null,
            "bottom": null,
            "display": null,
            "flex": null,
            "flex_flow": null,
            "grid_area": null,
            "grid_auto_columns": null,
            "grid_auto_flow": null,
            "grid_auto_rows": null,
            "grid_column": null,
            "grid_gap": null,
            "grid_row": null,
            "grid_template_areas": null,
            "grid_template_columns": null,
            "grid_template_rows": null,
            "height": null,
            "justify_content": null,
            "justify_items": null,
            "left": null,
            "margin": null,
            "max_height": null,
            "max_width": null,
            "min_height": null,
            "min_width": null,
            "object_fit": null,
            "object_position": null,
            "order": null,
            "overflow": null,
            "overflow_x": null,
            "overflow_y": null,
            "padding": null,
            "right": null,
            "top": null,
            "visibility": null,
            "width": null
          }
        },
        "3b42375282ff4604a60156f2459b96e4": {
          "model_module": "@jupyter-widgets/controls",
          "model_name": "DescriptionStyleModel",
          "model_module_version": "1.5.0",
          "state": {
            "_model_module": "@jupyter-widgets/controls",
            "_model_module_version": "1.5.0",
            "_model_name": "DescriptionStyleModel",
            "_view_count": null,
            "_view_module": "@jupyter-widgets/base",
            "_view_module_version": "1.2.0",
            "_view_name": "StyleView",
            "description_width": ""
          }
        },
        "b6dacae3efe64bac89cd54e5bf30f2d1": {
          "model_module": "@jupyter-widgets/controls",
          "model_name": "HBoxModel",
          "model_module_version": "1.5.0",
          "state": {
            "_dom_classes": [],
            "_model_module": "@jupyter-widgets/controls",
            "_model_module_version": "1.5.0",
            "_model_name": "HBoxModel",
            "_view_count": null,
            "_view_module": "@jupyter-widgets/controls",
            "_view_module_version": "1.5.0",
            "_view_name": "HBoxView",
            "box_style": "",
            "children": [
              "IPY_MODEL_cff5537e0af6468bb77f289170bb7dd8",
              "IPY_MODEL_2dc23320e80949b6afda5e348a2635f8",
              "IPY_MODEL_5ed7c7943f2d466283ec2e841bb0885e"
            ],
            "layout": "IPY_MODEL_55b7da3d81a7420dba066eef969e09f3"
          }
        },
        "cff5537e0af6468bb77f289170bb7dd8": {
          "model_module": "@jupyter-widgets/controls",
          "model_name": "HTMLModel",
          "model_module_version": "1.5.0",
          "state": {
            "_dom_classes": [],
            "_model_module": "@jupyter-widgets/controls",
            "_model_module_version": "1.5.0",
            "_model_name": "HTMLModel",
            "_view_count": null,
            "_view_module": "@jupyter-widgets/controls",
            "_view_module_version": "1.5.0",
            "_view_name": "HTMLView",
            "description": "",
            "description_tooltip": null,
            "layout": "IPY_MODEL_c05bc263bd6a4f79bf5d5224596a3b2d",
            "placeholder": "​",
            "style": "IPY_MODEL_46858f93c10342748a7694415c60b891",
            "value": ""
          }
        },
        "2dc23320e80949b6afda5e348a2635f8": {
          "model_module": "@jupyter-widgets/controls",
          "model_name": "FloatProgressModel",
          "model_module_version": "1.5.0",
          "state": {
            "_dom_classes": [],
            "_model_module": "@jupyter-widgets/controls",
            "_model_module_version": "1.5.0",
            "_model_name": "FloatProgressModel",
            "_view_count": null,
            "_view_module": "@jupyter-widgets/controls",
            "_view_module_version": "1.5.0",
            "_view_name": "ProgressView",
            "bar_style": "danger",
            "description": "",
            "description_tooltip": null,
            "layout": "IPY_MODEL_424048f76a6941b4849690d922ea5011",
            "max": 1,
            "min": 0,
            "orientation": "horizontal",
            "style": "IPY_MODEL_046be4cf8fec44c6a67314923d94b3d9",
            "value": 1
          }
        },
        "5ed7c7943f2d466283ec2e841bb0885e": {
          "model_module": "@jupyter-widgets/controls",
          "model_name": "HTMLModel",
          "model_module_version": "1.5.0",
          "state": {
            "_dom_classes": [],
            "_model_module": "@jupyter-widgets/controls",
            "_model_module_version": "1.5.0",
            "_model_name": "HTMLModel",
            "_view_count": null,
            "_view_module": "@jupyter-widgets/controls",
            "_view_module_version": "1.5.0",
            "_view_name": "HTMLView",
            "description": "",
            "description_tooltip": null,
            "layout": "IPY_MODEL_a710001343eb46c48e3752fbfdf94e77",
            "placeholder": "​",
            "style": "IPY_MODEL_27e524f310424a5d82a6f0e3e0eaa4cd",
            "value": " 500000/? [38:45&lt;00:00, 251.23it/s]"
          }
        },
        "55b7da3d81a7420dba066eef969e09f3": {
          "model_module": "@jupyter-widgets/base",
          "model_name": "LayoutModel",
          "model_module_version": "1.2.0",
          "state": {
            "_model_module": "@jupyter-widgets/base",
            "_model_module_version": "1.2.0",
            "_model_name": "LayoutModel",
            "_view_count": null,
            "_view_module": "@jupyter-widgets/base",
            "_view_module_version": "1.2.0",
            "_view_name": "LayoutView",
            "align_content": null,
            "align_items": null,
            "align_self": null,
            "border": null,
            "bottom": null,
            "display": null,
            "flex": null,
            "flex_flow": null,
            "grid_area": null,
            "grid_auto_columns": null,
            "grid_auto_flow": null,
            "grid_auto_rows": null,
            "grid_column": null,
            "grid_gap": null,
            "grid_row": null,
            "grid_template_areas": null,
            "grid_template_columns": null,
            "grid_template_rows": null,
            "height": null,
            "justify_content": null,
            "justify_items": null,
            "left": null,
            "margin": null,
            "max_height": null,
            "max_width": null,
            "min_height": null,
            "min_width": null,
            "object_fit": null,
            "object_position": null,
            "order": null,
            "overflow": null,
            "overflow_x": null,
            "overflow_y": null,
            "padding": null,
            "right": null,
            "top": null,
            "visibility": null,
            "width": null
          }
        },
        "c05bc263bd6a4f79bf5d5224596a3b2d": {
          "model_module": "@jupyter-widgets/base",
          "model_name": "LayoutModel",
          "model_module_version": "1.2.0",
          "state": {
            "_model_module": "@jupyter-widgets/base",
            "_model_module_version": "1.2.0",
            "_model_name": "LayoutModel",
            "_view_count": null,
            "_view_module": "@jupyter-widgets/base",
            "_view_module_version": "1.2.0",
            "_view_name": "LayoutView",
            "align_content": null,
            "align_items": null,
            "align_self": null,
            "border": null,
            "bottom": null,
            "display": null,
            "flex": null,
            "flex_flow": null,
            "grid_area": null,
            "grid_auto_columns": null,
            "grid_auto_flow": null,
            "grid_auto_rows": null,
            "grid_column": null,
            "grid_gap": null,
            "grid_row": null,
            "grid_template_areas": null,
            "grid_template_columns": null,
            "grid_template_rows": null,
            "height": null,
            "justify_content": null,
            "justify_items": null,
            "left": null,
            "margin": null,
            "max_height": null,
            "max_width": null,
            "min_height": null,
            "min_width": null,
            "object_fit": null,
            "object_position": null,
            "order": null,
            "overflow": null,
            "overflow_x": null,
            "overflow_y": null,
            "padding": null,
            "right": null,
            "top": null,
            "visibility": null,
            "width": null
          }
        },
        "46858f93c10342748a7694415c60b891": {
          "model_module": "@jupyter-widgets/controls",
          "model_name": "DescriptionStyleModel",
          "model_module_version": "1.5.0",
          "state": {
            "_model_module": "@jupyter-widgets/controls",
            "_model_module_version": "1.5.0",
            "_model_name": "DescriptionStyleModel",
            "_view_count": null,
            "_view_module": "@jupyter-widgets/base",
            "_view_module_version": "1.2.0",
            "_view_name": "StyleView",
            "description_width": ""
          }
        },
        "424048f76a6941b4849690d922ea5011": {
          "model_module": "@jupyter-widgets/base",
          "model_name": "LayoutModel",
          "model_module_version": "1.2.0",
          "state": {
            "_model_module": "@jupyter-widgets/base",
            "_model_module_version": "1.2.0",
            "_model_name": "LayoutModel",
            "_view_count": null,
            "_view_module": "@jupyter-widgets/base",
            "_view_module_version": "1.2.0",
            "_view_name": "LayoutView",
            "align_content": null,
            "align_items": null,
            "align_self": null,
            "border": null,
            "bottom": null,
            "display": null,
            "flex": null,
            "flex_flow": null,
            "grid_area": null,
            "grid_auto_columns": null,
            "grid_auto_flow": null,
            "grid_auto_rows": null,
            "grid_column": null,
            "grid_gap": null,
            "grid_row": null,
            "grid_template_areas": null,
            "grid_template_columns": null,
            "grid_template_rows": null,
            "height": null,
            "justify_content": null,
            "justify_items": null,
            "left": null,
            "margin": null,
            "max_height": null,
            "max_width": null,
            "min_height": null,
            "min_width": null,
            "object_fit": null,
            "object_position": null,
            "order": null,
            "overflow": null,
            "overflow_x": null,
            "overflow_y": null,
            "padding": null,
            "right": null,
            "top": null,
            "visibility": null,
            "width": "20px"
          }
        },
        "046be4cf8fec44c6a67314923d94b3d9": {
          "model_module": "@jupyter-widgets/controls",
          "model_name": "ProgressStyleModel",
          "model_module_version": "1.5.0",
          "state": {
            "_model_module": "@jupyter-widgets/controls",
            "_model_module_version": "1.5.0",
            "_model_name": "ProgressStyleModel",
            "_view_count": null,
            "_view_module": "@jupyter-widgets/base",
            "_view_module_version": "1.2.0",
            "_view_name": "StyleView",
            "bar_color": null,
            "description_width": ""
          }
        },
        "a710001343eb46c48e3752fbfdf94e77": {
          "model_module": "@jupyter-widgets/base",
          "model_name": "LayoutModel",
          "model_module_version": "1.2.0",
          "state": {
            "_model_module": "@jupyter-widgets/base",
            "_model_module_version": "1.2.0",
            "_model_name": "LayoutModel",
            "_view_count": null,
            "_view_module": "@jupyter-widgets/base",
            "_view_module_version": "1.2.0",
            "_view_name": "LayoutView",
            "align_content": null,
            "align_items": null,
            "align_self": null,
            "border": null,
            "bottom": null,
            "display": null,
            "flex": null,
            "flex_flow": null,
            "grid_area": null,
            "grid_auto_columns": null,
            "grid_auto_flow": null,
            "grid_auto_rows": null,
            "grid_column": null,
            "grid_gap": null,
            "grid_row": null,
            "grid_template_areas": null,
            "grid_template_columns": null,
            "grid_template_rows": null,
            "height": null,
            "justify_content": null,
            "justify_items": null,
            "left": null,
            "margin": null,
            "max_height": null,
            "max_width": null,
            "min_height": null,
            "min_width": null,
            "object_fit": null,
            "object_position": null,
            "order": null,
            "overflow": null,
            "overflow_x": null,
            "overflow_y": null,
            "padding": null,
            "right": null,
            "top": null,
            "visibility": null,
            "width": null
          }
        },
        "27e524f310424a5d82a6f0e3e0eaa4cd": {
          "model_module": "@jupyter-widgets/controls",
          "model_name": "DescriptionStyleModel",
          "model_module_version": "1.5.0",
          "state": {
            "_model_module": "@jupyter-widgets/controls",
            "_model_module_version": "1.5.0",
            "_model_name": "DescriptionStyleModel",
            "_view_count": null,
            "_view_module": "@jupyter-widgets/base",
            "_view_module_version": "1.2.0",
            "_view_name": "StyleView",
            "description_width": ""
          }
        },
        "3421d9f0ce3f48ea829cceecbf5f3cc3": {
          "model_module": "@jupyter-widgets/controls",
          "model_name": "HBoxModel",
          "model_module_version": "1.5.0",
          "state": {
            "_dom_classes": [],
            "_model_module": "@jupyter-widgets/controls",
            "_model_module_version": "1.5.0",
            "_model_name": "HBoxModel",
            "_view_count": null,
            "_view_module": "@jupyter-widgets/controls",
            "_view_module_version": "1.5.0",
            "_view_name": "HBoxView",
            "box_style": "",
            "children": [
              "IPY_MODEL_40b77e06b69545c59cc6a972fc5659fb",
              "IPY_MODEL_164f56aece754db59d55504491891c93",
              "IPY_MODEL_45b786bcdbc8406bb96b07a5e2323ef9"
            ],
            "layout": "IPY_MODEL_378db420607b4668adba208129f0df9f"
          }
        },
        "40b77e06b69545c59cc6a972fc5659fb": {
          "model_module": "@jupyter-widgets/controls",
          "model_name": "HTMLModel",
          "model_module_version": "1.5.0",
          "state": {
            "_dom_classes": [],
            "_model_module": "@jupyter-widgets/controls",
            "_model_module_version": "1.5.0",
            "_model_name": "HTMLModel",
            "_view_count": null,
            "_view_module": "@jupyter-widgets/controls",
            "_view_module_version": "1.5.0",
            "_view_name": "HTMLView",
            "description": "",
            "description_tooltip": null,
            "layout": "IPY_MODEL_6d3b42bb8c6545b09afab762febca79e",
            "placeholder": "​",
            "style": "IPY_MODEL_dab2cbefe2ee4188ad2dfc254c43a945",
            "value": ""
          }
        },
        "164f56aece754db59d55504491891c93": {
          "model_module": "@jupyter-widgets/controls",
          "model_name": "FloatProgressModel",
          "model_module_version": "1.5.0",
          "state": {
            "_dom_classes": [],
            "_model_module": "@jupyter-widgets/controls",
            "_model_module_version": "1.5.0",
            "_model_name": "FloatProgressModel",
            "_view_count": null,
            "_view_module": "@jupyter-widgets/controls",
            "_view_module_version": "1.5.0",
            "_view_name": "ProgressView",
            "bar_style": "success",
            "description": "",
            "description_tooltip": null,
            "layout": "IPY_MODEL_3b034d3be7754d20bf2294431ef14ce0",
            "max": 1,
            "min": 0,
            "orientation": "horizontal",
            "style": "IPY_MODEL_fe06645c1bd54ac2a9d61956797e0731",
            "value": 1
          }
        },
        "45b786bcdbc8406bb96b07a5e2323ef9": {
          "model_module": "@jupyter-widgets/controls",
          "model_name": "HTMLModel",
          "model_module_version": "1.5.0",
          "state": {
            "_dom_classes": [],
            "_model_module": "@jupyter-widgets/controls",
            "_model_module_version": "1.5.0",
            "_model_name": "HTMLModel",
            "_view_count": null,
            "_view_module": "@jupyter-widgets/controls",
            "_view_module_version": "1.5.0",
            "_view_name": "HTMLView",
            "description": "",
            "description_tooltip": null,
            "layout": "IPY_MODEL_135221c7909547499ec04bc4d276b48c",
            "placeholder": "​",
            "style": "IPY_MODEL_66a33fd6be6443279d153c2a65a8d474",
            "value": " 1163342/? [1:29:43&lt;00:00, 245.42it/s]"
          }
        },
        "378db420607b4668adba208129f0df9f": {
          "model_module": "@jupyter-widgets/base",
          "model_name": "LayoutModel",
          "model_module_version": "1.2.0",
          "state": {
            "_model_module": "@jupyter-widgets/base",
            "_model_module_version": "1.2.0",
            "_model_name": "LayoutModel",
            "_view_count": null,
            "_view_module": "@jupyter-widgets/base",
            "_view_module_version": "1.2.0",
            "_view_name": "LayoutView",
            "align_content": null,
            "align_items": null,
            "align_self": null,
            "border": null,
            "bottom": null,
            "display": null,
            "flex": null,
            "flex_flow": null,
            "grid_area": null,
            "grid_auto_columns": null,
            "grid_auto_flow": null,
            "grid_auto_rows": null,
            "grid_column": null,
            "grid_gap": null,
            "grid_row": null,
            "grid_template_areas": null,
            "grid_template_columns": null,
            "grid_template_rows": null,
            "height": null,
            "justify_content": null,
            "justify_items": null,
            "left": null,
            "margin": null,
            "max_height": null,
            "max_width": null,
            "min_height": null,
            "min_width": null,
            "object_fit": null,
            "object_position": null,
            "order": null,
            "overflow": null,
            "overflow_x": null,
            "overflow_y": null,
            "padding": null,
            "right": null,
            "top": null,
            "visibility": null,
            "width": null
          }
        },
        "6d3b42bb8c6545b09afab762febca79e": {
          "model_module": "@jupyter-widgets/base",
          "model_name": "LayoutModel",
          "model_module_version": "1.2.0",
          "state": {
            "_model_module": "@jupyter-widgets/base",
            "_model_module_version": "1.2.0",
            "_model_name": "LayoutModel",
            "_view_count": null,
            "_view_module": "@jupyter-widgets/base",
            "_view_module_version": "1.2.0",
            "_view_name": "LayoutView",
            "align_content": null,
            "align_items": null,
            "align_self": null,
            "border": null,
            "bottom": null,
            "display": null,
            "flex": null,
            "flex_flow": null,
            "grid_area": null,
            "grid_auto_columns": null,
            "grid_auto_flow": null,
            "grid_auto_rows": null,
            "grid_column": null,
            "grid_gap": null,
            "grid_row": null,
            "grid_template_areas": null,
            "grid_template_columns": null,
            "grid_template_rows": null,
            "height": null,
            "justify_content": null,
            "justify_items": null,
            "left": null,
            "margin": null,
            "max_height": null,
            "max_width": null,
            "min_height": null,
            "min_width": null,
            "object_fit": null,
            "object_position": null,
            "order": null,
            "overflow": null,
            "overflow_x": null,
            "overflow_y": null,
            "padding": null,
            "right": null,
            "top": null,
            "visibility": null,
            "width": null
          }
        },
        "dab2cbefe2ee4188ad2dfc254c43a945": {
          "model_module": "@jupyter-widgets/controls",
          "model_name": "DescriptionStyleModel",
          "model_module_version": "1.5.0",
          "state": {
            "_model_module": "@jupyter-widgets/controls",
            "_model_module_version": "1.5.0",
            "_model_name": "DescriptionStyleModel",
            "_view_count": null,
            "_view_module": "@jupyter-widgets/base",
            "_view_module_version": "1.2.0",
            "_view_name": "StyleView",
            "description_width": ""
          }
        },
        "3b034d3be7754d20bf2294431ef14ce0": {
          "model_module": "@jupyter-widgets/base",
          "model_name": "LayoutModel",
          "model_module_version": "1.2.0",
          "state": {
            "_model_module": "@jupyter-widgets/base",
            "_model_module_version": "1.2.0",
            "_model_name": "LayoutModel",
            "_view_count": null,
            "_view_module": "@jupyter-widgets/base",
            "_view_module_version": "1.2.0",
            "_view_name": "LayoutView",
            "align_content": null,
            "align_items": null,
            "align_self": null,
            "border": null,
            "bottom": null,
            "display": null,
            "flex": null,
            "flex_flow": null,
            "grid_area": null,
            "grid_auto_columns": null,
            "grid_auto_flow": null,
            "grid_auto_rows": null,
            "grid_column": null,
            "grid_gap": null,
            "grid_row": null,
            "grid_template_areas": null,
            "grid_template_columns": null,
            "grid_template_rows": null,
            "height": null,
            "justify_content": null,
            "justify_items": null,
            "left": null,
            "margin": null,
            "max_height": null,
            "max_width": null,
            "min_height": null,
            "min_width": null,
            "object_fit": null,
            "object_position": null,
            "order": null,
            "overflow": null,
            "overflow_x": null,
            "overflow_y": null,
            "padding": null,
            "right": null,
            "top": null,
            "visibility": null,
            "width": "20px"
          }
        },
        "fe06645c1bd54ac2a9d61956797e0731": {
          "model_module": "@jupyter-widgets/controls",
          "model_name": "ProgressStyleModel",
          "model_module_version": "1.5.0",
          "state": {
            "_model_module": "@jupyter-widgets/controls",
            "_model_module_version": "1.5.0",
            "_model_name": "ProgressStyleModel",
            "_view_count": null,
            "_view_module": "@jupyter-widgets/base",
            "_view_module_version": "1.2.0",
            "_view_name": "StyleView",
            "bar_color": null,
            "description_width": ""
          }
        },
        "135221c7909547499ec04bc4d276b48c": {
          "model_module": "@jupyter-widgets/base",
          "model_name": "LayoutModel",
          "model_module_version": "1.2.0",
          "state": {
            "_model_module": "@jupyter-widgets/base",
            "_model_module_version": "1.2.0",
            "_model_name": "LayoutModel",
            "_view_count": null,
            "_view_module": "@jupyter-widgets/base",
            "_view_module_version": "1.2.0",
            "_view_name": "LayoutView",
            "align_content": null,
            "align_items": null,
            "align_self": null,
            "border": null,
            "bottom": null,
            "display": null,
            "flex": null,
            "flex_flow": null,
            "grid_area": null,
            "grid_auto_columns": null,
            "grid_auto_flow": null,
            "grid_auto_rows": null,
            "grid_column": null,
            "grid_gap": null,
            "grid_row": null,
            "grid_template_areas": null,
            "grid_template_columns": null,
            "grid_template_rows": null,
            "height": null,
            "justify_content": null,
            "justify_items": null,
            "left": null,
            "margin": null,
            "max_height": null,
            "max_width": null,
            "min_height": null,
            "min_width": null,
            "object_fit": null,
            "object_position": null,
            "order": null,
            "overflow": null,
            "overflow_x": null,
            "overflow_y": null,
            "padding": null,
            "right": null,
            "top": null,
            "visibility": null,
            "width": null
          }
        },
        "66a33fd6be6443279d153c2a65a8d474": {
          "model_module": "@jupyter-widgets/controls",
          "model_name": "DescriptionStyleModel",
          "model_module_version": "1.5.0",
          "state": {
            "_model_module": "@jupyter-widgets/controls",
            "_model_module_version": "1.5.0",
            "_model_name": "DescriptionStyleModel",
            "_view_count": null,
            "_view_module": "@jupyter-widgets/base",
            "_view_module_version": "1.2.0",
            "_view_name": "StyleView",
            "description_width": ""
          }
        }
      }
    },
    "accelerator": "GPU"
  },
  "cells": [
    {
      "cell_type": "markdown",
      "metadata": {
        "id": "view-in-github",
        "colab_type": "text"
      },
      "source": [
        "<a href=\"https://colab.research.google.com/github/PavelNovikov888/PDA_vectorization_text/blob/master/Chat_bot.ipynb\" target=\"_parent\"><img src=\"https://colab.research.google.com/assets/colab-badge.svg\" alt=\"Open In Colab\"/></a>"
      ]
    },
    {
      "cell_type": "code",
      "execution_count": null,
      "metadata": {
        "id": "lIwLLzksjgaI",
        "colab": {
          "base_uri": "https://localhost:8080/"
        },
        "outputId": "cafd2030-907e-46fa-ada7-0800e736af32"
      },
      "outputs": [
        {
          "output_type": "stream",
          "name": "stdout",
          "text": [
            "\u001b[?25l     \u001b[90m━━━━━━━━━━━━━━━━━━━━━━━━━━━━━━━━━━━━━━━━\u001b[0m \u001b[32m0.0/647.5 kB\u001b[0m \u001b[31m?\u001b[0m eta \u001b[36m-:--:--\u001b[0m\r\u001b[2K     \u001b[91m━━━━━━━━━━━━\u001b[0m\u001b[91m╸\u001b[0m\u001b[90m━━━━━━━━━━━━━━━━━━━━━━━━━━\u001b[0m \u001b[32m215.0/647.5 kB\u001b[0m \u001b[31m6.2 MB/s\u001b[0m eta \u001b[36m0:00:01\u001b[0m\r\u001b[2K     \u001b[91m━━━━━━━━━━━━━━━━━━━━━━━━━━━━━━━━━━━━━━\u001b[0m\u001b[91m╸\u001b[0m \u001b[32m645.1/647.5 kB\u001b[0m \u001b[31m9.7 MB/s\u001b[0m eta \u001b[36m0:00:01\u001b[0m\r\u001b[2K     \u001b[90m━━━━━━━━━━━━━━━━━━━━━━━━━━━━━━━━━━━━━━━\u001b[0m \u001b[32m647.5/647.5 kB\u001b[0m \u001b[31m8.5 MB/s\u001b[0m eta \u001b[36m0:00:00\u001b[0m\n",
            "\u001b[?25h  Preparing metadata (setup.py) ... \u001b[?25l\u001b[?25hdone\n",
            "  Building wheel for annoy (setup.py) ... \u001b[?25l\u001b[?25hdone\n",
            "  Preparing metadata (setup.py) ... \u001b[?25l\u001b[?25hdone\n",
            "  Building wheel for stop-words (setup.py) ... \u001b[?25l\u001b[?25hdone\n",
            "\u001b[2K     \u001b[90m━━━━━━━━━━━━━━━━━━━━━━━━━━━━━━━━━━━━━━━━\u001b[0m \u001b[32m55.5/55.5 kB\u001b[0m \u001b[31m2.1 MB/s\u001b[0m eta \u001b[36m0:00:00\u001b[0m\n",
            "\u001b[2K     \u001b[90m━━━━━━━━━━━━━━━━━━━━━━━━━━━━━━━━━━━━━━━━\u001b[0m \u001b[32m8.2/8.2 MB\u001b[0m \u001b[31m26.2 MB/s\u001b[0m eta \u001b[36m0:00:00\u001b[0m\n",
            "\u001b[?25h  Preparing metadata (setup.py) ... \u001b[?25l\u001b[?25hdone\n",
            "  Building wheel for docopt (setup.py) ... \u001b[?25l\u001b[?25hdone\n"
          ]
        }
      ],
      "source": [
        "! pip install annoy --quiet\n",
        "! pip install stop-words --quiet\n",
        "! pip install pymorphy2 --quiet"
      ]
    },
    {
      "cell_type": "code",
      "execution_count": null,
      "metadata": {
        "id": "5b2920f8-5661-4b82-9a78-573cc78132f5"
      },
      "outputs": [],
      "source": [
        "import os\n",
        "# методы работы со строками\n",
        "import string\n",
        "# Алгоритм классификации по методу поиска ближайших соседей(ANN) в Python,\n",
        "# оптимизированный для использования памяти и загрузки/сохранения на диск.\n",
        "import annoy\n",
        "# библиотека для раскодирования файлов\n",
        "import codecs\n",
        "\n",
        "from pymorphy2 import MorphAnalyzer\n",
        "from stop_words import get_stop_words\n",
        "from gensim.models import Word2Vec\n",
        "\n",
        "import numpy as np\n",
        "# выводит индикатор выполнения итератора\n",
        "from tqdm.notebook import tqdm\n",
        "import pandas as pd"
      ]
    },
    {
      "cell_type": "code",
      "source": [
        "!sudo apt-get install cadaver"
      ],
      "metadata": {
        "colab": {
          "base_uri": "https://localhost:8080/"
        },
        "id": "ZW01EEb0e96I",
        "outputId": "d3c091f5-af9b-44a0-aa7e-e76fc35c3778"
      },
      "execution_count": null,
      "outputs": [
        {
          "output_type": "stream",
          "name": "stdout",
          "text": [
            "Reading package lists... Done\n",
            "Building dependency tree... Done\n",
            "Reading state information... Done\n",
            "The following additional packages will be installed:\n",
            "  libneon27-gnutls\n",
            "The following NEW packages will be installed:\n",
            "  cadaver libneon27-gnutls\n",
            "0 upgraded, 2 newly installed, 0 to remove and 18 not upgraded.\n",
            "Need to get 144 kB of archives.\n",
            "After this operation, 446 kB of additional disk space will be used.\n",
            "Get:1 http://archive.ubuntu.com/ubuntu jammy/universe amd64 libneon27-gnutls amd64 0.32.2-1 [75.1 kB]\n",
            "Get:2 http://archive.ubuntu.com/ubuntu jammy/universe amd64 cadaver amd64 0.23.3-2.1build1 [69.3 kB]\n",
            "Fetched 144 kB in 0s (312 kB/s)\n",
            "debconf: unable to initialize frontend: Dialog\n",
            "debconf: (No usable dialog-like program is installed, so the dialog based frontend cannot be used. at /usr/share/perl5/Debconf/FrontEnd/Dialog.pm line 78, <> line 2.)\n",
            "debconf: falling back to frontend: Readline\n",
            "debconf: unable to initialize frontend: Readline\n",
            "debconf: (This frontend requires a controlling tty.)\n",
            "debconf: falling back to frontend: Teletype\n",
            "dpkg-preconfigure: unable to re-open stdin: \n",
            "Selecting previously unselected package libneon27-gnutls:amd64.\n",
            "(Reading database ... 120895 files and directories currently installed.)\n",
            "Preparing to unpack .../libneon27-gnutls_0.32.2-1_amd64.deb ...\n",
            "Unpacking libneon27-gnutls:amd64 (0.32.2-1) ...\n",
            "Selecting previously unselected package cadaver.\n",
            "Preparing to unpack .../cadaver_0.23.3-2.1build1_amd64.deb ...\n",
            "Unpacking cadaver (0.23.3-2.1build1) ...\n",
            "Setting up libneon27-gnutls:amd64 (0.32.2-1) ...\n",
            "Setting up cadaver (0.23.3-2.1build1) ...\n",
            "Processing triggers for man-db (2.10.2-1) ...\n",
            "Processing triggers for libc-bin (2.35-0ubuntu3.1) ...\n",
            "/sbin/ldconfig.real: /usr/local/lib/libtbbmalloc.so.2 is not a symbolic link\n",
            "\n",
            "/sbin/ldconfig.real: /usr/local/lib/libtbbbind_2_0.so.3 is not a symbolic link\n",
            "\n",
            "/sbin/ldconfig.real: /usr/local/lib/libtbbbind_2_5.so.3 is not a symbolic link\n",
            "\n",
            "/sbin/ldconfig.real: /usr/local/lib/libtbbmalloc_proxy.so.2 is not a symbolic link\n",
            "\n",
            "/sbin/ldconfig.real: /usr/local/lib/libtbb.so.12 is not a symbolic link\n",
            "\n",
            "/sbin/ldconfig.real: /usr/local/lib/libtbbbind.so.3 is not a symbolic link\n",
            "\n"
          ]
        }
      ]
    },
    {
      "cell_type": "code",
      "execution_count": null,
      "metadata": {
        "id": "vTHMwO0Jd6XC"
      },
      "outputs": [],
      "source": [
        "import os\n",
        "\n",
        "#Load file to Google Colab from WebDav\n",
        "#site - WebDav host site. E.g. \"webdav.yandex.ru\"\n",
        "#filepath - WebDav filepath. E.g. \"Colab\"\n",
        "#filename - WebDav filename. E.g. \"creditcard.csv.zip\"\n",
        "#login - WebDav login\n",
        "#password - WebDav password\n",
        "def loadFileFromWebDav(site, filepath, filename, login, password):\n",
        "  if os.path.isfile(filename):\n",
        "    return\n",
        "\n",
        "  netrc = os.environ['HOME'] + \"/.netrc\"\n",
        "\n",
        "  if not os.path.isfile(netrc): #Check if .netrc file for WebDav access exists\n",
        "    #!rm $netrc\n",
        "    netrcText = \"machine \" + site + \" login \" + login + \" password \" + password\n",
        "    !echo $netrcText > $netrc\n",
        "    !chmod 600 $netrc\n",
        "    !cat $netrc\n",
        "\n",
        "  result = !cadaver --version #Check if WebDav console client cadaver is installed\n",
        "  if \"command not found\" in result:\n",
        "    !sudo apt-get install cadaver\n",
        "\n",
        "  result = !cadaver --version\n",
        "  if not (\"command not found\" in result): #Create file to get the file from WebDav\n",
        "    #!rm .cadaverrc\n",
        "    cadaverrc = \"cd \" + filepath + \"\\r\\n\"\n",
        "    cadaverrc += \"get \" + filename + \"\\r\\n\"\n",
        "    cadaverrc += \"exit\\r\\n\"\n",
        "\n",
        "    file1 = open(\"cadaverrc\",\"w\")\n",
        "    file1.write(cadaverrc)\n",
        "    file1.close()\n",
        "    !cat \"cadaverrc\"\n",
        "\n",
        "    webdavurl = \"https://\" + site\n",
        "    !cadaver -r cadaverrc $webdavurl\n",
        "\n",
        "    if \".zip\" in filename: #Unpack file if it was compressed by zip\n",
        "      !unzip $filename"
      ]
    },
    {
      "cell_type": "code",
      "source": [
        "# !rm .cadaverrc\n",
        "!rm Otvety.txt\n",
        "loadFileFromWebDav(\"webdav.yandex.ru\", \"Colab\", \"Otvety.txt\", \"pavelzrenie\", \"nuagieinlgexdsbi\")"
      ],
      "metadata": {
        "colab": {
          "base_uri": "https://localhost:8080/"
        },
        "id": "W4c5IrmteLlL",
        "outputId": "6a734ad1-84c2-4b92-808b-f03423678141"
      },
      "execution_count": null,
      "outputs": [
        {
          "output_type": "stream",
          "name": "stdout",
          "text": [
            "rm: cannot remove 'Otvety.txt': No such file or directory\n",
            "machine webdav.yandex.ru login pavelzrenie password nuagieinlgexdsbi\n",
            "cd Colab\n",
            "get Otvety.txt\n",
            "exit\n",
            "Downloading `/Colab/Otvety.txt' to Otvety.txt: [.................................................................................................................................................................................................................................................................................................................................................................................................................................................................................................................................................................................................................................................................................................................................................................................................................................................................................................................................................................................................................................................................................................................................................................................................................................................................................................................................................................................................................................................................................................................................................................................................................................................................................................................................................................................................................................................................................................................................................................................................................................................................................................................................................................................................................................................................................................................................................................................................................................................................................................................................................................................................................................................................................................................................................................................................................................................................................................................................................................................................................................................................................................................................................................................................................................................................................................................................................................................................................................................................................................................................................................................................................................................................................................................................................................................................................................................................................................................................................................................................................................................................................................................................................................................................................................................................................................................................................................................................................................................................................................................................................................................................................................................................................................................................................................................................................................................................................................................................................................................................................................................................................................................................................................................................................................................................................................................................................................................................................................................................................................................................................................................................................................................................................................................................................................................................................................................................................................................................................................................................................................................................................................................................................................................................................................................................................................................................................................................................................................................................................................................................................................................................................................................................................................................................................................................................................................................................................................................................................................................................................................................................................................................................................................................................................................................................................................................................................................................................................................................................................................................................................................................................................................................................................................................................................................................................................................................................................................................................................................................................................................................................................................................................................................................................................................................................................................................................................................................................................................................................................................................................................................................................................................................................................................................................................................................................................................................................................................................................................................................................................................................................................................................................................................................................................................................................................................................................................................................................................................................................................................................................................................................................................................................................................................................................................................................................................................................................................................................................................................................................................................................................................................................................................................................................................................................................................................................................................................................................................................................................................................................................................................................................................................................................................................................................................................................................................................................................................................................................................................................................................................................................................................................................................................................................................................................................................................................................................................................................................................................................................................................................................................................................................................................................................................................................................................................................................................................................................................................................................................................................................................................................................................................................................................................................................................................................................................................................................................................................................................................................................................................................................................................................................................................................................................................................................................................................................................................................................................................................................................................................................................................................................................................................................................................................................................................................................................................................................................................................................................................................................................................................................................................................................................................................................................................................................................................................................................................................................................................................................................................................................................................................................................................................................................................................................................................................................................................................................................................................................................................................................................................................................................................................................................................................................................................................................................................................................................................................................................................................................................................................................................................................................................................................................................................................................................................................................................................................................................................................................................................................................................................................................................................................................................................................................................................................................................................................................................................................................................................................................................................................................................................................................................................................................................................................................................................................................................................................................................................................................................................................................................................................................................................................................................................................................................................................................................................................................................................................................................................................................................................................................................................................................................................................................................................................................................................................................................................................................................................................................................................................................................................................................................................................................................................................................................................................................................................................................................................................................................................................................................................................................................................................................................................................................................................................................................................................................................................................................................................................................................................................................................................................................................................................................................................................................................................................................................................................................................................................................................................................................................................................................................................................................................................................................................................................................................................................................................................................................................................................................................................................................................................................................................................................................................................................................................................................................................................................................................................................................................................................................................................................................................................................................................................................................................................................................................................................................................................................................................................................................................................................................................................................................................................................................................................................................................................................................................................................................................................................................................................................................................................................................................................................................................................................................................................................................................................................................................................................................................................................................................................................................................................................................................................................................................................................................................................................................................................................................................................................................................................................................................................................................................................................................................................................................................................................................................................................................................................................................................................................................................................................................................................................................................................................................................................................................................................................................................................................................................................................................................................................................................................................................................................................................................................................................................................................................................................................................................................................................................................................................................................................................................................................................................................................................................................................................................................................................................................................................................................................................................................................................................................................................................................................................................................................................................................................................................................................................................................................................................................................................................................................................................................................................................................................................................................................................................................................................................................................................................................................................................................................................................................................................................................................................................................................................................................................................................................................................................................................................................................................................................................................................................................................................................................................................................................................................................................................................................................................................................................................................................................................................................................................................................................................................................................................................................................................................................................................................................................................................................................................................................................................................................................................................................................................................................................................................................................................................................................................................................................................................................................................................................................................................................................................................................................................................................................................................................................................................................................................................................................................................................................................................................................................................................................................................................................................................................................................................................................................................................................................................................................................................................................................................................................................................................................................................................................................................................................................................................................................................................................................................................................................................................................................................................................................................................................................................................................................................................................................................................................................................................................................................................................................................................................................................................................................................................................................................................................................................................................................................................................................................................................................................................................................................................................................................................................................................................................................................................................................................................................................................................................................................................................................................................................................................................................................................................................................................................................................................................................................................................................................................................................................................................................................................................................................................................................................................................................................................................................................................................................................................................................................................................................................................................................................................................................................................................................................................................................................................................................................................................................................................................................................................................................................................................................................................................................................................................................................................................................................................................................................................................................................................................................................................................................................................................................................................................................................................................................................................................................................................................................................................................................................................................................................................................................................................................................................................................................................................................................................................................................................................................................................................................................................................................................................................................................................................................................................................................................................................................................................................................................................................................................................................................................................................................................................................................................................................................................................................................................................................................................................................................................................................................................................................................................................................................................................................................................................................................................................................................................................................................................................................................................................................................................................................................................................................................................................................................................................................................................................................................................................................................................................................................................................................................................................................................................................................................................................................................................................................................................................................................................................................................................................................................................................................................................................................................................................................................................................................................................................................................................................................................................................................................................................................................................................................................................................................................................................................................................................................................................................................................................................................................................................................................................................................................................................................................................................................................................................................................................................................................................................................................................................................................................................................................................................................................................................................................................................................................................................................................................................................................................................................................................................................................................................................................................................................................................................................................................................................................................................................................................................................................................................................................................................................................................................................................................................................................................................................................................................................................................................................................................................................................................................................................................................................................................................................................................................................................................................................................................................................................................................................................................................................................................................................................................................................................................................................................................................................................................................................................................................................................................................................................................................................................................................................................................................................................................................................................................................................................................................................................................................................................................................................................................................................................................................................................................................................................................................................................................................................................................................................................................................................................................................................................................................................................................................................................................................................................................................................................................................................................................................................................................................................................................................................................................................................................................................................................................................................................................................................................................................................................................................................................................................................................................................................................................................................................................................................................................................................................................................................................................................................................................................................................................................................................................................................................................................................................................................................................................................................................................................................................................................................................................................................................................................................................................................................................................................................................................................................................................................................................................................................................................................................................................................................................................................................................................................................................................................................................................................................................................................................................................................................................................................................................................................................................................................................................................................................................................................................................................................................................................................................................................................................................................................................................................................................................................................................................................................................................................................................................................................................................................................................................................................................................................................................................................................................................................................................................................................................................................................................................................................................................................................................................................................................................................................................................................................................................................................................................................................................................................................................................................................................................................................................................................................................................................................................................................................................................................................................................................................................................................................................................................................................................................................................................................................................................................................................................................................................................................................................................................................................................................................................................................................................................................................................................................................................................................................................................................................................................................................................................................................................................................................................................................................................................................................................................................................................................................................................................................................................................................................................................................................................................................................................................................................................................................................................................................................................................................................................................................................................................................................................................................................................................................................................................................................................................................................................................................................................................................................................................................................................................................................................................................................................................................................................................................................................................................................................................................................................................................................................................................................................................................................................................................................................................................................................................................................................................................................................................................................................................................................................................................................................................................................................................................................................................................................................................................................................................................................................................................................................................................................................................................................................................................................................................................................................................................................................................................................................................................................................................................................................................................................................................................................................................................................................................................................................................................................................................................................................................................................................................................................................................................................................................................................................................................................................................................................................................................................................................................................................................................................................................................................................................................................................................................................................................................................................................................................................................................................................................................................................................................................................................................................................................................................................................................................................................................................................................................................................................................................................................................................................................................................................................................................................................................................................................................................................................................................................................................................................................................................................................................................................................................................................................................................................................................................................................................................................................................................................................................................................................................................................................................................................................................................................................................................................................................................................................................................................................................................................................................................................................................................................................................................................................................................................................................................................................................................................................................................................................................................................................................................................................................................................................................................................................................................................................................................................................................................................................................................................................................................................................................................................................................................................................................................................................................................................................................................................................................................................................................................................................................................................................................................................................................................................................................................................................................................................................................................................................................................................................................................................................................................................................................................................................................................................................................................................................................................................................................................................................................................................................................................................................................................................................................................................................................................................................................................................................................................................................................................................................................................................................................................................................................................................................................................................................................................................................................................................................................................................................................................................................................................................................................................................................................................................................................................................................................................................................................................................................................................................................................................................................................................................................................................................................................................................................................................................................................................................................................................................................................................................................................................................................................................................................................................................................................................................................................................................................................................................................................................................................................................................................................................................................................................................................................................................................................................................................................................................................................................................................................................................................................................................................................................................................................................................................................................................................................................................................................................................................................................................................................................................................................................................................................................................................................................................................................................................................................................................................................................................................................................................................................................................................................................................................................................................................................................................................................................................................................................................................................................................................................................................................................................................................................................................................................................................................................................................................................................................................................................................................................................................................................................................................................................................................................................................................................................................................................................................................................................................................................................................................................................................................................................................................................................................................................................................................................................................................................................................................................................................................................................................................................................................................................................................................................................................................................................................................................................................................................................................................................................................................................................................................................................................................................................................................................................................................................................................................................................................................................................................................................................................................................................................................................................................................................................................................................................................................................................................................................................................................................................................................................................................................................................................................................................................................................................................................................................................................................................................................................................................................................................................................................................................................................................................................................................................................................................................................................................................................................................................................................................................................................................................................................................................................................................................................................................................................................................................................................................................................................................................................................................................................................................................................................................................................................................................................................................................................................................................................................................................................................................................................................................................................................................................................................................................................................................................................................................................................................................................................................................................................................................................................................................................................................................................................................................................................................................................................................................................................................................................................................................................................................................................................................................................................................................................................................................................................................................................................................................................................................................................................................................................................................................................................................................................................................................................................................................................................................................................................................................................................................................................................................................................................................................................................................................................................................................................................................................................................................................................................................................................................................................................................................................................................................................................................................................................................................................................................................................................................................................................................................................................................................................................................................................................................................................................................................................................................................................................................................................................................................................................................................................................................................................................................................................................................................................................................................................................................................................................................................................................................................................................................................................................................................................................................................................................................................................................................................................................................................................................................................................................................................................................................................................................................................................................................................................................................................................................................................................................................................................................................................................................................................................................................................................................................................................................................................................................................................................................................................................................................................................................................................................................................................................................................................................................................................................................................................................................................................................................................................................................................................................................................................................................................................................................................................................................................................................................................................................................................................................................................................................................................................................................................................................................................................................................................................................................................................................................................................................................................................................................................................................................................................................................................................................................................................................................................................................................................................................................................................................................................................................................................................................................................................................................................................................................................................................................................................................................................................................................................................................................................................................................................................................................................................................................................................................................................................................................................................................................................................................................................................................................................................................................................................................................................................................................................................................................................................................................................................................................................................................................................................................................................................................................................................................................................................................................................................................................................................................................................................................................................................................................................................................................................................................................................................................................................................................................................................................................................................................................................................................................................................................................................................................................................................................................................................................................................................................................................................................................................................................................................................................................................................................................................................................................................................................................................................................................................................................................................................................................................................................................................................................................................................................................................................................................................................................................................................................................................................................................................................................................................................................................................................................................................................................................................................................................................................................................................................................................................................................................................................................................................................................................................................................................................................................................................................................................................................................................................................................................................................................................................................................................................................................................................................................................................................................................................................................................................................................................................................................................................................................................................................................................................................................................................................................................................................................................................................................................................................................................................................................................................................................................................................................................................................................................................................................................................................................................................................................................................................................................................................................................................................................................................................................................................................................................................................................................................................................................................................................................................................................................................................................................................................................................................................................................................................................................................................................................................................................................................................................................................................................................................................................................................................................................................................................................................................................................................................................................................................................................................................................................................................................................................................................................................................................................................................................................................................................................................................................................................................................................................................................................................................................................................................................................................................................................................................................................................................................................................................................................................................................................................................................................................................................................................................................................................................................................................................................................................................................................................................................................................................................................................................................................................................................................................................................................................................................................................................................................................................................................................................................................................................................................................................................................................................................................................................................................................................................................................................................................................................................................................................................................................................................................................................................................................................................................................................................................................................................................................................................................................................................................................................................................................................................................................................................................................................................................................................................................................................................................................................................................................................................................................................................................................................................................................................................................................................................................................................................................................................................................................................................................................................................................................................................................................................................................................................................................................................................................................................................................................................................................................................................................................................................................................................................................................................................................................................................................................................................................................................................................................................................................................................................................................................................................................................................................................................................................................................................................................................................................................................................................................................................................................................................................................................................................................................................................................................................................................................................................................................................................................................................................................................................................................................................................................................................................................................................................................................................................................................................................................................................................................................................................................................................................................................................................................................................................................................................................................................................................................................................................................................................................................................................................................................................................................................................................................................................................................................................................................................................................................................................................................................................................................................................................................................................................................................................................................................................................................................................................................................................................................................................................................................................................................................................................................................................................................................................................................................................................................................................................................................................................................................................................................................................................................................................................................................................................................................................................................................................................................................................................................................................................................................................................................................................................................................................................................................................................................................................................................................................................................................................................................................................................................................................................................................................................................................................................................................................................................................................................................................................................................................................................................................................................................................................................................................................................................................................................................................................................................................................................................................................................................................................................................................................................................................................................................................................................................................................................................................................................................................................................................................................................................................................................................................................................................................................................................................................................................................................................................................................................................................................................................................................................................................................................................................................................................................................................................................................................................................................................................................................................................................................................................................................................................................................................................................................................................................................................................................................................................................................................................................................................................................................................................................................................................................................................................................................................................................................................................................................................................................................................................................................................................................................................................................................................................................................................................................................................................................................................................................................................................................................................................................................................................................................................................................................................................................................................................................................................................................................................................................................................................................................................................................................................................................................................................................................................................................................................................................................................................................................................................................................................................................................................................................................................................................................................................................................................................................................................................................................................................................................................................................................................................................................................................................................................................................................................................................................................................................................................................................................................................................................................................................................................................................................................................................................................................................................................................................................................................................................................................................................................................................................................................................................................................................................................................................................................................................................................................................................................................................................................................................................................................................................................................................................................................................................................................................................................................................................................................................................................................................................................................................................................................................................................................................................................................................................................................................................................................................................................................................................................................................................................................................................................................................................................................................................................................................................................................................................................................................................................................................................................................................................................................................................................................................................................................................................................................................................................................................................................................................................................................................................................................................................................................................................................................................................................................................................................................................................................................................................................................................................................................................................................................................................................................................................................................................................................................................................................................................................................................................................................................................................................................................................................................................................................................................................................................................................................................................................................................................................................................................................................................................................................................................................................................................................................................................................................................................................................................................................................................................................................................................................................................................................................................................................................................................................................................................................................................................................................................................................................................................................................................................................................................................................................................................................................................................................................................................................................................................................................................................................................................................................................................................................................................................................................................................................................................................................................................................................................................................................................................................................................................................................................................................................................................................................................................................................................................................................................................................................................................................................................................................................................................................................................................................................................................................................................................................................................................................................................................................................................................................................................................................................................................................................................................................................................................................................................................................................................................................................................................................................................................................................................................................................................................................................................................................................................................................................................................................................................................................................................................................................................................................................................................................................................................................................................................................................................................................................................................................................................................................................................................................................................................................................................................................................................................................................................................................................................................................................................................................................................................................................................................................................................................................................................................................................................................................................................................................................................................................................................................................................................................................................................................................................................................................................................................................................................................................................................................................................................................................................................................................................................................................................................................................................................................................................................................................................................................................................................................................................................................................................................................................................................................................................................................................................................................................................................................................................................................................................................................................................................................................................................................................................................................................................................................................................................................................................................................................................................................................................................................................................................................................................................................................................................................................................................................................................................................................................................................................................................................................................................................................................................................................................................................................................................................................................................................................................................................................................................................................................................................................................................................................................................................................................................................................................................................................................................................................................................................................................................................................................................................................................................................................................................................................................................................................................................................................................................................................................................................................................................................................................................................................................................................................................................................................................................................................................................................................................................................................................................................................................................................................................................................................................................................................................................................................................................................................................................................................................................................................................................................................................................................................................................................................................................................................................................................................................................................................................................................................................................................................................................................................................................................................................................................................................................................................................................................................................................................................................................................................................................................................................................................................................................................................................................................................................................................................................................................................................................................................................................................................................................................................................................................................................................................................................................................................................................................................................................................................................................................................................................................................................................................................................................................................................................................................................................................................................................................................................................................................................................................................................................................................................................................................................................................................................................................................................................................................................................................................................................................................................................................................................................................................................................................................................................................................................................................................................................................................................................................................................................................................................................................................................................................................................................................................................................................................................................................................................................................................................................................................................................................................................................................................................................................................................................................................................................................................................................................................................................................................................................................................................................................................................................................................................................................................................................................................................................................................................................................................................................................................................................................................................................................................................................................................................................................................................................................................................................................................................................................................................................................................................................................................................................................................................................................................................................................................................................................................................................................................................................................................................................................................................................................................................................................................................................................................................................................................................................................................................................................................................................................................................................................................................................................................................................................................................................................................................................................................................................................................................................................................................................................................................................................................................................................................................................................................................................................................................................................................................................................................................................................................................................................................................................................................................................................................................................................................................................................................................................................................................................................................................................................................................................................................................................................................................................................................................................................................................................................................................................................................................................................................................................................................................................................................................................................................................................................................................................................................................................................................................................................................................................................................................................................................................................................................................................................................................................................................................................................................................................................................................................................................................................................................................................................................................................................................................................................................................................................................................................................................................................................................................................................................................................................................................................................................................................................................................................................................................................................................................................................................................................................................................................................................................................................................................................................................................................................................................................................................................................................................................................................................................................................................................................................................................................................................................................................................................................................................................................................................................................................................................................................................................................................................................................................................................................................................................................................................................................................................................................................................................................................................................................................................................................................................................................................................................................................................................................................................................................................................................................................................................................................................................................................................................................................................................................................................................................................................................................................................................................................................................................................................................................................................................................................................................................................................................................................................................................................................................................................................................................................................................................................................................................................................................................................................................................................................................................................................................................................................................................................................................................................................................................................................................................................................................................................................................................................................................................................................................................................................................................................................................................................................................................................................................................................................................................................................................................................................................................................................................................................................................................................................................................................................................................................................................................................................................................................................................................................................................................................................................................................................................................................................................................................................................................................................................................................................................................................................................................................................................................................................................................................................................................................................................................................................................................................................................................................................................................................................................................................................................................................................................................................................................................................................................................................................................................................................................................................................................................................................................................................................................................................................................................................................................................................................................................................................................................................................................................................................................................................................................................................................................................................................................................................................................................................................................................................................................................................................................................................................................................................................................................................................................................................................................................................................................................................................................................................................................................................................................................................................................................................................................................................................................................................................................................................................................................................................................................................................................................................................................................................................................................................................................................................................................................................................................................................................................................................................................................................................................................................................................................................................................................................................................................................................................................................................................................................................................................................................................................................................................................................................................................................................................................................................................................................................................................................................................................................................................................................................................................................................................................................................................................................................................................................................................................................................................................................................................................................................................................................................................................................................................................................................................................................................................................................................................................................................................................................................................................................................................................................................................................................................................................................................................................................................................................................................................................................................................................................................................................................................................................................................................................................................................................................................................................................................................................................................................................................................................................................................................................................................................................................................................................................................................................................................................................................................................................................................................................................................................................................................................................................................................................................................................................................................................................................................................................................................................................................................................................................................................................................................................................................................................................................................................................................................................................................................................................................................................................................................................................................................................................................................................................................................................................................................................................................................................................................................................................................................................................................................................................................................................................................................................................................................................................................................................................................................................................................................................................................................................................................................................................................................................................................................................................................................................................................................................................................................................................................................................................................................................................................................................................................................................................................................................................................................................................................................................................................................................................................................................................................................................................................................................................................................................................................................................................................................................................................................................................................................................................................................................................................................................................................................................................................................................................................................................................................................................................................................................................................................................................................................................................................................................................................................................................................................................................................................................................................................................................................................................................................................................................................................................................................................................................................................................................................................................................................................................................................................................................................................................................................................................................................................................................................................................................................................................................................................................................................................................................................................................................................................................................................................................................................................................................................................................................................................................................................................................................................................................................................................................................................................................................................................................................................................................................................................................................................................................................................................................................................................................................................................................................................................................................................................................................................................................................................................................................................................................................................................................................................................................................................................................................................................................................................................................................................................................................................................................................................................................................................................................................................................................................................................................................................................................................................................................................................................................................................................................................................................................................................................................................................................................................................................................................................................................................................................................................................................................................................................................................................................................................................................................................................................................................................................................................................................................................................................................................................................................................................................................................................................................................................................................................................................................................................................................................................................................................................................................................................................................................................................................................................................................................................................................................................................................................................................................................................................................................................................................................................................................................................................................................................................................................................................................................................................................................................................................................................................................................................................................................................................................................................................................................................................................................................................................................................................................................................................................................................................................................................................................................................................................................................................................................................................................................................................................................................................................................................................................................................................................................................................................................................................................................................................................................................................................................................................................................................................................................................................................................................................................................................................................................................................................................................................................................................................................................................................................................................................................................................................................................................................................................................................................................................................................................................................................................................................................................................................................................................................................................................................................................................................................................................................................................................................................................................................................................................................................................................................................................................................................................................................................................................................................................................................................................................................................................................................................................................................................................................................................................................................................................................................................................................................................................................................................................................................................................................................................................................................................................................................................................................................................................................................................................................................................................................................................................................................................................................................................................................................................................................................................................................................................................................................................................................................................................................................................................................................................................................................................................................................................................................................................................................................................................................................................................................................................................................................................................................................................................................................................................................................................................................................................................................................................................................................................................................................................................................................................................................................................................................................................................................................................................................................................................................................................................................................................................................................................................................................................................................................................................................................................................................................................................................................................................................................................................................................................................................................................................................................................................................................................................................................................................................................................................................................................................................................................................................................................................................................................................................................................................................................................................................................................................................................................................................................................................................................................................................................................................................................................................................................................................................................................................................................................................................................................................................................................................................................................................................................................................................................................................................................................................................................................................................................................................................................................................................................................................................................................................................................................................................................................................................................................................................................................................................................................................................................................................................................................................................................................................................................................................................................................................................................................................................................................................................................................................................................................................................................................................................................................................................................................................................................................................................................................................................................................................................................................................................................................................................................................................................................................................................................................................................................................................................................................................................................................................................................................................................................................................................................................................................................................................................................................................................................................................................................................................................................................................................................................................................................................................................................................................................................................................................................................................................................................................................................................................................................................................................................................................................................................................................................................................................................................................................................................................................................................................................................................................................................................................................................................................................................................................................................................................................................................................................................................................................................................................................................................................................................................................................................................................................................................................................................................................................................................................................................................................................................................................................................................................................................................................................................................................................................................................................................................................................................................................................................................................................................................................................................................................................................................................................................................................................................................................................................................................................................................................................................................................................................................................................................................................................................................................................................................................................................................................................................................................................................................................................................................................................................................................................................................................................................................................................................................................................................................................................................................................................................................................................................................................................................................................................................................................................................................................................................................................................................................................................................................................................................................................................................................................................................................................................................................................................................................................................................................................................................................................................................................................................................................................................................................................................................................................................................................................................................................................................................................................................................................................................................................................................................................................................................................................................................................................................................................................................................................................................................................................................................................................................................................................................................................................................................................................................................................................................................................................................................................................................................................................................................................................................................................................................................................................................................................................................................................................................................................................................................................................................................................................................................................................................................................................................................................................................................................................................................................................................................................................................................................................................................................................................................................................................................................................................................................................................................................................................................................................................................................................................................................................................................................................................................................................................................................................................................................................................................................................................................................................................................................................................................................................................................................................................................................................................................................................................................................................................................................................................................................................................................................................................................................................................................................................................................................................................................................................................................................................................................................................................................................................................................................................................................................................................................................................................................................................................................................................................................................................................................................................................................................................................................................................................................................................................................................................................................................................................................................................................................................................................................................................................................................................................................................................................................................................................................................................................................................................................................................................................................................................................................................................................................................................................................................................................................................................................................................................................................................................................................................................................................................................................................................................................................................................................................................................................................................................................................................................................................................................................................................................................................................................................................................................................................................................................................................................................................................................................................................................................................................................................................................................................................................................................................................................................................................................................................................................................................................................................................................................................................................................................................................................................................................................................................................................................................................................................................................................................................................................................................................................................................................................................................................................................................................................................................................................................................................................................................................................................................................................................................................................................................................................................................................................................................................................................................................................................................................................................................................................................................................................................................................................................................................................................................................................................................................................................................................................................................................................................................................................................................................................................................................................................................................................................................................................................................................................................................................................................................................................................................................................................................................................................................................................................................................................................................................................................................................................................................................................................................................................................................................................................................................................................................................................................................................................................................................................................................................................................................................................................................................................................................................................................................................................................................................................................................................................................................................................................................................................................................................................................................................................................................................................................................................................................................................................................................................................................................................................................................................................................................................................................................................................................................................................................................................................................................................................................................................................................................................................................................................................................................................................................................................................................................................................................................................................................................................................................................................................................................................................................................................................................................................................................................................................................................................................................................................................................................................................................................................................................................................................................................................................................................................................................................................................................................................................................................................................................................................................................................................................................................................................................................................................................................................................................................................................................................................................................................................................................................................................................................................................................................................................................................................................................................................................................................................................................................................................................................................................................................................................................................................................................................................................................................................................................................................................................................................................................................................................................................................................................................................................................................................................................................................................................................................................................................................................................................................................................................................................................................................................................................................................................................................................................................................................................................................................................................................................................................................................................................................................................................................................................................................................................................................................................................................................................................................................................................................................................................................................................................................................................................................................................................................................................................................................................................................................................................................................................................................................................................................................................................................................................................................................................................................................................................................................................................................................................................................................................................................................................................................................................................................................................................................................................................................................................................................................................................................................................................................................................................................................................................................................................................................................................................................................................................................................................................................................................................................................................................................................................................................................................................................................................................................................................................................................................................................................................................................................................................................................................................................................................................................................................................................................................................................................................................................................................................................................................................................................................................................................................................................................................................................................................................................................................................................................................................................................................................................................................................................................................................................................................................................................................................................................................................................................................................................................................................................................................................................................................................................................................................................................................................................................................................................................................................................................................................................................................................................................................................................................................................................................................................................................................................................................................................................................................................................................................................................................................................................................................................................................................................................................................................................................................................................................................................................................................................................................................................................................................................................................................................................................................................................................................................................................................................................................................................................................................................................................................................................................................................................................................................................................................................................................................................................................................................................................................................................................................................................................................................................................................................................................................................................................................................................................................................................................................................................................................................................................................................................................................................................................................................................................................................................................................................................................................................................................................................................................................................................................................................................................................................................................................................................................................................................................................................................................................................................................................................................................................................................................................................................................................................................................................................................................................................................................................................................................................................................................................................................................................................................................................................................................................................................................................................................................................................................................................................................................................................................................................................................................................................................................................................................................................................................................................................................................................................................................................................................................................................................................................................................................................................................................................................................................................................................................................................................................................................................................................................................................................................................................................................................................................................................................................................................................................................................................................................................................................................................................................................................................................................................................................................................................................................................................................................................................................................................................................................................................................................................................................................................................................................................................................................................................................................................................................................................................................................................................................................................................................................................................................................................................................................................................................................................................................................................................................................................................................................................................................................................................................................................................................................................................................................................................................................................................................................................................................................................................................................................................................................................................................................................................................................................................................................................................................................................................................................................................................................................................................................................................................................................................................................................................................................................................................................................................................................................................................................................................................................................................................................................................................................................................................................................................................................................................................................................................................................................................................................................................................................................................................................................................................................................................................................................................................................................................................................................................................................................................................................................................................................................................................................................................................................................................................................................................................................................................................................................................................................................................................................................................................................................................................................................................................................................................................................................................................................................................................................................................................................................................................................................................................................................................................................................................................................................................................................................................................................................................................................................................................................................................................................................................................................................................................................................................................................................................................................................................................................................................................................................................................................................................................................................................................................................................................................................................................................................................................................................................................................................................................................................................................................................................................................................................................................................................................................................................................................................................................................................................................................................................................................................................................................................................................................................................................................................................................................................................................................................................................................................................................................................................................................................................................................................................................................................................................................................................................................................................................................................................................................................................................................................................................................................................................................................................................................................................................................................................................................................................................................................................................................................................................................................................................................................................................................................................................................................................................................................................................................................................................................................................................................................................................................................................................................................................................................................................................................................................................................................................................................................................................................................................................................................................................................................................................................................................................................................................................................................................................................................................................................................................................................................................................................................................................................................................................................................................................................................................................................................................................................................................................................................................................................................................................................................................................................................................................................................................................................................................................................................................................................................................................................................................................................................................................................................................................................................................................................................................................................................................................................................................................................................................................................................................................................................................................................................................................................................................................................................................................................................................................................................................................................................................................................................................................................................................................................................................................................................................................................................................................................................................................................................................................................................................................................................................................................................................................................................................................................................................................................................................................................................................................................................................................................................................................................................................................................................................................................................................................................................................................................................................................................................................................................................................................................................................................................................................................................................................................................................................................................................................................................................................................................................................................................................................................................................................................................................................................................................................................................................................................................................................................................................................................................................................................................................................................................................................................................................................................................................................................................................................................................................................................................................................................................................................................................................................................................................................................................................................................................................................................................................................................................................................................................................................................................................................................................................................................................................................................................................................................................................................................................................................................................................................................................................................................................................................................................................................................................................................................................................................................................................................................................................................................................................................................................................................................................................................................................................................................................................................................................................................................................................................................................................................................................................................................................................................................................................................................................................................................................................................................................................................................................................................................................................................................................................................................................................................................................................................................................................................................................................................................................................................................................................................................................................................................................................................................................................................................................................................................................................................................................................................................................................................................................................................................................................................................................................................................................................................................................................................................................................................................................................................................................................................................................................................................................................................................................................................................................................................................................................................................................................................................................................................................................................................................................................................................................................................................................................................................................................................................................................................................................................................................................................................................................................................................................................................................................................................................................................................................................................................................................................................................................................................................................................................................................................................................................................................................................................................................................................................................................................................................................................................................................................................................................................................................................................................................................................................................................................................................................................................................................................................................................................................................................................................................................................................................................................................................................................................................................................................................................................................................................................................................................................................................................................................................................................................................................................................................................................................................................................................................................................................................................................................................................................................................................................................................................................................................................................................................................................................................................................................................................................................................................................................................................................................................................................................................................................................................................................................................................................................................................................................................................................................................................................................................................................................................................................................................................................................................................................................................................................................................................................................................................................................................................................................................................................................................................................................................................................................................................................................................................................................................................................................................................................................................................................................................................................................................................................................................................................................................................................................................................................................................................................................................................................................................................................................................................................................................................................................................................................................................................................................................................................................................................................................................................................................................................................................................................................................................................................................................................................................................................................................................................................................................................................................................................................................................................................................................................................................................................................................................................................................................................................................................................................................................................................................................................................................................................................................................................................................................................................................................................................................................................................................................................................................................................................................................................................................................................................................................................................................................................................................................................................................................................................................................................................................................................................................................................................................................................................................................................................................................................................................................................................................................................................................................................................................................................................................................................................................................................................................................................................................................................................................................................................................................................................................................................................................................................................................................................................................................................................................................................................................................................................................................................................................................................................................................................................................................................................................................................................................................................................................................................................................................................................................................................................................................................................................................................................................................................................................................................................................................................................................................................................................................................................................................................................................................................................................................................................................................................................................................................................................................................................................................................................................................................................................................................................................................................................................................................................................................................................................................................................................................................................................................................................................................................................................................................................................................................................................................................................................................................................................................................................................................................................................................................................................................................................................................................................................................................................................................................................................................................................................................................................................................................................................................................................................................................................................................................................................................................................................................................................................................................................................................................................................................................................................................................................................................................................................................................................................................................................................................................................................................................................................................................................................................................................................................................................................................................................................................................................................................................................................................................................................................................................................................................................................................................................................................................................................................................................................................................................................................................................................................................................................................................................................................................................................................................................................................................................................................................................................................................................................................................................................................................................................................................................................................................................................................................................................................................................................................................................................................................................................................................................................................................................................................................................................................................................................................................................................................................................................................................................................................................................................................................................................................................................................................................................................................................................................................................................................................................................................................................................................................................................................................................................................................................................................................................................................................................................................................................................................................................................................................................................................................................................................................................................................................................................................................................................................................................................................................................................................................................................................................................................................................................................................................................................................................................................................................................................................................................................................................................................................................................................................................................................................................................................................................................................................................................................................................................................................................................................................................................................................................................................................................................................................................................................................................................................................................................................................................................................................................................................................................................................................................................................................................................................................................................................................................................................................................................................................................................................................................................................................................................................................................................................................................................................................................................................................................................................................................................................................................................................................................................................................................................................................................................................................................................................................................................................................................................................................................................................................................................................................................................................................................................................................................................................................................................................................................................................................................................................................................................................................................................................................................................................................................................................................................................................................................................................................................................................................................................................................................................................................................................................................................................................................................................................................................................................................................................................................................................................................................................................................................................................................................................................................................................................................................................................................................................................................................................................................................................................................................................................................................................................................................................................................................................................................................................................................................................................................................................................................................................................................................................................................................................................................................................................................................................................................................................................................................................................................................................................................................................................................................................................................................................................................................................................................................................................................................................................................................................................................................................................................................................................................................................................................................................................................................................................................................................................................................................................................................................................................................................................................................................................................................................................................................................................................................................................................................................................................................................................................................................................................................................................................................................................................................................................................................................................................................................................................................................................................................................................................................................................................................................................................................................................................................................................................................................................................................................................................................................................................................................................................................................................................................................................................................................................................................................................................................................................................................................................................................................................................................................................................................................................................................................................................................................................................................................................................................................................................................................................................................................................................................................................................................................................................................................................................................................................................................................................................................................................................................................................................................................................................................................................................................................................................................................................................................................................................................................................................................................................................................................................................................................................................................................................................................................................................................................................................................................................................................................................................................................................................................................................................................................................................................................................................................................................................................................................................................................................................................................................................................................................................................................................................................................................................................................................................................................................................................................................................................................................................................................................................................................................................................................................................................................................................................................................................................................................................................................................................................................................................................................................................................................................................................................................................................................................................................................................................................................................................................................................................................................................................................................................................................................................................................................................................................................................................................................................................................................................................................................................................................................................................................................................................................................................................................................................................................................................................................................................................................................................................................................................................................................................................................................................................................................................................................................................................................................................................................................................................................................................................................................................................................................................................................................................................................................................................................................................................................................................................................................................................................................................................................................................................................................................................................................................................................................................................................................................................................................................................................................................................................................................................................................................................................................................................................................................................................................................................................................................................................................................................................................................................................................................................................................................................................................................................................................................................................................................................................................................................................................................................................................................................................................................................................................................................................................................................................................................................................................................................................................................................................................................................................................................................................................................................................................................................................................................................................................................................................................................................................................................................................................................................................................................................................................................................................................................................................................................................................................................................................................................................................................................................................................................................................................................................................................................................................................................................................................................................................................................................................................................................................................................................................................................................................................................................................................................................................................................................................................................................................................................................................................................................................................................................................................................................................................................................................................................................................................................................................................................................................................................................................................................................................................................................................................................................................................................................................................................................................................................................................................................................................................................................................................................................................................................................................................................................................................................................................................................................................................................................................................................................................................................................................................................................................................................................................................................................................................................................................................................................................................................................................................................................................................................................................................................................................................................................................................................................................................................................................................................................................................................................................................................................................................................................................................................................................................................................................................................................................................................................................................................................................................................................................................................................................................................................................................................................................................................................................................................................................................................................................................................................................................................................................................................................................................................................................................................................................................................................................................................................................................................................................................................................................................................................................................................................................................................................................................................................................................................................................................................................................................................................................................................................................................................................................................................................................................................................................................................................................................................................................................................................................................................................................................................................................................................................................................................................................................................................................................................................................................................................................................................................................................................................................................................................................................................................................................................................................................................................................................................................................................................................................................................................................................................................................................................................................................................................................................................................................................................................................................................................................................................................................................................................................................................................................................................................................................................................................................................................................................................................................................................................................................................................................................................................................................................................................................................................................................................................................................................................................................................................................................................................................................................................................................................................................................................................................................................................................................................................................................................................................................................................................................................................................................................................................................................................................................................................................................................................................................................................................................................................................................................................................................................................................................................................................................................................................................................................................................................................................................................................................................................................................................................................................................................................................................................................................................................................................................................................................................................................................................................................................................................................................................................................................................................................................................................................................................................................................................................................................................................................................................................................................................................................................................................................................................................................................................................................................................................................................................................................................................................................................................................................................................................................................................................................................................................................................................................................................................................................................................................................................................................................................................................................................................................................................................................................................................................................................................................................................................................................................................................................................................................................................................................................................................................................................................................................................................................................................................................................................................................................................................................................................................................................................................................................................................................................................................................................................................................................................................................................................................................................................................................................................................................................................................................................................................................................................................................................................................................................................................................................................................................................................................................................................................................................................................................................................................................................................................................................................................................................................................................................................................................................................................................................................................................................................................................................................................................................................................................................................................................................................................................................................................................................................................................................................................................................................................................................................................................................................................................................................................................................................................................................................................................................................................................................................................................................................................................................................................................................................................................................................................................................................................................................................................................................................................................................................................................................................................................................................................................................................................................................................................................................................................................................................................................................................................................................................................................................................................................................................................................................................................................................................................................................................................................................................................................................................................................................................................................................................................................................................................................................................................................................................................................................................................................................................................................................................................................................................................................................................................................................................................................................................................................................................................................................................................................................................................................................................................................................................................................................................................................................................................................................................................................................................................................................................................................................................................................................................................................................................................................................................................................................................................................................................................................................................................................................................................................................................................................................................................................................................................................................................................................................................................................................................................................................................................................................................................................................................................................................................................................................................................................................................................................................................................................................................................................................................................................................................................................................................................................................................................................................................................................................................................................................................................................................................................................................................................................................................................................................................................................................................................................................................................................................................................................................................................................................................................................................................................................................................................................................................................................................................................................................................................................................................................................................................................................................................................................................................................................................................................................................................................................................................................................................................................................................................................................................................................................................................................................................................................................................................................................................................................................................................................................................................................................................................................................................................................................................................................................................................................................................................................................................................................................................................................................................................................................................................................................................................................................................................................................................................................................................................................................................................................................................................................................................................................................................................................................................................................................................................................................................................................................................................................................................................................................................................................................................................................................................................................................................................................................................................................................................................................................................................................................................................................................................................................................................................................................................................................................................................................................................................................................................................................................................................................................................................................................................................................................................................................................................................................................................................................................................................................................................................................................................................................................................................................................................................................................................................................................................................................................................................................................................................................................................................................................................................................................................................................................................................................................................................................................................................................................................................................................................................................................................................................................................................................................................................................................................................................................................................................................................................................................................................................................................................................................................................................................................................................................................................................................................................................................................................................................................................................................................................................................................................................................................................................................................................................................................................................................................................................................................................................................................................................................................................................................................................................................................................................................................................................................................................................................................................................................................................................................................................................................................................................................................................................................................................................................................................................................................................................................................................................................................................................................................................................................................................................................................................................................................................................................................................................................................................................................................................................................................................................................................................................................................................................................................................................................................................................................................................................................................................................................................................................................................................................................................................................................................................................................................................................................................................................................................................................................................................................................................................................................................................................................................................................................................................................................................................................................................................................................................................................................................................................................................................................................................................................................................................................................................................................................................................................................................................................................................................................................................................................................................................................................................................................................................................................................................................................................................................................................................................................................................................................................................................................................................................................................................................................................................................................................................................................................................................................................................................................................................................................................................................................................................................................................................................................................................................................................................................................................................................................................................................................................................................................................................................................................................................................................................................................................................................................................................................................................................................................................................................................................................................................................................................................................................................................................................................................................................................................................................................................................................................................................................................................................................................................................................................................................................................................................................................................................................................................................................................................................................................................................................................................................................................................................................................................................................................................................................................................................................................................................................................................................................................................................................................................................................................................................................................................................................................................................................................................................................................................................................................................................................................................................................................................................................................................................................................................................................................................................................................................................................................................................................................................................................................................................................................................................................................................................................................................................................................................................................................................................................................................................................................................................................................................................................................................................................................................................................................................................................................................................................................................................................................................................................................................................................................................................................................................................................................................................................................................................................................................................................................................................................................................................................................................................................................................................................................................................................................................................................................................................................................................................................................................................................................................................................................................................................................................................................................................................................................................................................................................................................................................................................................................................................................................................................................................................................................................................................................................................................................................................................................................................................................................................................................................................................................................................................................................................................................................................................................................................................................................................................................................................................................................................................................................................................................................................................................................................................................................................................................................................................................................................................................................................................................................................................................................................................................................................................................................................................................................................................................................................................................................................................................................................................................................................................................................................................................................................................................................................................................................................................................................................................................................................................................................................................................................................................................................................................................................................................................................................................................................................................................................................................................................................................................................................................................................................................................................................................................................................................................................................................................................................................................................................................................................................................................................................................................................................................................................................................................................................................................................................................................................................................................................................................................................................................................................................................................................................................................................................................................................................................................................................................................................................................................................................................................................................................................................................................................................................................................................................................................................................................................................................................................................................................................................................................................................................................................................................................................................................................................................................................................................................................................................................................................................................................................................................................................................................................................................................................................................................................................................................................................................................................................................................................................................................................................................................................................................................................................................................................................................................................................................................................................................................................................................................................................................................................................................................................................................................................................................................................................................................................................................................................................................................................................................................................................................................................................................................................................................................................................................................................................................................................................................................................................................................................................................................................................................................................................................................................................................................................................................................................................................................................................................................................................................................................................................................................................................................................................................................................................................................................................................................................................................................................................................................................................................................................................................................................................................................................................................................................................................................................................................................................................................................................................................................................................................................................................................................................................................................................................................................................................................................................................................................................................................................................................................................................................................................................................................................................................................................................................................................................................................................................................................................................................................................................................................................................................................................................................................................................................................................................................................................................................................................................................................................................................................................................................................................................................................................................................................................................................................................................................................................................................................................................................................................................................................................................................................................................................................................................................................................................................................................................................................................................................................................................................................................................................................................................................................................................................................................................................................................................................................................................................................................................................................................................................................................................................................................................................................................................................................................................................................................................................................................................................................................................................................................................................................................................................................................................................................................................................................................................................................................................................................................................................................................................................................................................................................................................................................................................................................................................................................................................................................................................................................................................................................................................................................................................................................................................................................................................................................................................................................................................................................................................................................................................................................................................................................................................................................................................................................................................................................................................................................................................................................................................................................................................................................................................................................................................................................................................................................................................................................................................................................................................................................................................................................................................................................................................................................................................................................................................................................................................................................................................................................................................................................................................................................................................................................................................................................................................................................................................................................................................................................................................................................................................................................................................................................................................................................................................................................................................................................................................................................................................................................................................................................................................................................................................................................................................................................................................................................................................................................................................................................................................................................................................................................................................................................................................................................................................................................................................................................................................................................................................................................................................................................................................................................................................................................................................................................................................................................................................................................................................................................................................................................................................................................................................................................................................................................................................................................................................................................................................................................................................................................................................................................................................................................................................................................................................................................................................................................................................................................................................................................................................................................................................................................................................................................................................................................................................................................................................................................................................................................................................................................................................................................................................................................................................................................................................................................................................................................................................................................................................................................................................................................................................................................................................................................................................................................................................................................................................................................................................................................................................................................................................................................................................................................................................................................................................................................................................................................................................................................................................................................................................................................................................................................................................................................................................................................................................................................................................................................................................................................................................................................................................................................................................................................................................................................................................................................................................................................................................................................................................................................................................................................................................................................................................................................................................................................................................................................................................................................................................................................................................................................................................................................................................................................................................................................................................................................................................................................................................................................................................................................................................................................................................................................................................................................................................................................................................................................................................................................................................................................................................................................................................................................................................................................................................................................................................................................................................................................................................................................................................................................................................................................................................................................................................................................................................................................................................................................................................................................................................................................................................................................................................................................................................................................................................................................................................................................................................................................................................................................................................................................................................................................................................................................................................................................................................................................................................................................................................................................................................................................................................................................................................................................................................................................................................................................................................................................................................................................................................................................................................................................................................................................................................................................................................................................................................................................................................................................................................................................................................................................................................................................................................................................................................................................................................................................................................................................................................................................................................................................................................................................................................................................................................................................................................................................................................................................................................................................................................................................................................................................................................................................................................................................................................................................................................................................................................................................................................................................................................................................................................................................................................................................................................................................................................................................................................................................................................................................................................................................................................................................................................................................................................................................................................................................................................................................................................................................................................................................................................................................................................................................................................................................................................................................................................................................................................................................................................................................................................................................................................................................................................................................................................................................................................................................................................................................................................................................................................................................................................................................................................................................................................................................................................................................................................................................................................................................................................................................................................................................................................................................................................................................................................................................................................................................................................................................................................................................................................................................................................................................................................................................................................................................................................................................................................................................................................................................................................................................................................................................................................................................................................................................................................................................................................................................................................................................................................................................................................................................................................................................................................................................................................................................................................................................................................................................................................................................................................................................................................................................................................................................................................................................................................................................................................................................................................................................................................................................................................................................................................................................................................................................................................................................................................................................................................................................................................................................................................................................................................................................................................................................................................................................................................................................................................................................................................................................................................................................................................................................................................................................................................................................................................................................................................................................................................................................................................................................................................................................................................................................................................................................................................................................................................................................................................................................................................................................................................................................................................................................................................................................................................................................................................................................................................................................................................................................................................................................................................................................................................................................................................................................................................................................................................................................................................................................................................................................................................................................................................................................................................................................................................................................................................................................................................................................................................................................................................................................................................................................................................................................................................................................................................................................................................................................................................................................................................................................................................................................................................................................................................................................................................................................................................................................................................................................................................................................................................................................................................................................................................................................................................................................................................................................................................................................................................................................................................................................................................................................................................................................................................................................................................................................................................................................................................................................................................................................................................................................................................................................................................................................................................................................................................................................................................................................................................................................................................................................................................................................................................................................................................................................................................................................................................................................................................................................................................................................................................................................................................................................................................................................................................................................................................................................................................................................................................................................................................................................................................................................................................................................................................................................................................................................................................................................................................................................................................................................................................................................................................................................................................................................................................................................................................................................................................................................................................................................................................................................................................................................................................................................................................................................................................................................................................................................................................................................................................................................................................................................................................................................................................................................................................................................................................................................................................................................................................................................................................................................................................................................................................................................................................................................................................................................................................................................................................................................................................................................................................................................................................................................................................................................................................................................................................................................................................................................................................................................................................................................................................................................................................................................................................................................................................................................................................................................................................................................................................................................................................................................................................................................................................................................................................................................................................................................................................................................................................................................................................................................................................................................................................................................................................................................................................................................................................................................................................................................................................................................................................................................................................................................................................................................................................................................................................................................................................................................................................................................................................................................................................................................................................................................................................................................................................................................................................................................................................................................................................................................................................................................................................................................................................................................................................................................................................................................................................................................................................................................................................................................................................................................................................................................................................................................................................................................................................................................................................................................................................................................................................................................................................................................................................................................................................................................................................................................................................................................................................................................................................................................................................................................................................................................................................................................................................................................................................................................................................................................................................................................................................................................................................................................................................................................................................................................................................................................................................................................................................................................................................................................................................................................................................................................................................................................................................................................................................................................................................................................................................................................................................................................................................................................................................................................................................................................................................................................................................................................................................................................................................................................................................................................................................................................................................................................................................................................................................................................................................................................................................................................................................................................................................................................................................................................................................................................................................................................................................................................................................................................................................................................................................................................................................................................................................................................................................................................................................................................................................................................................................................................................................................................................................................................................................................................................................................................................................................................................................................................................................................................................................................................................................................................................................................................................................................................................................................................................................................................................................................................................................................................................................................................................................................................................................................................................................................................................................................................................................................................................................................................................................................................................................................................................................................................................................................................................................................................................................................................................................................................................................................................................................................................................................................................................................................................................................................................................................................................................................................................................................................................................................................................................................................................................................................................................................................................................................................................................................................................................................................................................................................................................................................................................................................................................................................................................................................................................................................................................................................................................................................................................................................................................................................................................................................................................................................................................................................................................................................................................................................................................................................................................................................................................................................................................................................................................................................................................................................................................................................................................................................................................................................................................................................................................................................................................................................................................................................................................................................................................................................................................................................................................................................................................................................................................................................................................................................................................................................................................................................................................................................................................................................................................................................................................................................................................................................................................................................................................................................................................................................................................................................................................................................................................................................................................................................................................................................................................................................................................................................................................................................................................................................................................................................................................................................................................................................................................................................................................................................................................................................................................................................................................................................................................................................................................................................................................................................................................................................................................................................................................................................................................................................................................................................................................................................................................................................................................................................................................................................................................................................................................................................................................................................................................................................................................................................................................................................................................................................................................................................................................................................................................................................................................................................................................................................................................................................................................................................................................................................................................................................................................................................................................................................................................................................................................................................................................................................................................................................................................................................................................................................................................................................................................................................................................................................................................................................................................................................................................................................................................................................................................................................................................................................................................................................................................................................................................................................................................................................................................................................................................................................................................................................................................................................................................................................................................................................................................................................................................................................................................................................................................................................................................................................................................................................................................................................................................................................................................................................................................................................................................................................................................................................................................................................................................................................................................................................................................................................................................................................................................................................................................................................................................................................................................................................................................................................................................................................................................................................................................................................................................................................................................................................................................................................................................................................................................................................................................................................................................................................................................................................................................................................................................................................................................................................................................................................................................................................................................................................................................................................................................................................................................................................................................................................................................................................................................................................................................................................................................................................................................................................................................................................................................................................................................................................................................................................................................................................................................................................................................................................................................................................................................................................................................................................................................................................................................................................................................................................................................................................................................................................................................................................................................................................................................................................................................................................................................................................................................................................................................................................................................................................................................................................................................................................................................................................................................................................................................................................................................................................................................................................................................................................................................................................................................................................................................................................................................................................................................................................................................................................................................................................................................................................................................................................................................................................................................................................................................................................................................................................................................................................................................................................................................................................................................................................................................................................................................................................................................................................................................................................................................................................................................................................................................................................................................................................................................................................................................................................................................................................................................................................................................................................................................................................................................................................................................................................................................................................................................................................................................................................................................................................................................................................................................................................................................................................................................................................................................................................................................................................................................................................................................................................................................................................................................................................................................................................................................................................................................................................................................................................................................................................................................................................................................................................................................................................................................................................................................................................................................................................................................................................................................................................................................................................................................................................................................................................................................................................................................................................................................................................................................................................................................................................................................................................................................................................................................................................................................................................................................................................................................................................................................................................................................................................................................................................................................................................................................................................................................................................................................................................................................................................................................................................................................................................................................................................................................................................................................................................................................................................................................................................................................................................................................................................................................................................................................................................................................................................................................................................................................................................................................................................................................................................................................................................................................................................................................................................................................................................................................................................................................................................................................................................................................................................................................................................................................................................................................................................................................................................................................................................................................................................................................................................................................................................................................................................................................................................................................................................................................................................................................................................................................................................................................................................................................................................................................................................................................................................................................................................................................................................................................................................................................................................................................................................................................................................................................................................................................................................................................................................................................................................................................................................................................................................................................................................................................................................................................................................................................................................................................................................................................................................................................................................................................................................................................................................................................................................................................................................................................................................................................................................................................................................................................................................................................................................................................................................................................................................................................................................................................................................................................................................................................................................................................................................................................................................................................................................................................................................................................................................................................................................................................................................................................................................................................................................................................................................................................................................................................................................................................................................................................................................................................................................................................................................................................................................................................................................................................................................................................................................................................................................................................................................................................................................................................................................................................................................................................................................................................................................................................................................................................................................................................................................................................................................................................................................................................................................................................................................................................................................................................................................................................................................................................................................................................................................................................................................................................................................................................................................................................................................................................................................................................................................................................................................................................................................................................................................................................................................................................................................................................................................................................................................................................................................................................................................................................................................................................................................................................................................................................................................................................................................................................................................................................................................................................................................................................................................................................................................................................................................................................................................................................................................................................................................................................................................................................................................................................................................................................................................................................................................................................................................................................................................................................................................................................................................................................................................................................................................................................................................................................................................................................................................................................................................................................................................................................................................................................................................................................................................................................................................................................................................................................................................................................................................................................................................................................................................................................................................................................................................................................................................................................................................................................................................................................................................................................................................................................................................................................................................................................................................................................................................................................................................................................................................................................................................................................................................................................................................................................................................................................................................................................................................................................................................................................................................................................................................................................................................................................................................................................................................................................................................................................................................................................................................................................................................................................................................................................................................................................................................................................................................................................................................................................................................................................................................................................................................................................................................................................................................................................................................................................................................................................................................................................................................................................................................................................................................................................................................................................................................................................................................................................................................................................................................................................................................................................................................................................................................................................................................................................................................................................................................................................................................................................................................................................................................................................................................................................................................................................................................................................................................................................................................................................................................................................................................................................................................................................................................................................................................................................................................................................................................................................................................................................................................................................................................................................................................................................................................................................................................................................................................................................................................................................................................................................................................................................................................................................................................................................................................................................................................................................................................................................................................................................................................................................................................................................................................................................................................................................................................................................................................................................................................................................................................................................................................................................................................................................................................................................................................................................................................................................................................................................................................................................................................................................................................................................................................................................................................................................................................................................................................................................................................................................................................................................................................................................................................................................................................................................................................................................................................................................................................................................................................................................................................................................................................................................................................................................................................................................................................................................................................................................................................................................................................................................................................................................................................................................................................................................................................................................................................................................................................................................................................................................................................................................................................................................................................................................................................................................................................................................................................................................................................................................................................................................................................................................................................................................................................................................................................................................................................................................................................................................................................................................................................................................................................................................................................................................................................................................................................................................................................................................................................................................................................................................................................................................................................................................................................................................................................................................................................................................................................................................................................................................................................................................................................................................................................................................................................................................................................................................................................................................................................................................................................................................................................................................................................................................................................................................................................................................................................................................................................................................................................................................................................................................................................................................................................................................................................................................................................................................................................................................................................................................................................................................................................................................................................................................................................................................................................................................................................................................................................................................................................................................................................................................................................................................................................................................................................................................................................................................................................................................................................................................................................................................................................................................................................................................................................................................................................................................................................................................................................................................................................................................................................................................................................................................................................................................................................................................................................................................................................................................................................................................................................................................................................................................................................................................................................................................................................................................................................................................................................................................................................................................................................................................................................................................................................................................................................................................................................................................................................................................................................................................................................................................................................................................................................................................................................................................................................................................................................................................................................................................................................................................................................................................................................................................................................................................................................................................................................................................................................................................................................................................................................................................................................................................................................................................................................................................................................................................................................................................................................................................................................................................................................................................................................................................................................................................................................................................................................................................................................................................................................................................................................................................................................................................................................................................................................................................................................................................................................................................................................................................................................................................................................................................................................................................................................................................................................................................................................................................................................................................................................................................................................................................................................................................................................................................................................................................................................................................................................................................................................................................................................................................................................................................................................................................................................................................................................................................................................................................................................................................................................................................................................................................................................................................................................................................................................................................................................................................................................................................................................................................................................................................................................................................................................................................................................................................................................................................................................................................................................................................................................................................................................................................................................................................................................................................................................................................................................................................................................................................................................................................................................................................................................................................................................................................................................................................................................................................................................................................................................................................................................................................................................................................................................................................................................................................................................................................................................................................................................................................................................................................................................................................................................................................................................................................................................................................................................................................................................................................................................................................................................................................................................................................................................................................................................................................................................................................................................................................................................................................................................................................................................................................................................................................................................................................................................................................................................................................................................................................................................................................................................................................................................................................................................................................................................................................................................................................................................................................................................................................................................................................................................................................................................................................................................................................................................................................................................................................................................................................................................................................................................................................................................................................................................................................................................................................................................................................................................................................................................................................................................................................................................................................................................................................................................................................................................................................................................................................................................................................................................................................................................................................................................................................................................................................................................................................................................................................................................................................................................................................................................................................................................................................................................................................................................................................................................................................................................................................................................................................................................................................................................................................................................................................................................................................................................................................................................................................................................................................................................................................................................................................................................................................................................................................................................................................................................................................................................................................................................................................................................................................................................................................................................................................................................................................................................................................................................................................................................................................................................................................................................................................................................................................................................................................................................................................................................................................................................................................................................................................................................................................................................................................................................................................................................................................................................................................................................................................................................................................................................................................................................................................................................................................................................................................................................................................................................................................................................................................................................................................................................................................................................................................................................................................................................................................................................................................................................................................................................................................................................................................................................................................................................................................................................................................................................................................................................................................................................................................................................................................................................................................................................................................................................................................................................................................................................................................................................................................................................................................................................................................................................................................................................................................................................................................................................................................................................................................................................................................................................................................................................................................................................................................................................................................................................................................................................................................................................................................................................................................................................................................................................................................................................................................................................................................................................................................................................................................................................................................................................................................................................................................................................................................................................................................................................................................................................................................................................................................................................................................................................................................................................................................................................................................................................................................................................................................................................................................................................................................................................................................................................................................................................................................................................................................................................................................................................................................................................................................................................................................................................................................................................................................................................................................................................................................................................................................................................................................................................................................................................................................................................................................................................................................................................................................................................................................................................................................................................................................................................................................................................................................................................................................................................................................................................................................................................................................................................................................................................................................................................................................................................................................................................................................................................................................................................................................................................................................................................................................................................................] succeeded.\n",
            "Connection to `webdav.yandex.ru' closed.\n"
          ]
        }
      ]
    },
    {
      "cell_type": "code",
      "source": [
        "!rm ProductsDataset.zip\n",
        "!rm ProductsDataset.csv\n",
        "loadFileFromWebDav(\"webdav.yandex.ru\", \"Colab\", \"ProductsDataset.zip\", \"pavelzrenie\", \"nuagieinlgexdsbi\")"
      ],
      "metadata": {
        "colab": {
          "base_uri": "https://localhost:8080/"
        },
        "id": "nu6XPTUcJ_rW",
        "outputId": "1e1e2b1a-3d6d-4638-929d-dbc3a5bc9c55"
      },
      "execution_count": null,
      "outputs": [
        {
          "output_type": "stream",
          "name": "stdout",
          "text": [
            "rm: cannot remove 'ProductsDataset.zip': No such file or directory\n",
            "rm: cannot remove 'ProductsDataset.csv': No such file or directory\n",
            "cd Colab\n",
            "get ProductsDataset.zip\n",
            "exit\n",
            "Downloading `/Colab/ProductsDataset.zip' to ProductsDataset.zip:\n",
            "Progress: [=============================>] 100.0% of 4398055 bytes succeeded.\n",
            "Connection to `webdav.yandex.ru' closed.\n",
            "Archive:  ProductsDataset.zip\n",
            "  inflating: ProductsDataset.csv     \n"
          ]
        }
      ]
    },
    {
      "cell_type": "code",
      "source": [
        "f = 0\n",
        "with codecs.open(\"Otvety.txt\", \"r\", \"utf-8\") as fin:\n",
        "      # из исходного файла перебираем строки\n",
        "      for line in fin:\n",
        "        print(line)\n",
        "        f += 1\n",
        "        if f == 30:\n",
        "          break"
      ],
      "metadata": {
        "id": "KCmLN2uskC80",
        "colab": {
          "base_uri": "https://localhost:8080/"
        },
        "outputId": "6ebd8e70-bad3-4faf-c5b0-7b9d8a0d61c7"
      },
      "execution_count": null,
      "outputs": [
        {
          "output_type": "stream",
          "name": "stdout",
          "text": [
            "\n",
            "\n",
            "---\n",
            "\n",
            "вопрос о ТДВ)) давно и хорошо отдыхаем)) ЛИЧНО ВАМ здесь кого советовали завести?)) . \n",
            "\n",
            "хомячка.... \n",
            "\n",
            "мужика, йопаря, собачку и 50 кошек))). \n",
            "\n",
            "Общение !). \n",
            "\n",
            "паучка. \n",
            "\n",
            "Да пол мне бы памыть!<br>А таг то ни чо. Типа ни каво!. \n",
            "\n",
            "я тут вообще что бы пообщаться..... \n",
            "\n",
            "А мне советовали сиси завести...))). \n",
            "\n",
            "Ну, слава богу, мужика завести ещё не советовали))) А вот сватать к кому только не сватали). \n",
            "\n",
            "мне тут советовали завести любовника, мужа и много кошек )))<br>приветик ))). \n",
            "\n",
            "---\n",
            "\n",
            "Как парни относятся к цветным линзам? Если у девушки то зеленые глаза, то голубые...)) . \n",
            "\n",
            "меня вобще прикалывает эта тема :). \n",
            "\n",
            "когда этобыло редкость - было забавно, а когда все знают, что эта фальшивка, то уже не прикольно, как силиконовые сиськи или как налепленные синтетические волосы. \n",
            "\n",
            "---\n",
            "\n",
            "Что делать, сегодня нашёл 2 миллиона рублей? . \n",
            "\n",
            "Если это \"счастье \" действительно на вас свалилось, лучше пойти в милицию и заявить о находке. Такие деньги просто так не терют, а что самое интересное их неприменно будут искать и поверьте мне найдут, видел подобное в жизни. Можно нарваться на бабушку конечно, которая хотела помоч внуку с покупкой квартиры, а можно на бандитов, которые будут с вами разговаривать иначе чем бабушка с милицией. Выбор за вами, есть еще конечно шанс, что это подарок с выше за котрый с вас никто не спросит, тогда лучше отдать хотябы 500 на благотворительность. дабы не спугнуть удачу!. \n",
            "\n",
            "Что не знаешь что делать? тогда отдай тому кто знает, а если серьезно- можешь отнести их в полицию они найдут что с ними сделать, или другой вариант возьми чуть, а остальные надежно спрячь пускай лежат будешь брать сколько необходимо чтобы подозрений не вызывало не у кого от куда у тебя такие деньги.. \n",
            "\n",
            "А не скажете местечко, где такие находки попадаются?))) Если бы я нашла два миллиона, я прежде всего растерялась и пребывала в шоке. В первую очередь думаю, нужно убедиться что они настоящие. В полицию я бы скорее всего не пошла, деньги были бы очень кстати.. \n",
            "\n",
            "Я думаю следует отметить это дело как следует, ну а если хотите поделиться с полицией, то смело отправляйтесь в ближайшее отделение.. \n",
            "\n",
            "первым делом - нужно поспать ))) И дурацких ошибок не совершите, и мудрый совет от бессознательного получите во время сна ). \n",
            "\n",
            "Одолжите миллион мне, нам на покупку квартиры не хватает))Так будет сохраннее.. \n",
            "\n",
            "Если не знаешь, как развести толпу, то лучше помолчи. Ну а если и вправду нашёл такую сумму, то распространяться, тем более в интернете, об этом не следует.. \n",
            "\n",
            "---\n",
            "\n",
            "Эбу в двенашке называется Итэлма что за эбу? . \n",
            "\n",
            "ЭБУ — электронный блок управления двигателем автомобиля, его другое название — контроллер. Он принимает информацию от многочисленных датчиков, обрабатывает ее по особым алгоритмам и, отталкиваясь от полученных данных, отдает команды исполнительным устройствам системы.. \n",
            "\n",
            "Это завод.<br>А ЭБУ может и Январь и Бош. \n",
            "\n",
            "А я ЭБУ. \n",
            "\n"
          ]
        }
      ]
    },
    {
      "cell_type": "code",
      "source": [],
      "metadata": {
        "id": "uCwoVs3klJ8d"
      },
      "execution_count": null,
      "outputs": []
    },
    {
      "cell_type": "markdown",
      "source": [
        "Предобработаем ответы mail.ru из файла: к каждому вопросу присоединим 1 ответ и запишем в файл на будущее. Это позволит нам сэкономить время и ресурсы при дальнейшем препроцессинге текста"
      ],
      "metadata": {
        "id": "KJ1ddxaZlRcA"
      }
    },
    {
      "cell_type": "code",
      "execution_count": null,
      "metadata": {
        "id": "CkPCxYl4GoB9",
        "colab": {
          "base_uri": "https://localhost:8080/",
          "height": 49,
          "referenced_widgets": [
            "cb5bacd16eed45fdb3416fa380c68ffc",
            "8e25a67368b8451ab8c1c7221f7eb542",
            "28ff77be3a01422d913c1b1d716ed799",
            "77e766d929fe4b65a4745268ba6b7694",
            "302f399889bf449792a74a972bb655f2",
            "3df8d750f8f348df8a022d4f2f0ee6f7",
            "edcb0738ef6c4227a8e971282541fde0",
            "92f01955658b4401a72edb84be97a4f4",
            "ce93c2fc9d9c472fa20afa5361489019",
            "5d25f90a62d549eb9720e86d8f282d20",
            "3b42375282ff4604a60156f2459b96e4"
          ]
        },
        "outputId": "a5a231e7-2733-47ff-bedd-ab807a2a1cf6"
      },
      "outputs": [
        {
          "output_type": "display_data",
          "data": {
            "text/plain": [
              "0it [00:00, ?it/s]"
            ],
            "application/vnd.jupyter.widget-view+json": {
              "version_major": 2,
              "version_minor": 0,
              "model_id": "cb5bacd16eed45fdb3416fa380c68ffc"
            }
          },
          "metadata": {}
        }
      ],
      "source": [
        "# вопрос не написан\n",
        "question = None\n",
        "# ответ не написан\n",
        "written = False\n",
        "\n",
        "# записываем в файл подготовленные ответы(prepared_answers.txt)\n",
        "with codecs.open(\"prepared_answers.txt\",\"w\", \"utf-8\") as fout:\n",
        "  # читаем файл Otvety.txt\n",
        "    with codecs.open(\"Otvety.txt\", \"r\", \"utf-8\") as fin:\n",
        "      # из исходного файла перебираем строки\n",
        "        for line in tqdm(fin):\n",
        "          # если строка начинается с ---\n",
        "            if line.startswith(\"---\"):\n",
        "                # ответ не написан\n",
        "                written = False\n",
        "                # переходим к следующей строке\n",
        "                continue\n",
        "            # если строка не начинается с \"---\", ответ не написан\n",
        "            # и у нас есть ответ на вопрос\n",
        "            if not written and question is not None:\n",
        "                # записываем строку в файл prepared_answers.txt текст: вопрос+tab+ответ\n",
        "                fout.write(question.replace(\"\\t\", \" \").strip() + \"\\t\" + line.replace(\"\\t\", \" \"))\n",
        "                # ответ написан\n",
        "                written = True\n",
        "                # вопрос не написан\n",
        "                question = None\n",
        "                # идем к следующей строке\n",
        "                continue\n",
        "            # если строка не --- , ответ не написан\n",
        "            if not written:\n",
        "                # значит это вопрос\n",
        "                question = line.strip()\n",
        "                # переходим к следующей строке\n",
        "                continue"
      ]
    },
    {
      "cell_type": "code",
      "source": [
        "f = 0\n",
        "with codecs.open(\"prepared_answers.txt\", \"r\", \"utf-8\") as fin:\n",
        "      # из исходного файла перебираем строки\n",
        "      for line in fin:\n",
        "        print(line)\n",
        "        f += 1\n",
        "        if f == 3:\n",
        "          break"
      ],
      "metadata": {
        "id": "TinLXyWaJ6Ka",
        "outputId": "aee34508-c06a-4c45-919e-fbe365e29a59",
        "colab": {
          "base_uri": "https://localhost:8080/"
        }
      },
      "execution_count": null,
      "outputs": [
        {
          "output_type": "stream",
          "name": "stdout",
          "text": [
            "\tвопрос о ТДВ)) давно и хорошо отдыхаем)) ЛИЧНО ВАМ здесь кого советовали завести?)) . \n",
            "\n",
            "Как парни относятся к цветным линзам? Если у девушки то зеленые глаза, то голубые...)) .\tменя вобще прикалывает эта тема :). \n",
            "\n",
            "Что делать, сегодня нашёл 2 миллиона рублей? .\tЕсли это \"счастье \" действительно на вас свалилось, лучше пойти в милицию и заявить о находке. Такие деньги просто так не терют, а что самое интересное их неприменно будут искать и поверьте мне найдут, видел подобное в жизни. Можно нарваться на бабушку конечно, которая хотела помоч внуку с покупкой квартиры, а можно на бандитов, которые будут с вами разговаривать иначе чем бабушка с милицией. Выбор за вами, есть еще конечно шанс, что это подарок с выше за котрый с вас никто не спросит, тогда лучше отдать хотябы 500 на благотворительность. дабы не спугнуть удачу!. \n",
            "\n",
            "Эбу в двенашке называется Итэлма что за эбу? .\tЭБУ — электронный блок управления двигателем автомобиля, его другое название — контроллер. Он принимает информацию от многочисленных датчиков, обрабатывает ее по особым алгоритмам и, отталкиваясь от полученных данных, отдает команды исполнительным устройствам системы.. \n",
            "\n",
            "академия вампиров. сколько на даный момент частей книги академия вампиров? .\t4. Охотники и Жертвы, Ледяной укус, Поцелуй тьмы, Кровная клятва. \n",
            "\n",
            "как защититься от энергетического вампира .\tЗащита мыслью. <br>Каждый человек должен в отношении вампиров взять для себя за правило: \"Нам не страшен серый волк\", то есть знать, что конкретный \"серый волк\" - вампир существует, но воспринимать его следует не как хищника, а как добрую домашнюю собачку. Такая \"собачка\" быстро почувствует, что вы не \"того поля ягода\" и быстро отстанет сама. <br>\"Витание в облаках\". <br>Тоже хороший способ. Мысленно представить себя находящимся в окружении приятных нашим ощущениям белых облаков или сине-голубого неба. Это просто и эффективно. <br>\"Подкормка негативом\". <br>Вампир хочет кушать? Так дайте ему. Соберите в себе все плохие мысли, эмоции, все то отрицательное, что каким-то образом закралось в организм. И всю эту \"тяжесть\" отдайте вампиру - пусть подавится. <br>Зеркало <br>При встрече или при общении с неприятным человеком мысленно представить, что между вами зеркальная стена, обращенная отражающей поверхностью к этому человеку. <br>\"Дикобраз\" <br>Этот способ выглядит следующим образом: человек, который почувствовал опасность, мысленно покрывает свое биополе иглами и шипами. Энергетический вампир, который попробует высосать вашу биоэнергию, будет ощущать боль при прикосновении биополей. <br>Замыкание контура биополя. <br> <br>Существует два способа. Каждый человек выбирает наиболее удобный ему. Первый способ заключается в скрещивании ног и рук при общении с человеком, от которого можно ждать неприятностей. Второй способ заключается в следующем: большой и указательный пальцы одной руки соединить с большим и указательным пальцами другой руки, образуя кольцо, а остальные пальцы каждой руки наложить друг на друга. Оба эти способа очень эффективны, так как благодаря ним замыкается контур биополя, не оставляя пробоин, и энергетический вампир просто не может пробиться через эту защиту и вытянуть нашу биоэнергию. <br> <br>Все приемы нужно делать незаметно, не демонстрируя своих действий и не привлекая внимания окружающих.. \n",
            "\n",
            "Кто выращивает магнолию в открытом грунте в Средней Полосе России ? Какой именно у Вас вид и сорт ? Зимует с укрытием или без укрытия ? Как цветет ? Сколько лет Вашей магнолии ? Каковы размеры деревьев ? Какие особенности выращивания ? Пожалуйста, указывайте в ответе Ваш регион и, если можно, прикрепляйте фото..\tЯ выращиваю. Хабаровск. ДВ. <br>В кратце. Прочитала на одном сайте метод выращивания магнолии в Средней полосе: если купили черенок растения, то первые 3-4 года выращивается как кадочное растение, как роза. Летом на улице, а на зиму - в погреб или другое прохладное помещение, типа холодильника. До весны. По весне - снова в сад. И так, пока она не нарастит мощную корневую систему. Через 3-4 года ее уже можно высаживать в грунт, а на зиму надо укрывать, по возможности. <br>Моей уже 1 год, так что пока просто ращу. <br>Сорт : магнолия Susan.<br>. \n",
            "\n",
            "Как отформатировать диск C из доса если он в формате NTFS при команде fdisk - жесткие диски не найдены .\tскачай программу акронис диск директор, загрузочную версию. \n",
            "\n",
            "Как вы относитесь к парикмахерам, работающим на дому? Помешает ли вам например присутствие дома ребенка? Или мужа. Нормально ли для вас мыть голову в ванной \"раком\"?.\tЕсли человек профессионал почему бы нет.Главное остаться довольной результатом.Ситуации разные бывают.Может она мамочка в декрете.Может выгоднее работать на себя,без аренды и других вкусностей.Да как правило цена услуг ниже.А общение свободней.Можно получить еще и хорошего друга и собеседника.. \n",
            "\n",
            "Кошку Олега не видели)? .\t♦•давно ли Олег стал котом•♦. \n",
            "\n",
            "Почему пьяному везет больше чем трезвому? .\tБог на Руси бережет пьяных и дураков.... \n",
            "\n",
            "Как остановить выпадение волос при беременности? .\tЯ столкнулась с выпадением волос, когда ждала второго ребёнка. Тогда анализы показывали начинающуюся анемию и скорее всего причина была именно в ней. Я пропила курс железосодержащих препаратов, витаминов и параллельно применяла маску DOVE \"Борьба с выпадением волос\" и репейное масло. Месяца через два волосы перестали выпадать, а так летели прямо клочьями. Ещё могу посоветовать вам сменить расчёски на более деликатные.. \n",
            "\n",
            "Программа для измерения температуры процессора и всего компьютера Знаю что существуют такие проги но незнаю где достать помогите пожалуйста.\tEVEREST. \n",
            "\n",
            "В чем существенные отличия между IPAD2 и IPAD3? кроме 3G и памяти? .\tНу как же, они на слуху. Во первых новый дисплей рутина с сумасшедшим разрешением 2048х1546, во вторых четырехядерный процессор графики. В третьих LTE - новый стандарт связи со скоростями до 70 Мбит/с ( у нас в России пока не работает). новая камера 5 Мпкс, возможность записи HD видео, насчет памяти вроде все ровно. Ксожалению iPad3 немного толще и весит немного больше)) . <br>Ps. Кстати для ipad3 применяют название- новый iPad.. \n",
            "\n",
            "Кадровики. подскажите порядок хранения командировочных документов. стоит ли приказ о командировке хранить вместе с др приказами. или ком удоствоверение и приказ хранится вместе.Оформление меня не интересует..\tПриказы о командировках хранятся вместе с приказами о предоставлении отпусков, наложении взысканий, а само командировочное удостоверение хранится в бухгалтерии с авансовым отчетом.. \n",
            "\n",
            "Мин-ди.\t<p>Мин-ди (кит. 明帝) — имя некоторых китайских правителей: </p> <ul> <li>Мин-ди (28—75) — император династии Восточная Хань</li> <li>Мин-ди (также Вэй Мин-ди) — посмертное имя Цао Жуя (205—239), правившего царством Цао Вэй</li> <li>Мин-ди (299—325) — император династии Восточная Цзинь</li> <li>Мин-ди (439—472) — император династии Лю Сун</li> <li>Мин-ди (452—498) — император династии Южная Ци</li> <li>Мин-ди (534—560) — император династии Северная Чжоу</li></ul> <h2>См. также</h2> <ul> <li>Вэнь Мин-ди</li> <li>Сяо Мин-ди</li> <li>Чжао Мин-ди</li> <li>Минь-ди</li></ul>. \n",
            "\n",
            "Израэль, Георг.\t<p>Георг Израэль (нем. Georg Israel или Izrael; чеш. Jiří Izrael; 1505(1505) — 15 июня 1588) — кузнец и священник из «чешских братьев». </p> <p>Родился в Моравии, жил в Германии, в том числе в Пруссии. Имя Израэль носил с 1540 года, упоминания о нём известны с 1542 года. В 1548 года был изгнан и переселился в Польшу, где основал несколько десятков общин чешских братьев и сам был выбран старшиной. Он ревностно старался о приведении в исполнение соглашения, сделавшегося потом известным под названием «Сандомирского договора». Оставил на латинском языке повествование «О появлении и распространении чешских братьев по Великой Польше». </p> <h2>Ссылки</h2> <ul> <li> Краткая биография (нем.)</li> <li> Израель, Георгий // Энциклопедический словарь Брокгауза и Ефрона : в 86 т. (82 т. и 4 доп.). — СПб., 1890—1907.</li></ul>. \n",
            "\n",
            "Медное литье Что такое медное литье? .\tЭто предметы бытового и религиозного обихода <br> светильники <br> сосуды <br> покровы <br> кресты и распятия <br> церковные облачения <br> выполненные методом литья из меди . <br>http://www.booksite.ru/enciklopedia/church/8.htm<br>. \n",
            "\n",
            "Какие растения из семейства луковые вам приходилось использовать при лечении простудных заболеваний и почему\".\t<p> Лук репчатый, чеснок, содержащие фитонциды и эфирные масла .Фитонциды - это образуемые растениями биологически активные вещества, убивающие или подавляющие рост и развитие бактерий, микроскопических грибов, простейших. Из лука и чеснока изготавливают фитонцидные препараты (сативин, аллицин, аллисат, аллизантин), характеризующиеся бактерицидными свойствами. Содержащееся в шелухе лука соединение кверцетин применяется как сосудоукрепляющее средство. <br>Чеснок и лук  обладают следующими свойствами:<br>- антибактериальным,<br>- антивирусным;<br>- противоопухолевым;<br>- улучшают бактериальную флору;<br>- усиливают  иммунную систему;<br>- снижают уровень сахара в крови;<br>- снижают кровяное давление;<br>- снижают уровень холестерина.<br></p>. \n",
            "\n",
            "Как мужчина должен ухаживать за девушкой? .\tКрасиво! Без всяких там сразу предложений в постель, типа пошли потрахаемся! Должен заучить пару десятков стихов, а если не хочет то должен будет че нить импровизировать, естественно в зависимости от ситуации.!. \n",
            "\n",
            "на урок Английского языка помогите найти текст на тему: \"British lifestyle\" очень надо на завтра на урок. для 8 класса.\tлюбое английское кино потом сочиняешь на русском и в переводчик!. \n",
            "\n",
            "Кто такие были \"чёрная пехота\" во время ВОВ? .\tМоряки. <br>У них чёрные бушлаты. <br>Хорошо воевали, благодаря сплочённости, воспитанной морем. <br> <br>А вот другая чёрная пехота: <br>\"Черная пехота <br> <br>Существует четыре вида черной пехоты. <br>Первый - это штрафные подразделения, в которых смывали свою вину кровью разного рода бойцы, которые, по мнению советских полевых судов, были предателями, они первыми шли в атаку на минные поля, доты и разного рода препятствия, пробивая собой путь для прохождения основных сил. <br> <br>Второй - это мобилизованные полевыми военкоматами жители оккупированных территорий после освобождения их частями Красной армии. Мирных жителей на оккупированных территориях автоматически причисляли к изменникам, и они также вынуждены были смывать свою вину кровью. Как правило, их даже не обмундировывали, давали одно ружье на двоих, а то и на троих и, не обученных даже стрелять, бросали сразу в бой. <br> <br>Третий - это выжившие военнопленные из немецких лагерей и те, которых насильно вывезли на работы в Германию. Они также должны были доказывать свою преданность Родине в бою. <br> <br>Четвертый - \"спецконтингент\" добровольцев из \"неполитических\" правдивых уголовников, из которых также укомплектовывали штрафроты и батальоны.\"(с). \n",
            "\n",
            "кто был в аэропорту цюриха для ясности пересадки нужна карта аэропорта в цюрихе.\tвам не нужна карта, там и так всё ясно и понятно. Если Вы транзитный пассажир, тогда Вам сразу к стойке регистрации TRANSIT PASSANGERS, Вы не потеряетесь, там куча указателей !!!. \n",
            "\n",
            "Что лучше - паркетная доска или ламинат? И какие недостатки и преимущества у того и другого? .\tламинат дешевле доска чище экологически и долговечнее. \n",
            "\n",
            "Куда крысе колоть внутримышечные препараты? Где у крыс мышцы и куда колоть им внутримышечные? И вообще возможно ли это сделать без ветеринара?.\tКак сделать инъекцию (укол) крысе? <br>Беру крысу носом к себе, под пузом-ляжкой пальцы, сверху большим прижимаю, получается, что нога висит и полупопие расслаблено. Уколы делаю одна. <br>Бывает (даже у специалистов) , что игла попадает в нерв, после этого крыса может подволакивать лапу. Через несколько дней это проходит.. \n",
            "\n",
            "Какую навигационную программу выбрать? .\tЕсли Вы планируете путешествовать по России - то NAVITEL. У нее мощные карты, которые честно поддерживаются в актуальном состоянии. Если по Европе - IGO и TOMTOM. Но они частенько врут о состоянии пробок и пытаются переложить маршрут, объезжая затор, которого по факту нет.. \n",
            "\n",
            "как избавиться от мелких мурашей? откуда то появились мелкие мураши как от них избавиться?.мазала уксусом стало меньше, но еще есть только теперь уксус их не берет. подскажите что предпринять?..\tпродаются специальные средства!! ! приманка!! ! по капельке разложете они ее жрут и проподают!!! !<br><br>а самое лучшее это найти и разорить их гнездо - но как найти то?? ? мы вот делали переплонеровку и снесли одну из стен - все мураш прополи сразу!!!. \n",
            "\n",
            "Помогите характеристика била из разказа Джека Лондона любовь к жизни Плиз!!!!!!!.\t<p> Тема борьбы, тема силы человеческого характера звучит в рассказе Дж. Лондона «Любовь к жизни» . <br>Здесь перед нами предстает человек, попавший в беду: оставшийся один посреди бескрайней пустыни, без еды, без питья, с незаряженным ружьем. К тому же у него была травмирована нога. Билл — единственный спутник и товарищ — хладнокровно оставил его на этой безжизненной равнине, ушел, даже не оглянувшись, не откликнувшись на зов. Но герой произведения не потерял силы духа и, переборов отчаяние и страх, продолжал идти вперед. Он верил, что друг ждет, что он не бросил его. Он думал так, потому что «иначе не имело смысла бороться дальше» . <br>Сначала он упрямо шел вперед, желая догнать товарища и спасти добытое золото. Затем он шел, подгоняемый лютым голодом. Он очень устал, его все время тянуло лечь на землю и уснуть, но все же он двигался вперед, потому что знал: скоро он придет в «Страну Маленьких Палок» , где его ждет тайник с едой и всем необходимым, «чтобы добыть себе пропитание» . <br>Силы его иссякли, с каждым днем он мог преодолевать все меньшее и меньшее расстояние. Он выбросил золото, которое раньше составляло, наверное, весь смысл его путешествия. Нервы притупились, сознание покидало его, но он все шел вперед — днем и ночью, падая и снова поднимаясь, чтобы продолжить путь. Теперь его заставлял идти уже не страх голодной смерти, теперь он боялся умереть насильственной смертью, «прежде чем последнее стремление сохранить жизнь заглохнет в нем от голода» , ведь кругом были волки, со всех сторон в этой пустыне доносился их вой. «Он больше не боролся, как борются люди. Это сама жизнь в нем не хотела гибнуть и гнала его вперед» . <br>Один из волков стал преследовать человека. Этот волк был болен. По ночам человек все время слышал его кашель. Вокруг была жизнь, полная сил и здоровья, а он понимал, что «больной волк тащится по следам больного человека в надежде, что этот человек умрет первым» . И все же человек не сдавался, «даже умирая, он не покорялся смерти» . Нет, он не желал окончить свою жизнь так, как окончил ее Билл (от которого остались только обглоданные кости на мокром мху, сохранившем следы волчьих лап) . И когда клыки зверя уже вонзались в руку человека, он смог противостоять. И победить. Он уже ничего не видел и не слышал, ничего не понимал, он уже не мог идти, но, корчась, продвигался вперед. Он знал, что ему не одолеть последние четыре мили, отделявшие его от корабля, но все-таки ему хотелось жить. Жажда <br>жизни толкала его существо. «Было бы глупо умереть после всего, что он перенес... » <br>Таким и нашли его ученые с китобойного судна. Несмотря на страшные лишения и трудности, на постоянную угрозу смерти от голода, холода, от когтей диких животных, этот человек выжил. А через несколько недель уже рассказывал о том, кто он такой и через что ему пришлось пройти на своем пути. <br>Человек способен на многое. Зная, чего он хочет от жизни, он способен преодолевать любые препятствия и опасности. Жажда жизни, любовь к жизни способна победить смерть. И рассказ замечательного американского писателя Джека Лондона «Любовь к жизни» является тому ярким примером.</p>. \n",
            "\n",
            "С чем связано Дубликат ПТС??? .\tу меня закончилась тупо надо дубликат делать. \n",
            "\n",
            "Джонс проиграет Лебедеву 25. 04. 2014, какие прогнозы? .\tЕсли опять какой-то дурью не закинется, то проиграет, Денис Лебедев бил его много , сильно и практически всегда попадал, Джонс выстоял только благодаря наркоте которой себя накачал. Денис Лебедев ещё и мотивирован на бой запредельно.. \n",
            "\n"
          ]
        }
      ]
    },
    {
      "cell_type": "code",
      "source": [
        "f = 0\n",
        "with codecs.open(\"prepared_answers.txt\", \"r\", \"utf-8\") as fin:\n",
        "      # из исходного файла перебираем строки\n",
        "      for line in fin:\n",
        "        print(line.split(\"\\t\")[0])\n",
        "        f += 1\n",
        "        if f == 30:\n",
        "          break"
      ],
      "metadata": {
        "colab": {
          "base_uri": "https://localhost:8080/"
        },
        "id": "p-OmAo0n_3VO",
        "outputId": "7dca3cfa-439a-4ed6-8c55-a3fcec5432c6"
      },
      "execution_count": null,
      "outputs": [
        {
          "output_type": "stream",
          "name": "stdout",
          "text": [
            "\n",
            "Как парни относятся к цветным линзам? Если у девушки то зеленые глаза, то голубые...)) .\n",
            "Что делать, сегодня нашёл 2 миллиона рублей? .\n",
            "Эбу в двенашке называется Итэлма что за эбу? .\n",
            "академия вампиров. сколько на даный момент частей книги академия вампиров? .\n",
            "как защититься от энергетического вампира .\n",
            "Кто выращивает магнолию в открытом грунте в Средней Полосе России ? Какой именно у Вас вид и сорт ? Зимует с укрытием или без укрытия ? Как цветет ? Сколько лет Вашей магнолии ? Каковы размеры деревьев ? Какие особенности выращивания ? Пожалуйста, указывайте в ответе Ваш регион и, если можно, прикрепляйте фото..\n",
            "Как отформатировать диск C из доса если он в формате NTFS при команде fdisk - жесткие диски не найдены .\n",
            "Как вы относитесь к парикмахерам, работающим на дому? Помешает ли вам например присутствие дома ребенка? Или мужа. Нормально ли для вас мыть голову в ванной \"раком\"?.\n",
            "Кошку Олега не видели)? .\n",
            "Почему пьяному везет больше чем трезвому? .\n",
            "Как остановить выпадение волос при беременности? .\n",
            "Программа для измерения температуры процессора и всего компьютера Знаю что существуют такие проги но незнаю где достать помогите пожалуйста.\n",
            "В чем существенные отличия между IPAD2 и IPAD3? кроме 3G и памяти? .\n",
            "Кадровики. подскажите порядок хранения командировочных документов. стоит ли приказ о командировке хранить вместе с др приказами. или ком удоствоверение и приказ хранится вместе.Оформление меня не интересует..\n",
            "Мин-ди.\n",
            "Израэль, Георг.\n",
            "Медное литье Что такое медное литье? .\n",
            "Какие растения из семейства луковые вам приходилось использовать при лечении простудных заболеваний и почему\".\n",
            "Как мужчина должен ухаживать за девушкой? .\n",
            "на урок Английского языка помогите найти текст на тему: \"British lifestyle\" очень надо на завтра на урок. для 8 класса.\n",
            "Кто такие были \"чёрная пехота\" во время ВОВ? .\n",
            "кто был в аэропорту цюриха для ясности пересадки нужна карта аэропорта в цюрихе.\n",
            "Что лучше - паркетная доска или ламинат? И какие недостатки и преимущества у того и другого? .\n",
            "Куда крысе колоть внутримышечные препараты? Где у крыс мышцы и куда колоть им внутримышечные? И вообще возможно ли это сделать без ветеринара?.\n",
            "Какую навигационную программу выбрать? .\n",
            "как избавиться от мелких мурашей? откуда то появились мелкие мураши как от них избавиться?.мазала уксусом стало меньше, но еще есть только теперь уксус их не берет. подскажите что предпринять?..\n",
            "Помогите характеристика била из разказа Джека Лондона любовь к жизни Плиз!!!!!!!.\n",
            "С чем связано Дубликат ПТС??? .\n",
            "Джонс проиграет Лебедеву 25. 04. 2014, какие прогнозы? .\n"
          ]
        }
      ]
    },
    {
      "cell_type": "markdown",
      "metadata": {
        "id": "4849bf9f-f288-4c35-b0f9-ac1768ddf87f"
      },
      "source": [
        "Теперь нам нужно предобработать текст, чтобы обучить word2vec и получить эмбеддинги. Удаляем знаки препинания и делаем лемматизацию"
      ]
    },
    {
      "cell_type": "code",
      "execution_count": null,
      "metadata": {
        "id": "9361dcb7-b80b-489e-8d88-03bb8c2d838e"
      },
      "outputs": [],
      "source": [
        "def preprocess_txt(line):\n",
        "    \"\"\"Предобработка текста\n",
        "\n",
        "    Args:\n",
        "        line (string): обрабатываемый текст\n",
        "\n",
        "    Returns:\n",
        "        string: Очищенный от знаков препинания и стоп-слов текст, лемматизированный\n",
        "                и приведенный к нормальной форме\n",
        "    \"\"\"\n",
        "    # очистка от знаков препинания\n",
        "    spls = \"\".join(i for i in line.strip() if i not in exclude).split()\n",
        "    # принимаем слово (обязательно в нижнем регистре) и возвращаем нормальную форму\n",
        "    spls = [morpher.parse(i.lower())[0].normal_form for i in spls]\n",
        "    # удаляем стоп-слова\n",
        "    spls = [i for i in spls if i not in sw and i != \"\"]\n",
        "    return spls"
      ]
    },
    {
      "cell_type": "code",
      "execution_count": null,
      "metadata": {
        "id": "b4fbeff0-a2ca-4a5b-8adb-c6182abcfa96",
        "colab": {
          "base_uri": "https://localhost:8080/",
          "height": 49,
          "referenced_widgets": [
            "b6dacae3efe64bac89cd54e5bf30f2d1",
            "cff5537e0af6468bb77f289170bb7dd8",
            "2dc23320e80949b6afda5e348a2635f8",
            "5ed7c7943f2d466283ec2e841bb0885e",
            "55b7da3d81a7420dba066eef969e09f3",
            "c05bc263bd6a4f79bf5d5224596a3b2d",
            "46858f93c10342748a7694415c60b891",
            "424048f76a6941b4849690d922ea5011",
            "046be4cf8fec44c6a67314923d94b3d9",
            "a710001343eb46c48e3752fbfdf94e77",
            "27e524f310424a5d82a6f0e3e0eaa4cd"
          ]
        },
        "outputId": "87f1ab3f-62f1-40bc-bb38-40ffb844f670"
      },
      "outputs": [
        {
          "output_type": "display_data",
          "data": {
            "text/plain": [
              "0it [00:00, ?it/s]"
            ],
            "application/vnd.jupyter.widget-view+json": {
              "version_major": 2,
              "version_minor": 0,
              "model_id": "b6dacae3efe64bac89cd54e5bf30f2d1"
            }
          },
          "metadata": {}
        }
      ],
      "source": [
        "# создадим список предложений\n",
        "sentences = []\n",
        "# создадим экземпляр класса для лемматизации\n",
        "morpher = MorphAnalyzer()\n",
        "# создадим множество стоп-слов\n",
        "sw = set(get_stop_words(\"ru\"))\n",
        "# создадим множество со знаками пунктуации\n",
        "exclude = set(string.punctuation)\n",
        "# счетчик количества обрабатываемых пар вопрос-ответ\n",
        "c = 0\n",
        "\n",
        "# открываем файл с необработанными данными вопрос-ответ\n",
        "with codecs.open(\"Otvety.txt\", \"r\", \"utf-8\") as fin:\n",
        "    # используем визуализацию процесса итерации строк\n",
        "    for line in tqdm(fin):\n",
        "      # преодобработаем тексты вопросов-ответов\n",
        "        spls = preprocess_txt(line)\n",
        "        # запишем обработанные строки в список\n",
        "        sentences.append(spls)\n",
        "        c += 1\n",
        "        # ограничим количество предобработанных строк до 500000\n",
        "        if c > 500000:\n",
        "            break"
      ]
    },
    {
      "cell_type": "code",
      "source": [
        "print(*sentences[0:20],sep='\\n')"
      ],
      "metadata": {
        "id": "rGLTAB-0K4ux",
        "colab": {
          "base_uri": "https://localhost:8080/"
        },
        "outputId": "578eb64b-3567-45f5-8574-a04f18ac179a"
      },
      "execution_count": null,
      "outputs": [
        {
          "output_type": "stream",
          "name": "stdout",
          "text": [
            "[]\n",
            "[]\n",
            "['вопрос', 'тдв', 'отдыхать', 'лично', 'советовать', 'завести']\n",
            "['хомячок']\n",
            "['мужик', 'йопарить', 'собачка', '50', 'кошка']\n",
            "['общение']\n",
            "['паучок']\n",
            "['пол', 'памытьbr', 'таг', 'тип', 'каво']\n",
            "['вообще', 'пообщаться']\n",
            "['советовать', 'сися', 'завести']\n",
            "['слава', 'бог', 'мужик', 'завести', 'советовать', 'сватать', 'сватать']\n",
            "['советовать', 'завести', 'любовник', 'муж', 'кошка', 'brприветик']\n",
            "[]\n",
            "['парень', 'относиться', 'цветной', 'линза', 'девушка', 'зелёный', 'глаз', 'голубой']\n",
            "['вобщий', 'прикалывать', 'тема']\n",
            "['этобыть', 'редкость', 'забавно', 'знать', 'фальшивка', 'прикольно', 'силиконовый', 'сиська', 'налепить', 'синтетический', 'волос']\n",
            "[]\n",
            "['делать', 'найти', '2', 'миллион', 'рубль']\n",
            "['счастие', 'свалиться', 'хороший', 'пойти', 'милиция', 'заявить', 'находка', 'деньга', 'тероть', 'самый', 'интересный', 'неприменный', 'искать', 'поверьте', 'найти', 'видеть', 'подобный', 'нарваться', 'бабушка', 'помочий', 'внук', 'покупка', 'квартира', 'бандит', 'разговаривать', 'иначе', 'бабушка', 'милиция', 'выбор', 'шанс', 'подарок', 'выше', 'котрый', 'никто', 'спросить', 'хороший', 'отдать', 'хотяб', '500', 'благотворительность', 'дабы', 'спугнуть', 'удача']\n",
            "['знать', 'делать', 'отдать', 'знать', 'серьёзно', 'отнести', 'полиция', 'найти', 'сделать', 'вариант', 'взять', 'остальной', 'надёжно', 'спрячь', 'пускай', 'лежать', 'брать', 'необходимо', 'подозрение', 'вызывать', 'деньга']\n"
          ]
        }
      ]
    },
    {
      "cell_type": "code",
      "source": [
        "sentences[1]"
      ],
      "metadata": {
        "colab": {
          "base_uri": "https://localhost:8080/"
        },
        "id": "uWwvi4M46uLv",
        "outputId": "97ffd4c8-5c83-4525-ac6f-bd189385f523"
      },
      "execution_count": null,
      "outputs": [
        {
          "output_type": "execute_result",
          "data": {
            "text/plain": [
              "[]"
            ]
          },
          "metadata": {},
          "execution_count": 16
        }
      ]
    },
    {
      "cell_type": "code",
      "execution_count": null,
      "metadata": {
        "id": "434d21bd-e8f3-416e-b247-a06c1d8eaca5"
      },
      "outputs": [],
      "source": [
        "# Обучим модель word2vec на наших вопросах\n",
        "# оставим в списке предложений те, в которых более 2 символов\n",
        "sentences = [i for i in sentences if len(i) > 2]\n",
        "# создадим модель для получения векторных представлений слов\n",
        "# размер векторов слов = 100,\n",
        "# игнорировать слова с частотой менее 1,\n",
        "# максимальное расстояние между текущим и предсказанным словом в предложении = 5\n",
        "model = Word2Vec(sentences=sentences, vector_size=100, min_count=1, window=5)\n",
        "\n",
        "model.save(\"w2v_model\")"
      ]
    },
    {
      "cell_type": "markdown",
      "metadata": {
        "id": "ca232edd-5811-4692-bcd7-c075c89fb4dd"
      },
      "source": [
        "Теперь нам нужно сложить в индекс все вопросы. Используем библиотеку annoy. Проходимся по всем ответам, здесь нам пригодится предобработанный файл. Для создания индекса считаем, что вектор предложения - сумма word2vecов слов, которые входят в него (конечно же усредненная)"
      ]
    },
    {
      "cell_type": "code",
      "execution_count": null,
      "metadata": {
        "id": "c81aad5c-9a87-4962-8707-376cad951dcb",
        "colab": {
          "base_uri": "https://localhost:8080/",
          "height": 67,
          "referenced_widgets": [
            "3421d9f0ce3f48ea829cceecbf5f3cc3",
            "40b77e06b69545c59cc6a972fc5659fb",
            "164f56aece754db59d55504491891c93",
            "45b786bcdbc8406bb96b07a5e2323ef9",
            "378db420607b4668adba208129f0df9f",
            "6d3b42bb8c6545b09afab762febca79e",
            "dab2cbefe2ee4188ad2dfc254c43a945",
            "3b034d3be7754d20bf2294431ef14ce0",
            "fe06645c1bd54ac2a9d61956797e0731",
            "135221c7909547499ec04bc4d276b48c",
            "66a33fd6be6443279d153c2a65a8d474"
          ]
        },
        "outputId": "a22ead22-9cc1-42aa-8626-b9401cd8b086"
      },
      "outputs": [
        {
          "output_type": "display_data",
          "data": {
            "text/plain": [
              "0it [00:00, ?it/s]"
            ],
            "application/vnd.jupyter.widget-view+json": {
              "version_major": 2,
              "version_minor": 0,
              "model_id": "3421d9f0ce3f48ea829cceecbf5f3cc3"
            }
          },
          "metadata": {}
        },
        {
          "output_type": "execute_result",
          "data": {
            "text/plain": [
              "True"
            ]
          },
          "metadata": {},
          "execution_count": 18
        }
      ],
      "source": [
        "# Количество признаков (размерностей) хранимого векторa = 100\n",
        "# Метрика расстояния между векторами («угловой»)\n",
        "index = annoy.AnnoyIndex(100 ,'angular')\n",
        "\n",
        "# словарь, в котором будет находится индекс\n",
        "index_map = {}\n",
        "# счетчик элементов индекса\n",
        "counter = 0\n",
        "\n",
        "# для создания индекса используем предобработанный в формат вопрос-ответ исходный файл\n",
        "with codecs.open(\"prepared_answers.txt\", \"r\", \"utf-8\") as f:\n",
        "    # проходим по строкам предобработанного файла\n",
        "    for line in tqdm(f):\n",
        "      # счетчик количества слов с вектором в вопросе\n",
        "        n_w2v = 0\n",
        "        # делим строку предобработанного файла на вопрос\n",
        "        # и ответ по символу табуляции, проставленному при обработке\n",
        "        spls = line.split(\"\\t\")\n",
        "        # по очереди заполняем словарь(номер вопроса-ответ на вопрос)\n",
        "        index_map[counter] = spls[1]\n",
        "        # производим предобработку вопроса\n",
        "        question = preprocess_txt(spls[0])\n",
        "        # создаем нулевую матрицу(100,1) из 100 элементов\n",
        "        vector = np.zeros(100)\n",
        "        # для каждого слова в предобработанном вопросе\n",
        "        for word in question:\n",
        "          # если даннное слово присутствует в списке созданных векторов\n",
        "            if word in model.wv:\n",
        "              # суммируем полученные вектора слов\n",
        "                vector += model.wv[word]\n",
        "              # увеличиваем счетчик количества слов в вопросе\n",
        "                n_w2v += 1\n",
        "      # если в вопросе есть слова\n",
        "        if n_w2v > 0:\n",
        "          # вычисляем средний вектор\n",
        "            vector = vector / n_w2v\n",
        "      # записываем в индекс номер и средний вектор\n",
        "        index.add_item(counter, vector)\n",
        "      # увеличиваем счетчик индекса\n",
        "        counter += 1\n",
        "# количество деревьев в лесу(чем больше, тем точнее)\n",
        "index.build(10)\n",
        "# сохраним полученный индекс в файл для дальнейшего использования\n",
        "index.save('speaker.ann')\n"
      ]
    },
    {
      "cell_type": "code",
      "source": [
        "import json"
      ],
      "metadata": {
        "id": "vS-n8DCpYKSu"
      },
      "execution_count": null,
      "outputs": []
    },
    {
      "cell_type": "code",
      "source": [
        "with open('index_map', 'w') as convert_file:\n",
        "     convert_file.write(json.dumps(index_map))"
      ],
      "metadata": {
        "id": "r_DiF1rZYE5t"
      },
      "execution_count": null,
      "outputs": []
    },
    {
      "cell_type": "code",
      "source": [
        "!zip -r /content/index_map.zip /content/index_map"
      ],
      "metadata": {
        "colab": {
          "base_uri": "https://localhost:8080/"
        },
        "id": "F4CXNO3CsUdU",
        "outputId": "3c513c4f-54dc-4c6b-8160-d55a8ae90201"
      },
      "execution_count": null,
      "outputs": [
        {
          "output_type": "stream",
          "name": "stdout",
          "text": [
            "  adding: content/index_map (deflated 85%)\n"
          ]
        }
      ]
    },
    {
      "cell_type": "code",
      "source": [
        "from google.colab import files\n",
        "files.download('/content/index_map.zip')"
      ],
      "metadata": {
        "colab": {
          "base_uri": "https://localhost:8080/",
          "height": 34
        },
        "id": "0NLQgK7arqfz",
        "outputId": "5f6316e4-d42a-423f-b2dd-47049b2d4a6a"
      },
      "execution_count": null,
      "outputs": [
        {
          "output_type": "display_data",
          "data": {
            "text/plain": [
              "<IPython.core.display.Javascript object>"
            ],
            "application/javascript": [
              "\n",
              "    async function download(id, filename, size) {\n",
              "      if (!google.colab.kernel.accessAllowed) {\n",
              "        return;\n",
              "      }\n",
              "      const div = document.createElement('div');\n",
              "      const label = document.createElement('label');\n",
              "      label.textContent = `Downloading \"${filename}\": `;\n",
              "      div.appendChild(label);\n",
              "      const progress = document.createElement('progress');\n",
              "      progress.max = size;\n",
              "      div.appendChild(progress);\n",
              "      document.body.appendChild(div);\n",
              "\n",
              "      const buffers = [];\n",
              "      let downloaded = 0;\n",
              "\n",
              "      const channel = await google.colab.kernel.comms.open(id);\n",
              "      // Send a message to notify the kernel that we're ready.\n",
              "      channel.send({})\n",
              "\n",
              "      for await (const message of channel.messages) {\n",
              "        // Send a message to notify the kernel that we're ready.\n",
              "        channel.send({})\n",
              "        if (message.buffers) {\n",
              "          for (const buffer of message.buffers) {\n",
              "            buffers.push(buffer);\n",
              "            downloaded += buffer.byteLength;\n",
              "            progress.value = downloaded;\n",
              "          }\n",
              "        }\n",
              "      }\n",
              "      const blob = new Blob(buffers, {type: 'application/binary'});\n",
              "      const a = document.createElement('a');\n",
              "      a.href = window.URL.createObjectURL(blob);\n",
              "      a.download = filename;\n",
              "      div.appendChild(a);\n",
              "      a.click();\n",
              "      div.remove();\n",
              "    }\n",
              "  "
            ]
          },
          "metadata": {}
        },
        {
          "output_type": "display_data",
          "data": {
            "text/plain": [
              "<IPython.core.display.Javascript object>"
            ],
            "application/javascript": [
              "download(\"download_0dfd4e85-792d-4c5c-b981-2a20e756b3b4\", \"index_map.zip\", 307290571)"
            ]
          },
          "metadata": {}
        }
      ]
    },
    {
      "cell_type": "code",
      "source": [
        "print(model.wv['кот'], model.wv['парень'])\n"
      ],
      "metadata": {
        "colab": {
          "base_uri": "https://localhost:8080/"
        },
        "id": "ND9tKW2137Wt",
        "outputId": "67f97e29-2727-4925-e4a8-61564c395953"
      },
      "execution_count": null,
      "outputs": [
        {
          "output_type": "stream",
          "name": "stdout",
          "text": [
            "[-1.55950570e+00  1.59032655e+00  6.56097054e-01  1.13037431e+00\n",
            "  1.07923746e+00 -1.28520250e+00  9.33649659e-01  5.17602026e-01\n",
            " -1.06544530e+00 -1.68133235e+00 -3.63310650e-02 -1.67546225e+00\n",
            " -2.23981428e+00 -1.42771626e+00  1.12234509e+00 -1.73416436e-01\n",
            " -2.99072266e-01 -1.96689916e+00  7.02841699e-01 -2.13585210e+00\n",
            " -7.48486340e-01 -1.17823219e+00 -3.80826324e-01 -1.47419143e+00\n",
            "  3.72456610e-01  1.58719778e-01 -2.24195433e+00  2.79980898e-01\n",
            " -2.31517887e+00  8.80648717e-02  1.44514120e+00  2.17594051e+00\n",
            " -1.32167673e+00 -5.12817085e-01  9.36782241e-01  2.89658785e-01\n",
            " -5.44820309e-01  4.17454451e-01 -1.25084341e+00 -8.94260257e-02\n",
            " -4.80901837e-01  5.75526059e-01 -1.42102957e+00  5.18914700e-01\n",
            "  1.66541541e+00 -1.44180691e+00 -1.80855656e+00  5.47207296e-01\n",
            " -5.28336763e-01  4.77529645e-01  4.37306240e-02 -5.71301937e-01\n",
            " -1.50789273e+00 -1.11805402e-01 -2.63015652e+00 -1.21950924e-01\n",
            "  3.27736676e-01  3.30730830e-03  1.07138801e+00  1.63164473e+00\n",
            "  5.08890867e-01  1.07389426e+00 -5.15661836e-01 -9.43823874e-01\n",
            "  6.33176208e-01 -5.50992191e-01  9.70227242e-01  3.90076548e-01\n",
            " -1.55420935e+00  8.64005983e-01 -7.35718608e-01  8.62558603e-01\n",
            "  5.86121559e-01  1.35397062e-01  6.11717284e-01  1.99509442e+00\n",
            "  9.60166276e-01 -2.27519616e-01 -1.32833874e+00 -2.80935240e+00\n",
            " -1.98463917e+00 -2.50612950e+00 -1.40199065e+00  8.60814571e-01\n",
            " -6.81112289e-01  2.04407454e-01  5.56014299e-01  1.31668851e-01\n",
            "  8.13314140e-01 -2.40396070e+00  5.52528024e-01  3.20855141e-01\n",
            "  1.03298712e+00  5.91780245e-01  2.15135503e+00  7.67271817e-01\n",
            "  3.81417227e+00 -5.22211134e-01  1.84781158e+00 -1.48102903e+00] [-0.10551676  2.2413387   1.9219947   3.0182707  -0.55457914  0.6025158\n",
            "  1.0758389   2.4775116   0.46840462 -0.42650205 -0.4297222  -2.297719\n",
            " -0.3226357  -1.1910946   0.36497018  0.6526578   0.2013649  -3.0772116\n",
            "  2.5887513  -1.6415997  -0.07658035  0.19179499 -0.03069019 -0.54002\n",
            " -1.3099592   2.1078756  -3.3779106  -0.30795673 -0.9868315   0.32073876\n",
            "  2.7846215   0.48142317 -0.27354178  0.69839066  0.27708942  0.4386669\n",
            " -0.0330038   0.40620735  0.34729052 -3.337032    0.23697534 -2.061412\n",
            " -0.67126817  1.5591828   0.52913487 -1.1588771  -4.2078      0.13675542\n",
            " -0.28756467  0.7109987   1.4485279  -1.024541   -2.3232138  -1.59006\n",
            " -0.31404132  0.5615623   1.426772   -0.51195705 -0.40006092  2.6082523\n",
            " -0.6265256  -0.37136036 -1.2879837  -0.47636223 -2.075508   -0.76229995\n",
            "  0.82233924 -0.37253526 -0.3135022   0.00923353 -2.353803   -0.95368195\n",
            "  2.1797855   0.05922181  0.6564446   0.19832547 -1.0845397  -0.564307\n",
            "  0.02774089 -1.9121135   0.15098368 -2.0135894  -0.8582921   2.1603615\n",
            " -2.044059    1.7702245  -1.3397121   2.130032    0.8839764  -2.3363361\n",
            "  3.1227307  -0.37453717 -1.4414055   3.5033116   1.594113   -0.20796043\n",
            "  2.1347284  -0.06238865  0.02400109 -0.49955407]\n"
          ]
        }
      ]
    },
    {
      "cell_type": "code",
      "source": [
        "dr = model.wv.most_similar(positive=[\"кот\",\"парень\"])\n",
        "print(*dr, sep='\\n')"
      ],
      "metadata": {
        "colab": {
          "base_uri": "https://localhost:8080/"
        },
        "id": "bOygmFLy_K6L",
        "outputId": "087aabd5-fc1e-41e0-e96b-bb411ea2952a"
      },
      "execution_count": null,
      "outputs": [
        {
          "output_type": "stream",
          "name": "stdout",
          "text": [
            "('девчёнка', 0.877497136592865)\n",
            "('кобель', 0.8670281767845154)\n",
            "('подружка', 0.8656561970710754)\n",
            "('котик', 0.864730179309845)\n",
            "('сука', 0.8599978685379028)\n",
            "('пацан', 0.8563041687011719)\n",
            "('ласково', 0.8546333312988281)\n",
            "('подруга', 0.8534715175628662)\n",
            "('комфортно', 0.8534315228462219)\n",
            "('ныть', 0.8530231714248657)\n"
          ]
        }
      ]
    },
    {
      "cell_type": "code",
      "source": [
        "dr = model.wv.most_similar(positive=[\"кошка\",\"дом\"])\n",
        "print(*dr, sep='\\n')"
      ],
      "metadata": {
        "colab": {
          "base_uri": "https://localhost:8080/"
        },
        "id": "e0Webv5xA_yx",
        "outputId": "014ce00b-1e7d-479c-bc5b-19310b47368a"
      },
      "execution_count": null,
      "outputs": [
        {
          "output_type": "stream",
          "name": "stdout",
          "text": [
            "('кот', 0.8593893051147461)\n",
            "('собака', 0.8492904901504517)\n",
            "('кролик', 0.838685154914856)\n",
            "('котёнок', 0.8363857865333557)\n",
            "('щенок', 0.8363141417503357)\n",
            "('крыса', 0.8287786841392517)\n",
            "('метить', 0.8238303065299988)\n",
            "('питомец', 0.8221099972724915)\n",
            "('хозяин', 0.8198133111000061)\n",
            "('приют', 0.8190529346466064)\n"
          ]
        }
      ]
    },
    {
      "cell_type": "markdown",
      "source": [
        "# Новый раздел"
      ],
      "metadata": {
        "id": "YOfUDq0MYA81"
      }
    },
    {
      "cell_type": "markdown",
      "metadata": {
        "id": "d87ee9e7-f8ba-4707-bd70-35bd29fa3a7b"
      },
      "source": [
        "Теперь остается реализовать метод, который получит на вход вопрос и найдет ответ к нему!\n",
        "Мы препроцессим вопрос, находим ближайший вопрос и выбираем ответ на ближайший вопрос."
      ]
    },
    {
      "cell_type": "code",
      "execution_count": null,
      "metadata": {
        "id": "59a5984e-3fb9-4c87-bf20-d95bfdc8f80c"
      },
      "outputs": [],
      "source": [
        "def find_answer(question):\n",
        "\n",
        "   \"\"\"Функция реализует метод, который получает на вход вопрос и находит ответ к нему.\n",
        "      Для этого вопрос  препроцессится, далее находится ближайший вопрос и\n",
        "      происходит выбор ответа на ближайший вопрос.\n",
        "\n",
        "    Args:\n",
        "        question (string): заданный вопрос\n",
        "\n",
        "    Returns:\n",
        "        string: найденный ответ\n",
        "    \"\"\"\n",
        "    # готовим для обработки с помощью препроцессинга заданный вопрос\n",
        "   preprocessed_question = preprocess_txt(question)\n",
        "    # счетчик слов в вопросе\n",
        "   n_w2v = 0\n",
        "    # создаем вектор\n",
        "   vector = np.zeros(100)\n",
        "    # определяем сумму векторов слов входящих в вопрос\n",
        "    # и количество слов входящих в вопрос\n",
        "   for word in preprocessed_question:\n",
        "       if word in model.wv:\n",
        "          vector += model.wv[word]\n",
        "          n_w2v += 1\n",
        "  # определяем средний вектор соответствующий заданному вопросу\n",
        "   if n_w2v > 0:\n",
        "      vector = vector / n_w2v\n",
        "  # ищем 1 ближайший вектор заданного вопроса и вопроса из индекса\n",
        "   answer_index = index.get_nns_by_vector(vector, 1)\n",
        "    # возвращаем ответ из наиболее близкого заданному вопроса\n",
        "   return index_map[answer_index[0]]"
      ]
    },
    {
      "cell_type": "code",
      "source": [
        "gg = find_answer('есть ли кот')"
      ],
      "metadata": {
        "id": "O0BBG01Xjq56"
      },
      "execution_count": null,
      "outputs": []
    },
    {
      "cell_type": "code",
      "source": [
        "print(gg)"
      ],
      "metadata": {
        "colab": {
          "base_uri": "https://localhost:8080/"
        },
        "id": "Uw9T8h2wmXrW",
        "outputId": "88d2c9c2-fc02-4cea-cb7a-5812666074a8"
      },
      "execution_count": null,
      "outputs": [
        {
          "output_type": "stream",
          "name": "stdout",
          "text": [
            "Коты в Кошках.. \n",
            "\n"
          ]
        }
      ]
    },
    {
      "cell_type": "code",
      "source": [
        "products = pd.read_csv('/content/ProductsDataset.zip')"
      ],
      "metadata": {
        "id": "kyvR7HNtq_MT"
      },
      "execution_count": null,
      "outputs": []
    },
    {
      "cell_type": "code",
      "source": [
        "products['content_type'] = 1"
      ],
      "metadata": {
        "id": "dwGw2K3TtGG4"
      },
      "execution_count": null,
      "outputs": []
    },
    {
      "cell_type": "markdown",
      "source": [
        "→ Обучен классификатор «товарный запрос vs. болталка»\n",
        "\n",
        "Осуществлён препроцессинг текста (как минимум удаление знаков препинания, приведение к нижнему регистру, стемминг/лемматизация).\n",
        "Текст векторизирован любым из изученных способов (CountVectorizer, TfidfVectorizer, HashingVectorizer, Word2Vec).\n",
        "Выборка разделена на обучающую и валидационную.\n",
        "Обучен классификатор с расчётом метрик на валидации (любое семейство алгоритмов, но предпочтительнее просто логистическая регрессия).\n",
        "Модель сохранена и при применении загружается из pkl-файла (или аналога)."
      ],
      "metadata": {
        "id": "vxZx3hDA0AHf"
      }
    },
    {
      "cell_type": "code",
      "source": [
        "products.dropna(inplace = True)"
      ],
      "metadata": {
        "id": "eZSDfQo5GlSl"
      },
      "execution_count": null,
      "outputs": []
    },
    {
      "cell_type": "code",
      "source": [
        "products.info()"
      ],
      "metadata": {
        "colab": {
          "base_uri": "https://localhost:8080/"
        },
        "id": "J8zpqoLIZMk0",
        "outputId": "5849feba-93a7-4526-da59-0e13cc9a6a67"
      },
      "execution_count": null,
      "outputs": [
        {
          "output_type": "stream",
          "name": "stdout",
          "text": [
            "<class 'pandas.core.frame.DataFrame'>\n",
            "Int64Index: 33531 entries, 0 to 35546\n",
            "Data columns (total 8 columns):\n",
            " #   Column          Non-Null Count  Dtype  \n",
            "---  ------          --------------  -----  \n",
            " 0   title           33531 non-null  object \n",
            " 1   descrirption    33531 non-null  object \n",
            " 2   product_id      33531 non-null  object \n",
            " 3   category_id     33531 non-null  float64\n",
            " 4   subcategory_id  33531 non-null  object \n",
            " 5   properties      33531 non-null  object \n",
            " 6   image_links     33531 non-null  object \n",
            " 7   content_type    33531 non-null  int64  \n",
            "dtypes: float64(1), int64(1), object(6)\n",
            "memory usage: 2.3+ MB\n"
          ]
        }
      ]
    },
    {
      "cell_type": "code",
      "source": [
        "products['title'] = products['title'] + products['descrirption']"
      ],
      "metadata": {
        "id": "QIddKp01qr53"
      },
      "execution_count": null,
      "outputs": []
    },
    {
      "cell_type": "code",
      "source": [
        "# products['preprocess_txt'] = products['title'].apply(lambda x: preprocess_txt(x))"
      ],
      "metadata": {
        "id": "0OWcUqp3ta8q"
      },
      "execution_count": null,
      "outputs": []
    },
    {
      "cell_type": "code",
      "source": [
        "dict_questions = {}\n",
        "with codecs.open(\"prepared_answers.txt\", \"r\", \"utf-8\") as fin:\n",
        "      # из исходного файла перебираем строки\n",
        "      for line in fin:\n",
        "        dict_questions[line.split(\"\\t\")[0]] = 0"
      ],
      "metadata": {
        "id": "4qT0rt1TMD42"
      },
      "execution_count": null,
      "outputs": []
    },
    {
      "cell_type": "code",
      "source": [
        "content_dataset = pd.DataFrame(list(dict_questions. items ()), columns = ['title','content_type'])"
      ],
      "metadata": {
        "id": "BqU1720YRx_x"
      },
      "execution_count": null,
      "outputs": []
    },
    {
      "cell_type": "code",
      "source": [
        "content_dataset.head()"
      ],
      "metadata": {
        "id": "N4QGSH4aWv7r",
        "colab": {
          "base_uri": "https://localhost:8080/",
          "height": 206
        },
        "outputId": "8982ce21-8712-45f8-ab8b-799a03000a1a"
      },
      "execution_count": null,
      "outputs": [
        {
          "output_type": "execute_result",
          "data": {
            "text/plain": [
              "                                               title  content_type\n",
              "0                                                                0\n",
              "1  Как парни относятся к цветным линзам? Если у д...             0\n",
              "2     Что делать, сегодня нашёл 2 миллиона рублей? .             0\n",
              "3     Эбу в двенашке называется Итэлма что за эбу? .             0\n",
              "4  академия вампиров. сколько на даный момент час...             0"
            ],
            "text/html": [
              "\n",
              "  <div id=\"df-aa4ae2ba-a8f8-472c-865d-e7805040c36c\" class=\"colab-df-container\">\n",
              "    <div>\n",
              "<style scoped>\n",
              "    .dataframe tbody tr th:only-of-type {\n",
              "        vertical-align: middle;\n",
              "    }\n",
              "\n",
              "    .dataframe tbody tr th {\n",
              "        vertical-align: top;\n",
              "    }\n",
              "\n",
              "    .dataframe thead th {\n",
              "        text-align: right;\n",
              "    }\n",
              "</style>\n",
              "<table border=\"1\" class=\"dataframe\">\n",
              "  <thead>\n",
              "    <tr style=\"text-align: right;\">\n",
              "      <th></th>\n",
              "      <th>title</th>\n",
              "      <th>content_type</th>\n",
              "    </tr>\n",
              "  </thead>\n",
              "  <tbody>\n",
              "    <tr>\n",
              "      <th>0</th>\n",
              "      <td></td>\n",
              "      <td>0</td>\n",
              "    </tr>\n",
              "    <tr>\n",
              "      <th>1</th>\n",
              "      <td>Как парни относятся к цветным линзам? Если у д...</td>\n",
              "      <td>0</td>\n",
              "    </tr>\n",
              "    <tr>\n",
              "      <th>2</th>\n",
              "      <td>Что делать, сегодня нашёл 2 миллиона рублей? .</td>\n",
              "      <td>0</td>\n",
              "    </tr>\n",
              "    <tr>\n",
              "      <th>3</th>\n",
              "      <td>Эбу в двенашке называется Итэлма что за эбу? .</td>\n",
              "      <td>0</td>\n",
              "    </tr>\n",
              "    <tr>\n",
              "      <th>4</th>\n",
              "      <td>академия вампиров. сколько на даный момент час...</td>\n",
              "      <td>0</td>\n",
              "    </tr>\n",
              "  </tbody>\n",
              "</table>\n",
              "</div>\n",
              "    <div class=\"colab-df-buttons\">\n",
              "\n",
              "  <div class=\"colab-df-container\">\n",
              "    <button class=\"colab-df-convert\" onclick=\"convertToInteractive('df-aa4ae2ba-a8f8-472c-865d-e7805040c36c')\"\n",
              "            title=\"Convert this dataframe to an interactive table.\"\n",
              "            style=\"display:none;\">\n",
              "\n",
              "  <svg xmlns=\"http://www.w3.org/2000/svg\" height=\"24px\" viewBox=\"0 -960 960 960\">\n",
              "    <path d=\"M120-120v-720h720v720H120Zm60-500h600v-160H180v160Zm220 220h160v-160H400v160Zm0 220h160v-160H400v160ZM180-400h160v-160H180v160Zm440 0h160v-160H620v160ZM180-180h160v-160H180v160Zm440 0h160v-160H620v160Z\"/>\n",
              "  </svg>\n",
              "    </button>\n",
              "\n",
              "  <style>\n",
              "    .colab-df-container {\n",
              "      display:flex;\n",
              "      gap: 12px;\n",
              "    }\n",
              "\n",
              "    .colab-df-convert {\n",
              "      background-color: #E8F0FE;\n",
              "      border: none;\n",
              "      border-radius: 50%;\n",
              "      cursor: pointer;\n",
              "      display: none;\n",
              "      fill: #1967D2;\n",
              "      height: 32px;\n",
              "      padding: 0 0 0 0;\n",
              "      width: 32px;\n",
              "    }\n",
              "\n",
              "    .colab-df-convert:hover {\n",
              "      background-color: #E2EBFA;\n",
              "      box-shadow: 0px 1px 2px rgba(60, 64, 67, 0.3), 0px 1px 3px 1px rgba(60, 64, 67, 0.15);\n",
              "      fill: #174EA6;\n",
              "    }\n",
              "\n",
              "    .colab-df-buttons div {\n",
              "      margin-bottom: 4px;\n",
              "    }\n",
              "\n",
              "    [theme=dark] .colab-df-convert {\n",
              "      background-color: #3B4455;\n",
              "      fill: #D2E3FC;\n",
              "    }\n",
              "\n",
              "    [theme=dark] .colab-df-convert:hover {\n",
              "      background-color: #434B5C;\n",
              "      box-shadow: 0px 1px 3px 1px rgba(0, 0, 0, 0.15);\n",
              "      filter: drop-shadow(0px 1px 2px rgba(0, 0, 0, 0.3));\n",
              "      fill: #FFFFFF;\n",
              "    }\n",
              "  </style>\n",
              "\n",
              "    <script>\n",
              "      const buttonEl =\n",
              "        document.querySelector('#df-aa4ae2ba-a8f8-472c-865d-e7805040c36c button.colab-df-convert');\n",
              "      buttonEl.style.display =\n",
              "        google.colab.kernel.accessAllowed ? 'block' : 'none';\n",
              "\n",
              "      async function convertToInteractive(key) {\n",
              "        const element = document.querySelector('#df-aa4ae2ba-a8f8-472c-865d-e7805040c36c');\n",
              "        const dataTable =\n",
              "          await google.colab.kernel.invokeFunction('convertToInteractive',\n",
              "                                                    [key], {});\n",
              "        if (!dataTable) return;\n",
              "\n",
              "        const docLinkHtml = 'Like what you see? Visit the ' +\n",
              "          '<a target=\"_blank\" href=https://colab.research.google.com/notebooks/data_table.ipynb>data table notebook</a>'\n",
              "          + ' to learn more about interactive tables.';\n",
              "        element.innerHTML = '';\n",
              "        dataTable['output_type'] = 'display_data';\n",
              "        await google.colab.output.renderOutput(dataTable, element);\n",
              "        const docLink = document.createElement('div');\n",
              "        docLink.innerHTML = docLinkHtml;\n",
              "        element.appendChild(docLink);\n",
              "      }\n",
              "    </script>\n",
              "  </div>\n",
              "\n",
              "\n",
              "<div id=\"df-7451a747-d0b7-4c65-9afd-2f721f5dc578\">\n",
              "  <button class=\"colab-df-quickchart\" onclick=\"quickchart('df-7451a747-d0b7-4c65-9afd-2f721f5dc578')\"\n",
              "            title=\"Suggest charts.\"\n",
              "            style=\"display:none;\">\n",
              "\n",
              "<svg xmlns=\"http://www.w3.org/2000/svg\" height=\"24px\"viewBox=\"0 0 24 24\"\n",
              "     width=\"24px\">\n",
              "    <g>\n",
              "        <path d=\"M19 3H5c-1.1 0-2 .9-2 2v14c0 1.1.9 2 2 2h14c1.1 0 2-.9 2-2V5c0-1.1-.9-2-2-2zM9 17H7v-7h2v7zm4 0h-2V7h2v10zm4 0h-2v-4h2v4z\"/>\n",
              "    </g>\n",
              "</svg>\n",
              "  </button>\n",
              "\n",
              "<style>\n",
              "  .colab-df-quickchart {\n",
              "      --bg-color: #E8F0FE;\n",
              "      --fill-color: #1967D2;\n",
              "      --hover-bg-color: #E2EBFA;\n",
              "      --hover-fill-color: #174EA6;\n",
              "      --disabled-fill-color: #AAA;\n",
              "      --disabled-bg-color: #DDD;\n",
              "  }\n",
              "\n",
              "  [theme=dark] .colab-df-quickchart {\n",
              "      --bg-color: #3B4455;\n",
              "      --fill-color: #D2E3FC;\n",
              "      --hover-bg-color: #434B5C;\n",
              "      --hover-fill-color: #FFFFFF;\n",
              "      --disabled-bg-color: #3B4455;\n",
              "      --disabled-fill-color: #666;\n",
              "  }\n",
              "\n",
              "  .colab-df-quickchart {\n",
              "    background-color: var(--bg-color);\n",
              "    border: none;\n",
              "    border-radius: 50%;\n",
              "    cursor: pointer;\n",
              "    display: none;\n",
              "    fill: var(--fill-color);\n",
              "    height: 32px;\n",
              "    padding: 0;\n",
              "    width: 32px;\n",
              "  }\n",
              "\n",
              "  .colab-df-quickchart:hover {\n",
              "    background-color: var(--hover-bg-color);\n",
              "    box-shadow: 0 1px 2px rgba(60, 64, 67, 0.3), 0 1px 3px 1px rgba(60, 64, 67, 0.15);\n",
              "    fill: var(--button-hover-fill-color);\n",
              "  }\n",
              "\n",
              "  .colab-df-quickchart-complete:disabled,\n",
              "  .colab-df-quickchart-complete:disabled:hover {\n",
              "    background-color: var(--disabled-bg-color);\n",
              "    fill: var(--disabled-fill-color);\n",
              "    box-shadow: none;\n",
              "  }\n",
              "\n",
              "  .colab-df-spinner {\n",
              "    border: 2px solid var(--fill-color);\n",
              "    border-color: transparent;\n",
              "    border-bottom-color: var(--fill-color);\n",
              "    animation:\n",
              "      spin 1s steps(1) infinite;\n",
              "  }\n",
              "\n",
              "  @keyframes spin {\n",
              "    0% {\n",
              "      border-color: transparent;\n",
              "      border-bottom-color: var(--fill-color);\n",
              "      border-left-color: var(--fill-color);\n",
              "    }\n",
              "    20% {\n",
              "      border-color: transparent;\n",
              "      border-left-color: var(--fill-color);\n",
              "      border-top-color: var(--fill-color);\n",
              "    }\n",
              "    30% {\n",
              "      border-color: transparent;\n",
              "      border-left-color: var(--fill-color);\n",
              "      border-top-color: var(--fill-color);\n",
              "      border-right-color: var(--fill-color);\n",
              "    }\n",
              "    40% {\n",
              "      border-color: transparent;\n",
              "      border-right-color: var(--fill-color);\n",
              "      border-top-color: var(--fill-color);\n",
              "    }\n",
              "    60% {\n",
              "      border-color: transparent;\n",
              "      border-right-color: var(--fill-color);\n",
              "    }\n",
              "    80% {\n",
              "      border-color: transparent;\n",
              "      border-right-color: var(--fill-color);\n",
              "      border-bottom-color: var(--fill-color);\n",
              "    }\n",
              "    90% {\n",
              "      border-color: transparent;\n",
              "      border-bottom-color: var(--fill-color);\n",
              "    }\n",
              "  }\n",
              "</style>\n",
              "\n",
              "  <script>\n",
              "    async function quickchart(key) {\n",
              "      const quickchartButtonEl =\n",
              "        document.querySelector('#' + key + ' button');\n",
              "      quickchartButtonEl.disabled = true;  // To prevent multiple clicks.\n",
              "      quickchartButtonEl.classList.add('colab-df-spinner');\n",
              "      try {\n",
              "        const charts = await google.colab.kernel.invokeFunction(\n",
              "            'suggestCharts', [key], {});\n",
              "      } catch (error) {\n",
              "        console.error('Error during call to suggestCharts:', error);\n",
              "      }\n",
              "      quickchartButtonEl.classList.remove('colab-df-spinner');\n",
              "      quickchartButtonEl.classList.add('colab-df-quickchart-complete');\n",
              "    }\n",
              "    (() => {\n",
              "      let quickchartButtonEl =\n",
              "        document.querySelector('#df-7451a747-d0b7-4c65-9afd-2f721f5dc578 button');\n",
              "      quickchartButtonEl.style.display =\n",
              "        google.colab.kernel.accessAllowed ? 'block' : 'none';\n",
              "    })();\n",
              "  </script>\n",
              "</div>\n",
              "    </div>\n",
              "  </div>\n"
            ]
          },
          "metadata": {},
          "execution_count": 93
        }
      ]
    },
    {
      "cell_type": "code",
      "source": [
        "content_dataset.info()"
      ],
      "metadata": {
        "colab": {
          "base_uri": "https://localhost:8080/"
        },
        "id": "e1epB0R6usb-",
        "outputId": "f17ed21a-c9cb-49f9-9449-fcbd383a4fad"
      },
      "execution_count": null,
      "outputs": [
        {
          "output_type": "stream",
          "name": "stdout",
          "text": [
            "<class 'pandas.core.frame.DataFrame'>\n",
            "RangeIndex: 1158610 entries, 0 to 1158609\n",
            "Data columns (total 2 columns):\n",
            " #   Column        Non-Null Count    Dtype \n",
            "---  ------        --------------    ----- \n",
            " 0   title         1158610 non-null  object\n",
            " 1   content_type  1158610 non-null  int64 \n",
            "dtypes: int64(1), object(1)\n",
            "memory usage: 17.7+ MB\n"
          ]
        }
      ]
    },
    {
      "cell_type": "code",
      "source": [
        "classification_dataset = pd.concat([content_dataset, products[['title','content_type']]])"
      ],
      "metadata": {
        "id": "-gAQ4iOJbEtW"
      },
      "execution_count": null,
      "outputs": []
    },
    {
      "cell_type": "code",
      "source": [
        "classification_dataset.info()"
      ],
      "metadata": {
        "colab": {
          "base_uri": "https://localhost:8080/"
        },
        "id": "W8c9DTVHbTIr",
        "outputId": "b36101c2-b86a-4a77-fe5e-aee8198a1f29"
      },
      "execution_count": null,
      "outputs": [
        {
          "output_type": "stream",
          "name": "stdout",
          "text": [
            "<class 'pandas.core.frame.DataFrame'>\n",
            "Int64Index: 1192141 entries, 0 to 35546\n",
            "Data columns (total 2 columns):\n",
            " #   Column        Non-Null Count    Dtype \n",
            "---  ------        --------------    ----- \n",
            " 0   title         1192141 non-null  object\n",
            " 1   content_type  1192141 non-null  int64 \n",
            "dtypes: int64(1), object(1)\n",
            "memory usage: 27.3+ MB\n"
          ]
        }
      ]
    },
    {
      "cell_type": "code",
      "source": [
        "classification_dataset['title'] = classification_dataset['title'].apply(lambda x: preprocess_txt(x))"
      ],
      "metadata": {
        "id": "2sh_nBKhXxLT",
        "colab": {
          "base_uri": "https://localhost:8080/",
          "height": 182
        },
        "outputId": "99ea4fee-8064-498c-e884-7adbae611abc"
      },
      "execution_count": null,
      "outputs": [
        {
          "output_type": "error",
          "ename": "NameError",
          "evalue": "ignored",
          "traceback": [
            "\u001b[0;31m---------------------------------------------------------------------------\u001b[0m",
            "\u001b[0;31mNameError\u001b[0m                                 Traceback (most recent call last)",
            "\u001b[0;32m<ipython-input-1-201812f3a67c>\u001b[0m in \u001b[0;36m<cell line: 1>\u001b[0;34m()\u001b[0m\n\u001b[0;32m----> 1\u001b[0;31m \u001b[0mclassification_dataset\u001b[0m\u001b[0;34m[\u001b[0m\u001b[0;34m'title'\u001b[0m\u001b[0;34m]\u001b[0m \u001b[0;34m=\u001b[0m \u001b[0mclassification_dataset\u001b[0m\u001b[0;34m[\u001b[0m\u001b[0;34m'title'\u001b[0m\u001b[0;34m]\u001b[0m\u001b[0;34m.\u001b[0m\u001b[0mapply\u001b[0m\u001b[0;34m(\u001b[0m\u001b[0;32mlambda\u001b[0m \u001b[0mx\u001b[0m\u001b[0;34m:\u001b[0m \u001b[0mpreprocess_txt\u001b[0m\u001b[0;34m(\u001b[0m\u001b[0mx\u001b[0m\u001b[0;34m)\u001b[0m\u001b[0;34m)\u001b[0m\u001b[0;34m\u001b[0m\u001b[0;34m\u001b[0m\u001b[0m\n\u001b[0m",
            "\u001b[0;31mNameError\u001b[0m: name 'classification_dataset' is not defined"
          ]
        }
      ]
    },
    {
      "cell_type": "code",
      "source": [
        "classification_dataset.head()"
      ],
      "metadata": {
        "id": "SmMsswnkvY7M"
      },
      "execution_count": null,
      "outputs": []
    },
    {
      "cell_type": "code",
      "source": [
        "print(round(df2['content_type'].value_counts(normalize = True)*100,2))"
      ],
      "metadata": {
        "id": "Q28Cyx16bVPP"
      },
      "execution_count": null,
      "outputs": []
    },
    {
      "cell_type": "code",
      "metadata": {
        "id": "fMU_c9pKxe0d"
      },
      "source": [
        "from sklearn.linear_model import LogisticRegression\n",
        "from sklearn.feature_extraction.text import TfidfVectorizer"
      ],
      "execution_count": null,
      "outputs": []
    },
    {
      "cell_type": "code",
      "source": [
        "X_train_cs, X_valid, y_train_cs, y_valid = train_test_split(df2['title'],\n",
        "                                                                            df2['content_type'],\n",
        "                                                                            stratify=df2['content_type'],\n",
        "                                                                            test_size=0.2,\n",
        "                                                                            random_state=42)\n",
        "print('Train:\\n', y_train_cs.value_counts(normalize=True), sep='')\n",
        "print('Valid:\\n', y_valid.value_counts(normalize=True), sep='')"
      ],
      "metadata": {
        "id": "OR8UTK2fdu7k"
      },
      "execution_count": null,
      "outputs": []
    },
    {
      "cell_type": "code",
      "metadata": {
        "id": "i5qXrSEXztwW"
      },
      "source": [
        "# создадим и обучим объект векторизации TfidfVectorizer\n",
        "vectorizer  = TfidfVectorizer()\n",
        "values = vectorizer.fit(df2['title'])\n"
      ],
      "execution_count": null,
      "outputs": []
    },
    {
      "cell_type": "code",
      "metadata": {
        "id": "RRkJP8yz2KPP"
      },
      "source": [
        "# 1.конвертируем тексты(обучающий и тестовый) в векторы tf-idf\n",
        "# 2 конвертируем метки класса в массивы numpy\n",
        "X_train_cs = values.transform(X_train_cs)\n",
        "\n",
        "X_valid = values.transform(X_valid)\n"
      ],
      "execution_count": null,
      "outputs": []
    }
  ]
}