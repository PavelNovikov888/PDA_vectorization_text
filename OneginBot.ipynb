{
  "nbformat": 4,
  "nbformat_minor": 0,
  "metadata": {
    "kernelspec": {
      "display_name": "Python 3",
      "language": "python",
      "name": "python3"
    },
    "language_info": {
      "codemirror_mode": {
        "name": "ipython",
        "version": 3
      },
      "file_extension": ".py",
      "mimetype": "text/x-python",
      "name": "python",
      "nbconvert_exporter": "python",
      "pygments_lexer": "ipython3",
      "version": "3.7.6"
    },
    "colab": {
      "provenance": [],
      "include_colab_link": true
    }
  },
  "cells": [
    {
      "cell_type": "markdown",
      "metadata": {
        "id": "view-in-github",
        "colab_type": "text"
      },
      "source": [
        "<a href=\"https://colab.research.google.com/github/PavelNovikov888/PDA_vectorization_text/blob/master/OneginBot.ipynb\" target=\"_parent\"><img src=\"https://colab.research.google.com/assets/colab-badge.svg\" alt=\"Open In Colab\"/></a>"
      ]
    },
    {
      "cell_type": "markdown",
      "metadata": {
        "id": "UdaRM7mEhTbP"
      },
      "source": [
        "# Превращаем «Евгения Онегина» в чат-бот\n",
        "\n",
        "Чат-боты — один из самых популярных трендов последних лет. И неудивительно: мы не расстаемся со смартфонами, при этом большая часть экранного времени уходит на соцсети и мессенджеры. Это значит, что общаться с клиентами и пользователями удобнее всего именно там.\n",
        "\n",
        "Чтобы создавать чат-ботов с нуля, нужно уметь программировать — например, на Python. Однако с помощью этого тьюториала вы сможете самостотельно запустить чат-бота в Telegram без каких бы то ни было навыков программирования и даже не устанавливая Python на компьютер!\n",
        "\n"
      ]
    },
    {
      "cell_type": "markdown",
      "metadata": {
        "id": "6GtGPkywbPLG"
      },
      "source": [
        "## Шаг 1. Устанавливаем библиотеку для работы с Telegram API\n",
        "\n",
        "Как и у любого уважающего себя сервиса, у телеграма есть API *(application program interface)* — специальный набор инструментов для взаимодействия с программой, а не с живым пользователем. Вот [официальная страница](https://core.telegram.org/bots/api) с  его документацией.\n",
        "\n",
        "Для популярных API обычно можно найти готовые «обертки» на разных языках программирования. Они облегчают работу с API, позволяя не обращаться к нему напрямую. Существует довольно много библиотек для работы с Telegram API на Python:\n",
        "* [telepot](https://github.com/nickoala/telepot)\n",
        "* [python-telegram-bot](https://github.com/python-telegram-bot/python-telegram-bot)\n",
        "* [pyTelegramBotAPI](https://github.com/eternnoir/pyTelegramBotAPI).\n",
        "\n",
        "Мы будем использовать последнюю из них — `pyTelegramBotAPI`. Чтобы ее установить, нужно просто запустить следующую ячейку, нажав на кнопочку ▶️ слева от нее или `Ctrl+Enter`. Когда на месте ▶️ появится цифра — значит, код успешно выполнен."
      ]
    },
    {
      "cell_type": "markdown",
      "metadata": {
        "id": "GhgIphu1hTbf"
      },
      "source": [
        "## Шаг 2. Получаем API Token\n",
        "\n",
        "Чтобы создать бота, нам необходимо получить уникальный идентификатор для доступа к Telegram API, который называется **токеном**. Как это сделать?\n",
        "\n",
        "1. Если нет аккаунта в телеграме, то нужно зарегистрироваться — https://web.telegram.org (ввести номер телефона, получить смс с кодом и ввести код на странице подтверждения номера).\n",
        "\n",
        "2. Следующий шаг — начать чат с крестным отцом всех ботов, https://t.me/BotFather (просто кликните по этой ссылке или наберите в поиске телеграма @BotFather). Далее,\n",
        "\n",
        "  * отправляем ему команду `/newbot`;\n",
        "  * вводим имя бота — то, что будет отображаться как имя всем, кто будет общаться с нашим ботом;\n",
        "  * вводим юзернейм бота — он должен заканчиваться на `bot` или `Bot`. Если введенный юзернейм уже занят, то `BotFather` предложит придумать другой.\n",
        "\n",
        "После этого вы получите API токен, уникальный для вашего бота. Если у вас несколько ботов, то у каждого токен будет свой!\n",
        "\n",
        "<img src=\"https://raw.githubusercontent.com/ancatmara/skillfactory/master/img/Inkedget_token_LI.jpg\" width=\"550\" align=\"left\">"
      ]
    },
    {
      "cell_type": "markdown",
      "metadata": {
        "id": "_ywg3kZyhTbm"
      },
      "source": [
        "Теперь нужно скопировать полученный токен и сохранить его в отдельном файле. Для этого просто запустите следующую ячейку и вставьте в открывшуюся строку ваш токен, а затем нажмите `Enter`."
      ]
    },
    {
      "cell_type": "code",
      "metadata": {
        "id": "amF7_Bq1hTbo"
      },
      "source": [
        "with open(\"conf.py\", \"w\", encoding=\"utf-8\") as f:\n",
        "    f.write('TOKEN = \"%s\"' % input(\"5102671423:AAHW_LzCmmBTe-Wf_XVw5cPtR241AUU5mRI\"))"
      ],
      "execution_count": null,
      "outputs": []
    },
    {
      "cell_type": "markdown",
      "metadata": {
        "id": "LcBDay02hTby"
      },
      "source": [
        "## Шаг 3. Загружаем данные\n",
        "\n",
        "Отлично, теперь можно переходить к самому интересному — к написанию логики бота! Допустим, мы хотим, чтобы он умел:\n",
        "\n",
        "1. Присылать пользователю случайные цитаты из определенного текста;\n",
        "2. Присылать цитаты с заданным словом.\n",
        "\n",
        "В качестве примера возьмем «Евгения Онегина» — уж у Пушкина-то точно найдутся строчки на все случаи жизни! А вообще можете использовать любые данные, которые вам нравятся — от текстов песен любимой группы до сборника латинских афоризмов. Главное условие, чтобы это был файл формата `.txt` с кодировкой `utf-8`.\n",
        "\n",
        "Чтобы скачать текст «Евгения Онегина», запустите следующую ячейку."
      ]
    },
    {
      "cell_type": "code",
      "metadata": {
        "id": "H38QAD0BhTcF"
      },
      "source": [
        "!wget https://raw.githubusercontent.com/ancatmara/skillfactory/master/data/onegin.txt"
      ],
      "execution_count": null,
      "outputs": []
    },
    {
      "cell_type": "markdown",
      "metadata": {
        "id": "ng9LQTdWwPGM"
      },
      "source": [
        "Если же вы хотите использовать другой текст, то нажмите на значок 📁 слева, выберите `Upload` и загрузите нужный txt-файл cо своего компьютера.\n",
        "\n",
        "<img src=\"https://raw.githubusercontent.com/ancatmara/skillfactory/master/img/upload.png\" width=\"350\" align=\"left\">"
      ]
    },
    {
      "cell_type": "markdown",
      "metadata": {
        "id": "yFDNtWgzhTcE"
      },
      "source": [
        "## Шаг 4. Пишем код бота на Python\n",
        "\n",
        "А теперь переходим непосредственно к коду бота на Python! Если вы совсем не знакомы с программированием, то не стоит бояться — вам предстоит просто запускать ячейки с кодом, как вы уже делали выше 🙂.\n",
        "\n",
        "Для начала импортируем нужные библиотеки и напишем две вспомогательные функции:\n",
        "1. `get_sentences` для разбиения текста из файла на предложения;\n",
        "2. `random_quote` для выбора случайного предложения.\n",
        "\n",
        "**Функция** — это описание того, что нужно сделать с данными, а **библиотека** — готовый набор разных функций."
      ]
    },
    {
      "cell_type": "code",
      "metadata": {
        "id": "U3B6Ovj7hyOD",
        "colab": {
          "base_uri": "https://localhost:8080/",
          "height": 368
        },
        "outputId": "d9024972-1029-490f-a130-98709515ba90"
      },
      "source": [
        "import re\n",
        "import conf\n",
        "import random\n",
        "import telebot\n",
        "\n",
        "def random_quote(sents):\n",
        "    i = random.randint(0, len(sents)-1)\n",
        "    return sents[i]\n",
        "\n",
        "def get_sentences(path, regex=\".*?[.!?]\\s\"):\n",
        "    s = re.compile(regex, re.DOTALL)\n",
        "    with open(path, \"r\", encoding=\"utf-8\") as f:\n",
        "        sents = s.findall(f.read())\n",
        "    return sents"
      ],
      "execution_count": null,
      "outputs": [
        {
          "output_type": "error",
          "ename": "ModuleNotFoundError",
          "evalue": "ignored",
          "traceback": [
            "\u001b[0;31m---------------------------------------------------------------------------\u001b[0m",
            "\u001b[0;31mModuleNotFoundError\u001b[0m                       Traceback (most recent call last)",
            "\u001b[0;32m<ipython-input-2-5ea44e45b596>\u001b[0m in \u001b[0;36m<module>\u001b[0;34m()\u001b[0m\n\u001b[1;32m      1\u001b[0m \u001b[0;32mimport\u001b[0m \u001b[0mre\u001b[0m\u001b[0;34m\u001b[0m\u001b[0;34m\u001b[0m\u001b[0m\n\u001b[0;32m----> 2\u001b[0;31m \u001b[0;32mimport\u001b[0m \u001b[0mconf\u001b[0m\u001b[0;34m\u001b[0m\u001b[0;34m\u001b[0m\u001b[0m\n\u001b[0m\u001b[1;32m      3\u001b[0m \u001b[0;32mimport\u001b[0m \u001b[0mrandom\u001b[0m\u001b[0;34m\u001b[0m\u001b[0;34m\u001b[0m\u001b[0m\n\u001b[1;32m      4\u001b[0m \u001b[0;32mimport\u001b[0m \u001b[0mtelebot\u001b[0m\u001b[0;34m\u001b[0m\u001b[0;34m\u001b[0m\u001b[0m\n\u001b[1;32m      5\u001b[0m \u001b[0;34m\u001b[0m\u001b[0m\n",
            "\u001b[0;31mModuleNotFoundError\u001b[0m: No module named 'conf'",
            "",
            "\u001b[0;31m---------------------------------------------------------------------------\u001b[0;32m\nNOTE: If your import is failing due to a missing package, you can\nmanually install dependencies using either !pip or !apt.\n\nTo view examples of installing some common dependencies, click the\n\"Open Examples\" button below.\n\u001b[0;31m---------------------------------------------------------------------------\u001b[0m\n"
          ],
          "errorDetails": {
            "actions": [
              {
                "action": "open_url",
                "actionText": "Open Examples",
                "url": "/notebooks/snippets/importing_libraries.ipynb"
              }
            ]
          }
        }
      ]
    },
    {
      "cell_type": "markdown",
      "metadata": {
        "id": "X-aQS2Yw3Wt2"
      },
      "source": [
        "Прочитаем текст и разобьем его на предложения. Если вы загрузили свой файл, то измените `onegin.txt` на его название."
      ]
    },
    {
      "cell_type": "code",
      "metadata": {
        "id": "1fywdqi8hTcN"
      },
      "source": [
        "sents = get_sentences(\"onegin.txt\")"
      ],
      "execution_count": null,
      "outputs": []
    },
    {
      "cell_type": "markdown",
      "metadata": {
        "id": "43RMgMxChTcW"
      },
      "source": [
        "Создадим бота, используя наш токен."
      ]
    },
    {
      "cell_type": "code",
      "metadata": {
        "id": "FlVjK7NDhTcX"
      },
      "source": [
        "bot = telebot.TeleBot(conf.TOKEN)"
      ],
      "execution_count": null,
      "outputs": []
    },
    {
      "cell_type": "markdown",
      "metadata": {
        "id": "_nZMP1IrhTcc"
      },
      "source": [
        "Теперь напишем **обработчики сообщений** *(message handlers)* — специальные функции, которые позволят боту реагировать на сообщения. В общем случае обработчик сообщений выглядит так:\n",
        "\n",
        "```python\n",
        "# указываем, что это обработчик сообщений\n",
        "@bot.message_handler(...)\n",
        "# определение функции\n",
        "def my_function(message):\n",
        "    # код, который генерирует ответ\n",
        "    reply = 'Привет!'\n",
        "    # код для отправки сообщения в чат\n",
        "    bot.send_message(message.chat.id, reply)\n",
        "```"
      ]
    },
    {
      "cell_type": "code",
      "source": [
        "@bot.message_handler(...)\n",
        "def my_function(message):\n",
        "    reply = 'Привет!'\n",
        "    bot.send_message(message.chat.id, reply)"
      ],
      "metadata": {
        "colab": {
          "base_uri": "https://localhost:8080/"
        },
        "id": "TJsSLv-yoUnd",
        "outputId": "933cb5db-af31-4b91-a51e-f4ec73ef1018"
      },
      "execution_count": null,
      "outputs": [
        {
          "output_type": "stream",
          "name": "stderr",
          "text": [
            "2022-05-29 16:25:07,125 (__init__.py:3082 MainThread) ERROR - TeleBot: \"message_handler: Commands filter should be list of strings (commands), unknown type supplied to the 'commands' filter list. Not able to use the supplied type.\"\n"
          ]
        }
      ]
    },
    {
      "cell_type": "markdown",
      "metadata": {
        "id": "0V-kcOuIhTce"
      },
      "source": [
        "* `bot` — это имя переменной с нашим ботом;\n",
        "* `...` — фильтр (то, на какие сообщения будет реагировать функция)\n",
        "\n",
        "Подробнее про обработчики сообщений и фильтры можно почитать в [документации библиотеки](https://github.com/eternnoir/pyTelegramBotAPI#message-handlers).\n",
        "\n",
        "Для начала напишем функцию `send_quote`, которая по команде `\\send` будет отправлять пользователю случайное предложение из текста."
      ]
    },
    {
      "cell_type": "code",
      "metadata": {
        "id": "bA9_sc1ThTcf"
      },
      "source": [
        "@bot.message_handler(commands=['send'])\n",
        "def send_quote(message):\n",
        "    quweqwabot.send_message(message.chat.id, random_quote(sents))"
      ],
      "execution_count": null,
      "outputs": []
    },
    {
      "cell_type": "markdown",
      "metadata": {
        "id": "6GxjLmmahTcm"
      },
      "source": [
        "Обработчик сообщений необязательно связан с какой-то командой. Например, можно написать такую функцию, которая будет реагировать на любое сообщение. Воспользуемся этим, чтобы реализовать поиск по тексту — примерно как `Ctrl+F/Сmd+F` в текстовом редакторе или браузере.\n",
        "\n",
        "То есть, если пользователь отправит боту какое-то слово или фразу, мы будем искать точное совпадение в «Евгении Онегине» и отправим пользователю результат. Если найдется несколько предложений с заданным словом, то случайным образом выберем одно из них; если же не найдется ничего, честно скажем об этом пользователю."
      ]
    },
    {
      "cell_type": "code",
      "metadata": {
        "id": "m5xsqhfwhTcn"
      },
      "source": [
        "@bot.message_handler(func=lambda m: True)\n",
        "def query_quote(message):\n",
        "    query = message.text\n",
        "    res = [sent for sent in sents if query.lower() in sent.lower()]\n",
        "    if len(res) != 0:\n",
        "        bot.send_message(message.chat.id, random_quote(res))\n",
        "    else:\n",
        "        bot.send_message(message.chat.id, \"Об этом Пушкин не писал!\")"
      ],
      "execution_count": null,
      "outputs": []
    },
    {
      "cell_type": "markdown",
      "metadata": {
        "id": "P83NmYXShTcu"
      },
      "source": [
        "Теперь сделаем так, чтобы наш бот постоянно спрашивал сервера телеграма, не пришло ли ему новых сообщений. Параметр `none_stop=True` означает, что при возникновении ошибок бот должен стараться не прекращать работу.\n",
        "\n",
        "```python\n",
        "if __name__ == '__main__':\n",
        "    bot.polling(none_stop=True)\n",
        "```"
      ]
    },
    {
      "cell_type": "markdown",
      "metadata": {
        "id": "tXGkEIKohTc3"
      },
      "source": [
        "## Шаг 5. Запускаем бота\n",
        "\n",
        "Соберем весь код в одной ячейке. Чтобы бот заработал, нужно просто запустить ее! Теперь нашего бота можно найти в телеграме и написать ему.\n",
        "\n",
        "Обратите внимание, что бот будет работать, пока запущена ячейка — т.е. сейчас не нужно дожидаться, пока на месте ▶️ появится цифра. Когда вы захотите остановить бота, нужно нажать ⏹. Впрочем, даже вы этого не сделаете, то после некоторого времени бездействия Google Colab сам остановит процесс."
      ]
    },
    {
      "cell_type": "code",
      "metadata": {
        "id": "rzAs6wFEhTc5",
        "colab": {
          "base_uri": "https://localhost:8080/",
          "height": 345
        },
        "outputId": "126b304f-2333-448f-f725-3058335e66d0"
      },
      "source": [
        "import re\n",
        "import conf\n",
        "import random\n",
        "import telebot\n",
        "\n",
        "def get_sentences(path, regex=\".*?[.!?]\\s\"):\n",
        "    with open(path, \"r\", encoding=\"utf-8\") as f:\n",
        "        sents = re.findall(regex, f.read(), re.DOTALL)\n",
        "    return sents\n",
        "\n",
        "def random_quote(sents):\n",
        "    i = random.randint(0, len(sents)-1)\n",
        "    return sents[i]\n",
        "\n",
        "bot = telebot.TeleBot(conf.TOKEN)\n",
        "sents = get_sentences(\"onegin.txt\")\n",
        "\n",
        "@bot.message_handler(commands=['send'])\n",
        "def send_quote(message):\n",
        "    bot.send_message(message.chat.id, random_quote(sents))\n",
        "\n",
        "@bot.message_handler(func=lambda m: True)\n",
        "def query_quote(message):\n",
        "    query = message.text\n",
        "    res = [sent for sent in sents if query.lower() in sent.lower()]\n",
        "    if len(res) != 0:\n",
        "        bot.send_message(message.chat.id, random_quote(res))\n",
        "    else:\n",
        "        bot.send_message(message.chat.id, \"Об этом Пушкин не писал!\")\n",
        "\n",
        "if __name__ == '__main__':\n",
        "    bot.polling(none_stop=True)"
      ],
      "execution_count": null,
      "outputs": [
        {
          "output_type": "error",
          "ename": "Exception",
          "evalue": "ignored",
          "traceback": [
            "\u001b[0;31m---------------------------------------------------------------------------\u001b[0m",
            "\u001b[0;31mException\u001b[0m                                 Traceback (most recent call last)",
            "\u001b[0;32m<ipython-input-50-27239c1b1fcb>\u001b[0m in \u001b[0;36m<module>\u001b[0;34m()\u001b[0m\n\u001b[1;32m     30\u001b[0m \u001b[0;34m\u001b[0m\u001b[0m\n\u001b[1;32m     31\u001b[0m \u001b[0;32mif\u001b[0m \u001b[0m__name__\u001b[0m \u001b[0;34m==\u001b[0m \u001b[0;34m'__main__'\u001b[0m\u001b[0;34m:\u001b[0m\u001b[0;34m\u001b[0m\u001b[0;34m\u001b[0m\u001b[0m\n\u001b[0;32m---> 32\u001b[0;31m     \u001b[0mbot\u001b[0m\u001b[0;34m.\u001b[0m\u001b[0mpolling\u001b[0m\u001b[0;34m(\u001b[0m\u001b[0mnone_stop\u001b[0m\u001b[0;34m=\u001b[0m\u001b[0;32mTrue\u001b[0m\u001b[0;34m)\u001b[0m\u001b[0;34m\u001b[0m\u001b[0;34m\u001b[0m\u001b[0m\n\u001b[0m",
            "\u001b[0;32m/usr/local/lib/python3.7/dist-packages/telebot/__init__.py\u001b[0m in \u001b[0;36mpolling\u001b[0;34m(self, non_stop, skip_pending, interval, timeout, long_polling_timeout, logger_level, allowed_updates, none_stop)\u001b[0m\n\u001b[1;32m    619\u001b[0m         \u001b[0;32mif\u001b[0m \u001b[0mself\u001b[0m\u001b[0;34m.\u001b[0m\u001b[0mthreaded\u001b[0m\u001b[0;34m:\u001b[0m\u001b[0;34m\u001b[0m\u001b[0;34m\u001b[0m\u001b[0m\n\u001b[1;32m    620\u001b[0m             self.__threaded_polling(non_stop=non_stop, interval=interval, timeout=timeout, long_polling_timeout=long_polling_timeout,\n\u001b[0;32m--> 621\u001b[0;31m                                     logger_level=logger_level, allowed_updates=allowed_updates)\n\u001b[0m\u001b[1;32m    622\u001b[0m         \u001b[0;32melse\u001b[0m\u001b[0;34m:\u001b[0m\u001b[0;34m\u001b[0m\u001b[0;34m\u001b[0m\u001b[0m\n\u001b[1;32m    623\u001b[0m             self.__non_threaded_polling(non_stop=non_stop, interval=interval, timeout=timeout, long_polling_timeout=long_polling_timeout,\n",
            "\u001b[0;32m/usr/local/lib/python3.7/dist-packages/telebot/__init__.py\u001b[0m in \u001b[0;36m__threaded_polling\u001b[0;34m(self, non_stop, interval, timeout, long_polling_timeout, logger_level, allowed_updates)\u001b[0m\n\u001b[1;32m    692\u001b[0m                     \u001b[0mpolling_thread\u001b[0m\u001b[0;34m.\u001b[0m\u001b[0mclear_exceptions\u001b[0m\u001b[0;34m(\u001b[0m\u001b[0;34m)\u001b[0m   \u001b[0;31m#*\u001b[0m\u001b[0;34m\u001b[0m\u001b[0;34m\u001b[0m\u001b[0m\n\u001b[1;32m    693\u001b[0m                     \u001b[0mself\u001b[0m\u001b[0;34m.\u001b[0m\u001b[0mworker_pool\u001b[0m\u001b[0;34m.\u001b[0m\u001b[0mclear_exceptions\u001b[0m\u001b[0;34m(\u001b[0m\u001b[0;34m)\u001b[0m \u001b[0;31m#*\u001b[0m\u001b[0;34m\u001b[0m\u001b[0;34m\u001b[0m\u001b[0m\n\u001b[0;32m--> 694\u001b[0;31m                     \u001b[0;32mraise\u001b[0m \u001b[0me\u001b[0m\u001b[0;34m\u001b[0m\u001b[0;34m\u001b[0m\u001b[0m\n\u001b[0m\u001b[1;32m    695\u001b[0m                 \u001b[0;32melse\u001b[0m\u001b[0;34m:\u001b[0m\u001b[0;34m\u001b[0m\u001b[0;34m\u001b[0m\u001b[0m\n\u001b[1;32m    696\u001b[0m                     \u001b[0mpolling_thread\u001b[0m\u001b[0;34m.\u001b[0m\u001b[0mclear_exceptions\u001b[0m\u001b[0;34m(\u001b[0m\u001b[0;34m)\u001b[0m\u001b[0;34m\u001b[0m\u001b[0;34m\u001b[0m\u001b[0m\n",
            "\u001b[0;32m/usr/local/lib/python3.7/dist-packages/telebot/__init__.py\u001b[0m in \u001b[0;36m__threaded_polling\u001b[0;34m(self, non_stop, interval, timeout, long_polling_timeout, logger_level, allowed_updates)\u001b[0m\n\u001b[1;32m    647\u001b[0m                 \u001b[0mpolling_thread\u001b[0m\u001b[0;34m.\u001b[0m\u001b[0mput\u001b[0m\u001b[0;34m(\u001b[0m\u001b[0mself\u001b[0m\u001b[0;34m.\u001b[0m\u001b[0m__retrieve_updates\u001b[0m\u001b[0;34m,\u001b[0m \u001b[0mtimeout\u001b[0m\u001b[0;34m,\u001b[0m \u001b[0mlong_polling_timeout\u001b[0m\u001b[0;34m,\u001b[0m \u001b[0mallowed_updates\u001b[0m\u001b[0;34m=\u001b[0m\u001b[0mallowed_updates\u001b[0m\u001b[0;34m)\u001b[0m\u001b[0;34m\u001b[0m\u001b[0;34m\u001b[0m\u001b[0m\n\u001b[1;32m    648\u001b[0m                 \u001b[0mor_event\u001b[0m\u001b[0;34m.\u001b[0m\u001b[0mwait\u001b[0m\u001b[0;34m(\u001b[0m\u001b[0;34m)\u001b[0m  \u001b[0;31m# wait for polling thread finish, polling thread error or thread pool error\u001b[0m\u001b[0;34m\u001b[0m\u001b[0;34m\u001b[0m\u001b[0m\n\u001b[0;32m--> 649\u001b[0;31m                 \u001b[0mpolling_thread\u001b[0m\u001b[0;34m.\u001b[0m\u001b[0mraise_exceptions\u001b[0m\u001b[0;34m(\u001b[0m\u001b[0;34m)\u001b[0m\u001b[0;34m\u001b[0m\u001b[0;34m\u001b[0m\u001b[0m\n\u001b[0m\u001b[1;32m    650\u001b[0m                 \u001b[0mself\u001b[0m\u001b[0;34m.\u001b[0m\u001b[0mworker_pool\u001b[0m\u001b[0;34m.\u001b[0m\u001b[0mraise_exceptions\u001b[0m\u001b[0;34m(\u001b[0m\u001b[0;34m)\u001b[0m\u001b[0;34m\u001b[0m\u001b[0;34m\u001b[0m\u001b[0m\n\u001b[1;32m    651\u001b[0m                 \u001b[0merror_interval\u001b[0m \u001b[0;34m=\u001b[0m \u001b[0;36m0.25\u001b[0m\u001b[0;34m\u001b[0m\u001b[0;34m\u001b[0m\u001b[0m\n",
            "\u001b[0;32m/usr/local/lib/python3.7/dist-packages/telebot/util.py\u001b[0m in \u001b[0;36mraise_exceptions\u001b[0;34m(self)\u001b[0m\n\u001b[1;32m    105\u001b[0m     \u001b[0;32mdef\u001b[0m \u001b[0mraise_exceptions\u001b[0m\u001b[0;34m(\u001b[0m\u001b[0mself\u001b[0m\u001b[0;34m)\u001b[0m\u001b[0;34m:\u001b[0m\u001b[0;34m\u001b[0m\u001b[0;34m\u001b[0m\u001b[0m\n\u001b[1;32m    106\u001b[0m         \u001b[0;32mif\u001b[0m \u001b[0mself\u001b[0m\u001b[0;34m.\u001b[0m\u001b[0mexception_event\u001b[0m\u001b[0;34m.\u001b[0m\u001b[0mis_set\u001b[0m\u001b[0;34m(\u001b[0m\u001b[0;34m)\u001b[0m\u001b[0;34m:\u001b[0m\u001b[0;34m\u001b[0m\u001b[0;34m\u001b[0m\u001b[0m\n\u001b[0;32m--> 107\u001b[0;31m             \u001b[0;32mraise\u001b[0m \u001b[0mself\u001b[0m\u001b[0;34m.\u001b[0m\u001b[0mexception_info\u001b[0m\u001b[0;34m\u001b[0m\u001b[0;34m\u001b[0m\u001b[0m\n\u001b[0m\u001b[1;32m    108\u001b[0m \u001b[0;34m\u001b[0m\u001b[0m\n\u001b[1;32m    109\u001b[0m     \u001b[0;32mdef\u001b[0m \u001b[0mclear_exceptions\u001b[0m\u001b[0;34m(\u001b[0m\u001b[0mself\u001b[0m\u001b[0;34m)\u001b[0m\u001b[0;34m:\u001b[0m\u001b[0;34m\u001b[0m\u001b[0;34m\u001b[0m\u001b[0m\n",
            "\u001b[0;32m/usr/local/lib/python3.7/dist-packages/telebot/util.py\u001b[0m in \u001b[0;36mrun\u001b[0;34m(self)\u001b[0m\n\u001b[1;32m     87\u001b[0m                 \u001b[0mself\u001b[0m\u001b[0;34m.\u001b[0m\u001b[0mreceived_task_event\u001b[0m\u001b[0;34m.\u001b[0m\u001b[0mset\u001b[0m\u001b[0;34m(\u001b[0m\u001b[0;34m)\u001b[0m\u001b[0;34m\u001b[0m\u001b[0;34m\u001b[0m\u001b[0m\n\u001b[1;32m     88\u001b[0m \u001b[0;34m\u001b[0m\u001b[0m\n\u001b[0;32m---> 89\u001b[0;31m                 \u001b[0mtask\u001b[0m\u001b[0;34m(\u001b[0m\u001b[0;34m*\u001b[0m\u001b[0margs\u001b[0m\u001b[0;34m,\u001b[0m \u001b[0;34m**\u001b[0m\u001b[0mkwargs\u001b[0m\u001b[0;34m)\u001b[0m\u001b[0;34m\u001b[0m\u001b[0;34m\u001b[0m\u001b[0m\n\u001b[0m\u001b[1;32m     90\u001b[0m                 \u001b[0mlogger\u001b[0m\u001b[0;34m.\u001b[0m\u001b[0mdebug\u001b[0m\u001b[0;34m(\u001b[0m\u001b[0;34m\"Task complete\"\u001b[0m\u001b[0;34m)\u001b[0m\u001b[0;34m\u001b[0m\u001b[0;34m\u001b[0m\u001b[0m\n\u001b[1;32m     91\u001b[0m                 \u001b[0mself\u001b[0m\u001b[0;34m.\u001b[0m\u001b[0mdone_event\u001b[0m\u001b[0;34m.\u001b[0m\u001b[0mset\u001b[0m\u001b[0;34m(\u001b[0m\u001b[0;34m)\u001b[0m\u001b[0;34m\u001b[0m\u001b[0;34m\u001b[0m\u001b[0m\n",
            "\u001b[0;32m/usr/local/lib/python3.7/dist-packages/telebot/__init__.py\u001b[0m in \u001b[0;36m__retrieve_updates\u001b[0;34m(self, timeout, long_polling_timeout, allowed_updates)\u001b[0m\n\u001b[1;32m    359\u001b[0m         updates = self.get_updates(offset=(self.last_update_id + 1), \n\u001b[1;32m    360\u001b[0m                                    \u001b[0mallowed_updates\u001b[0m\u001b[0;34m=\u001b[0m\u001b[0mallowed_updates\u001b[0m\u001b[0;34m,\u001b[0m\u001b[0;34m\u001b[0m\u001b[0;34m\u001b[0m\u001b[0m\n\u001b[0;32m--> 361\u001b[0;31m                                    timeout=timeout, long_polling_timeout=long_polling_timeout)\n\u001b[0m\u001b[1;32m    362\u001b[0m         \u001b[0mself\u001b[0m\u001b[0;34m.\u001b[0m\u001b[0mprocess_new_updates\u001b[0m\u001b[0;34m(\u001b[0m\u001b[0mupdates\u001b[0m\u001b[0;34m)\u001b[0m\u001b[0;34m\u001b[0m\u001b[0;34m\u001b[0m\u001b[0m\n\u001b[1;32m    363\u001b[0m \u001b[0;34m\u001b[0m\u001b[0m\n",
            "\u001b[0;32m/usr/local/lib/python3.7/dist-packages/telebot/__init__.py\u001b[0m in \u001b[0;36mget_updates\u001b[0;34m(self, offset, limit, timeout, allowed_updates, long_polling_timeout)\u001b[0m\n\u001b[1;32m    335\u001b[0m         \u001b[0;34m:\u001b[0m\u001b[0;32mreturn\u001b[0m\u001b[0;34m:\u001b[0m \u001b[0marray\u001b[0m \u001b[0mof\u001b[0m \u001b[0mUpdates\u001b[0m\u001b[0;34m\u001b[0m\u001b[0;34m\u001b[0m\u001b[0m\n\u001b[1;32m    336\u001b[0m         \"\"\"\n\u001b[0;32m--> 337\u001b[0;31m         \u001b[0mjson_updates\u001b[0m \u001b[0;34m=\u001b[0m \u001b[0mapihelper\u001b[0m\u001b[0;34m.\u001b[0m\u001b[0mget_updates\u001b[0m\u001b[0;34m(\u001b[0m\u001b[0mself\u001b[0m\u001b[0;34m.\u001b[0m\u001b[0mtoken\u001b[0m\u001b[0;34m,\u001b[0m \u001b[0moffset\u001b[0m\u001b[0;34m,\u001b[0m \u001b[0mlimit\u001b[0m\u001b[0;34m,\u001b[0m \u001b[0mtimeout\u001b[0m\u001b[0;34m,\u001b[0m \u001b[0mallowed_updates\u001b[0m\u001b[0;34m,\u001b[0m \u001b[0mlong_polling_timeout\u001b[0m\u001b[0;34m)\u001b[0m\u001b[0;34m\u001b[0m\u001b[0;34m\u001b[0m\u001b[0m\n\u001b[0m\u001b[1;32m    338\u001b[0m         \u001b[0;32mreturn\u001b[0m \u001b[0;34m[\u001b[0m\u001b[0mtypes\u001b[0m\u001b[0;34m.\u001b[0m\u001b[0mUpdate\u001b[0m\u001b[0;34m.\u001b[0m\u001b[0mde_json\u001b[0m\u001b[0;34m(\u001b[0m\u001b[0mju\u001b[0m\u001b[0;34m)\u001b[0m \u001b[0;32mfor\u001b[0m \u001b[0mju\u001b[0m \u001b[0;32min\u001b[0m \u001b[0mjson_updates\u001b[0m\u001b[0;34m]\u001b[0m\u001b[0;34m\u001b[0m\u001b[0;34m\u001b[0m\u001b[0m\n\u001b[1;32m    339\u001b[0m \u001b[0;34m\u001b[0m\u001b[0m\n",
            "\u001b[0;32m/usr/local/lib/python3.7/dist-packages/telebot/apihelper.py\u001b[0m in \u001b[0;36mget_updates\u001b[0;34m(token, offset, limit, timeout, allowed_updates, long_polling_timeout)\u001b[0m\n\u001b[1;32m    320\u001b[0m     \u001b[0;32mif\u001b[0m \u001b[0mallowed_updates\u001b[0m \u001b[0;32mis\u001b[0m \u001b[0;32mnot\u001b[0m \u001b[0;32mNone\u001b[0m\u001b[0;34m:\u001b[0m  \u001b[0;31m# Empty lists should pass\u001b[0m\u001b[0;34m\u001b[0m\u001b[0;34m\u001b[0m\u001b[0m\n\u001b[1;32m    321\u001b[0m         \u001b[0mpayload\u001b[0m\u001b[0;34m[\u001b[0m\u001b[0;34m'allowed_updates'\u001b[0m\u001b[0;34m]\u001b[0m \u001b[0;34m=\u001b[0m \u001b[0mjson\u001b[0m\u001b[0;34m.\u001b[0m\u001b[0mdumps\u001b[0m\u001b[0;34m(\u001b[0m\u001b[0mallowed_updates\u001b[0m\u001b[0;34m)\u001b[0m\u001b[0;34m\u001b[0m\u001b[0;34m\u001b[0m\u001b[0m\n\u001b[0;32m--> 322\u001b[0;31m     \u001b[0;32mreturn\u001b[0m \u001b[0m_make_request\u001b[0m\u001b[0;34m(\u001b[0m\u001b[0mtoken\u001b[0m\u001b[0;34m,\u001b[0m \u001b[0mmethod_url\u001b[0m\u001b[0;34m,\u001b[0m \u001b[0mparams\u001b[0m\u001b[0;34m=\u001b[0m\u001b[0mpayload\u001b[0m\u001b[0;34m)\u001b[0m\u001b[0;34m\u001b[0m\u001b[0;34m\u001b[0m\u001b[0m\n\u001b[0m\u001b[1;32m    323\u001b[0m \u001b[0;34m\u001b[0m\u001b[0m\n\u001b[1;32m    324\u001b[0m \u001b[0;34m\u001b[0m\u001b[0m\n",
            "\u001b[0;32m/usr/local/lib/python3.7/dist-packages/telebot/apihelper.py\u001b[0m in \u001b[0;36m_make_request\u001b[0;34m(token, method_name, method, params, files)\u001b[0m\n\u001b[1;32m     78\u001b[0m     \"\"\"\n\u001b[1;32m     79\u001b[0m     \u001b[0;32mif\u001b[0m \u001b[0;32mnot\u001b[0m \u001b[0mtoken\u001b[0m\u001b[0;34m:\u001b[0m\u001b[0;34m\u001b[0m\u001b[0;34m\u001b[0m\u001b[0m\n\u001b[0;32m---> 80\u001b[0;31m         \u001b[0;32mraise\u001b[0m \u001b[0mException\u001b[0m\u001b[0;34m(\u001b[0m\u001b[0;34m'Bot token is not defined'\u001b[0m\u001b[0;34m)\u001b[0m\u001b[0;34m\u001b[0m\u001b[0;34m\u001b[0m\u001b[0m\n\u001b[0m\u001b[1;32m     81\u001b[0m     \u001b[0;32mif\u001b[0m \u001b[0mAPI_URL\u001b[0m\u001b[0;34m:\u001b[0m\u001b[0;34m\u001b[0m\u001b[0;34m\u001b[0m\u001b[0m\n\u001b[1;32m     82\u001b[0m         \u001b[0;31m# noinspection PyUnresolvedReferences\u001b[0m\u001b[0;34m\u001b[0m\u001b[0;34m\u001b[0m\u001b[0;34m\u001b[0m\u001b[0m\n",
            "\u001b[0;31mException\u001b[0m: Bot token is not defined"
          ]
        }
      ]
    },
    {
      "cell_type": "markdown",
      "metadata": {
        "id": "6WoezvbRhTdE"
      },
      "source": [
        "## Шаг 6. Тестируем бота\n",
        "\n",
        "Посмотрим, что может наш бот. Найти его в телеграме можно по тому юзернейму, который вы указали — например, `@EugeneOneginBot`.\n",
        "\n",
        "1. Если отправить ему команду `/send`, то он пришлет случайную цитату (одно предложение) из «Евгения Онегина».\n",
        "\n",
        "<img src=\"https://raw.githubusercontent.com/ancatmara/skillfactory/master/img/send.png\" width=\"550\" align=\"left\">\n",
        "\n",
        "\n"
      ]
    },
    {
      "cell_type": "markdown",
      "metadata": {
        "id": "gZsPhFm7Af9e"
      },
      "source": [
        "2. Если отправить ему любое слово или фразу, он попытается найти ее в тексте и прислать нам результат.\n",
        "\n",
        "<img src=\"https://raw.githubusercontent.com/ancatmara/skillfactory/master/img/search.png\" width=\"550\" align=\"left\">"
      ]
    },
    {
      "cell_type": "markdown",
      "metadata": {
        "id": "-kaJiK7QAkh8"
      },
      "source": [
        "3. Если ничего не найдется, бот нам об этом скажет.\n",
        "\n",
        "<img src=\"https://raw.githubusercontent.com/ancatmara/skillfactory/master/img/not_found.png\" width=\"550\" align=\"left\">"
      ]
    },
    {
      "cell_type": "markdown",
      "metadata": {
        "id": "_x7U48fChTdG"
      },
      "source": [
        "## Шаг 7. Дополнительные настройки\n",
        "\n",
        "С помощью `@BotFather` можно сделать для нашего бота описание, список команд, аватарку и еще много чего.\n",
        "\n",
        "<img src=\"https://raw.githubusercontent.com/ancatmara/skillfactory/master/img/botfather.png\" width=\"350\" align=\"left\">\n",
        "\n"
      ]
    },
    {
      "cell_type": "markdown",
      "metadata": {
        "id": "mgNJbRtLBzQn"
      },
      "source": [
        "**Список команд**\n",
        "\n",
        "<img src=\"https://raw.githubusercontent.com/ancatmara/skillfactory/master/img/setcommands.png\" width=\"500\" align=\"left\">"
      ]
    },
    {
      "cell_type": "markdown",
      "metadata": {
        "id": "HP5LwYyYhTdG"
      },
      "source": [
        "Теперь, когда пользователь введет `\\` в чате с ботом, он увидит выплывающий список команд:\n",
        "\n",
        "<img src=\"https://raw.githubusercontent.com/ancatmara/skillfactory/master/img/commands.png\" width=\"500\" align=\"left\">"
      ]
    },
    {
      "cell_type": "markdown",
      "metadata": {
        "id": "ukT8BbOihTdH"
      },
      "source": [
        "**Описание**\n",
        "\n",
        "<img src=\"https://raw.githubusercontent.com/ancatmara/skillfactory/master/img/setdescription.png\" width=\"500\" align=\"left\">"
      ]
    },
    {
      "cell_type": "markdown",
      "metadata": {
        "id": "YnWOyzZ6hTdH"
      },
      "source": [
        "Описание появится в самом начале чата с ботом.\n",
        "\n",
        "<img src=\"https://raw.githubusercontent.com/ancatmara/skillfactory/master/img/descr.png\" width=\"500\" align=\"left\">"
      ]
    },
    {
      "cell_type": "markdown",
      "metadata": {
        "id": "UXDtc-w7CCYl"
      },
      "source": [
        "Поздравляем, вы справились! Как видите, в программировании ничего сложного нет.\n",
        "\n",
        "Эта задача — ваш первый маленький, но важный шаг на пути к серьезной профессии. Стать профессионалом и получить высокооплачиваемую профессию можно с нуля.\n",
        "\n",
        "Больше секретов по ссылке: https://clck.ru/P5ACf\n"
      ]
    }
  ]
}